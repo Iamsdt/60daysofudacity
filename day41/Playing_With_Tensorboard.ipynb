{
 "cells": [
  {
   "cell_type": "code",
   "execution_count": 1,
   "metadata": {
    "id": "6i1ZzAGccwz3",
    "colab_type": "code",
    "outputId": "8c566e28-efe9-4412-84f0-ac3f375ec37c",
    "colab": {
     "base_uri": "https://localhost:8080/",
     "height": 34.0
    }
   },
   "outputs": [
    {
     "name": "stderr",
     "output_type": "stream",
     "text": [
      "Using TensorFlow backend.\n"
     ]
    }
   ],
   "source": [
    "from tensorboardcolab import *"
   ]
  },
  {
   "cell_type": "code",
   "execution_count": 2,
   "metadata": {
    "id": "CPcpL-U-c5WO",
    "colab_type": "code",
    "outputId": "72ee47f3-2699-48b6-b9d5-05cb3161a6af",
    "colab": {
     "base_uri": "https://localhost:8080/",
     "height": 85.0
    }
   },
   "outputs": [
    {
     "name": "stderr",
     "output_type": "stream",
     "text": [
      "\r0it [00:00, ?it/s]"
     ]
    },
    {
     "name": "stdout",
     "output_type": "stream",
     "text": [
      "Downloading https://www.cs.toronto.edu/~kriz/cifar-10-python.tar.gz to data/cifar-10-python.tar.gz\n"
     ]
    },
    {
     "name": "stderr",
     "output_type": "stream",
     "text": [
      "170500096it [00:04, 37675856.35it/s]                               \n"
     ]
    },
    {
     "name": "stdout",
     "output_type": "stream",
     "text": [
      "Files already downloaded and verified\n",
      "1563\n"
     ]
    }
   ],
   "source": [
    "from torchvision import datasets, transforms\n",
    "from torch.utils.data import DataLoader\n",
    "\n",
    "transform = transforms.Compose(\n",
    "    [transforms.ToTensor(),\n",
    "     transforms.Normalize((0.5, 0.5, 0.5), (0.5, 0.5, 0.5))])\n",
    "\n",
    "train_data = datasets.CIFAR10(\"data\",\n",
    "                              train=True,\n",
    "                              transform=transform,\n",
    "                              download=True)\n",
    "\n",
    "test_data = datasets.CIFAR10(\"data\",\n",
    "                             train=False,\n",
    "                             transform=transform,\n",
    "                             download=True)\n",
    "\n",
    "# Load data\n",
    "batch_size = 32\n",
    "train_loader = DataLoader(dataset=train_data,\n",
    "                          batch_size=batch_size,\n",
    "                          shuffle=True,\n",
    "                          num_workers=5)\n",
    "\n",
    "test_loader = DataLoader(dataset=test_data,\n",
    "                         batch_size=batch_size,\n",
    "                         shuffle=True,\n",
    "                         num_workers=5)\n",
    "\n",
    "\n",
    "print(len(train_loader))\n",
    "classes = ('plane', 'car', 'bird', 'cat',\n",
    "           'deer', 'dog', 'frog', 'horse', 'ship', 'truck')"
   ]
  },
  {
   "cell_type": "code",
   "execution_count": 0,
   "metadata": {
    "id": "LEBIxM9sdEtT",
    "colab_type": "code",
    "colab": {}
   },
   "outputs": [],
   "source": [
    "import torch.nn as nn\n",
    "import torch.nn.functional as F\n",
    "\n",
    "class Model(nn.Module):\n",
    "  def __init__(self):\n",
    "    super(Model,self).__init__()\n",
    "    #Linear layer\n",
    "    self.linear1 = nn.Linear(3072, 786)\n",
    "    self.linear2 = nn.Linear(786, 512)\n",
    "    self.linear3 = nn.Linear(512, 256)\n",
    "    self.linear4 = nn.Linear(256, 128)\n",
    "    self.linear5 = nn.Linear(128, 64)\n",
    "    self.linear6 = nn.Linear(64, 10)\n",
    "    #dropout\n",
    "    self.dropout = nn.Dropout(0.2)\n",
    "    \n",
    "  def forward(self, x):\n",
    "    x = x.view(x.shape[0], -1) #flaten the tensor\n",
    "    out1 = self.dropout(F.relu(self.linear1(x)))\n",
    "    out2 = self.dropout(F.relu(self.linear2(out1)))\n",
    "    out3 = self.dropout(F.relu(self.linear3(out2)))\n",
    "    out4 = self.dropout(F.relu(self.linear4(out3)))\n",
    "    out5 = self.dropout(F.relu(self.linear5(out4)))\n",
    "    out6 = self.linear6(out5)\n",
    "    out7 = F.softmax(out6)\n",
    "    \n",
    "    return out7"
   ]
  },
  {
   "cell_type": "code",
   "execution_count": 0,
   "metadata": {
    "id": "i7-xPPzzeHb3",
    "colab_type": "code",
    "colab": {}
   },
   "outputs": [],
   "source": [
    "model = Model()"
   ]
  },
  {
   "cell_type": "code",
   "execution_count": 5,
   "metadata": {
    "id": "7F2W7zspdcSc",
    "colab_type": "code",
    "outputId": "b44c9d2c-7edb-49f2-9302-b511afff2ebb",
    "colab": {
     "base_uri": "https://localhost:8080/",
     "height": 139.0
    }
   },
   "outputs": [
    {
     "name": "stdout",
     "output_type": "stream",
     "text": [
      "Wait for 8 seconds...\n"
     ]
    },
    {
     "name": "stderr",
     "output_type": "stream",
     "text": [
      "WARNING: Logging before flag parsing goes to stderr.\n",
      "W0807 17:57:58.801414 140468335511424 deprecation_wrapper.py:119] From /usr/local/lib/python3.6/dist-packages/tensorboardcolab/core.py:49: The name tf.summary.FileWriter is deprecated. Please use tf.compat.v1.summary.FileWriter instead.\n",
      "\n"
     ]
    },
    {
     "name": "stdout",
     "output_type": "stream",
     "text": [
      "TensorBoard link:\n",
      "http://e80987e0.ngrok.io\n"
     ]
    }
   ],
   "source": [
    "tbc=TensorBoardColab()\n",
    "writer = tbc.get_writer()"
   ]
  },
  {
   "cell_type": "code",
   "execution_count": 0,
   "metadata": {
    "id": "tC7rPu93d7kq",
    "colab_type": "code",
    "outputId": "f84bf12b-184b-4dcf-e372-fcdcfc2c496c",
    "colab": {
     "base_uri": "https://localhost:8080/",
     "height": 333.0
    }
   },
   "outputs": [
    {
     "ename": "TypeError",
     "evalue": "ignored",
     "traceback": [
      "\u001b[0;31m---------------------------------------------------------------------------\u001b[0m",
      "\u001b[0;31mTypeError\u001b[0m                                 Traceback (most recent call last)",
      "\u001b[0;32m<ipython-input-11-029ad4356e4f>\u001b[0m in \u001b[0;36m<module>\u001b[0;34m()\u001b[0m\n\u001b[1;32m      2\u001b[0m \u001b[0;32mfrom\u001b[0m \u001b[0mtorchvision\u001b[0m\u001b[0;34m.\u001b[0m\u001b[0mutils\u001b[0m \u001b[0;32mimport\u001b[0m \u001b[0mmake_grid\u001b[0m\u001b[0;34m\u001b[0m\u001b[0;34m\u001b[0m\u001b[0m\n\u001b[1;32m      3\u001b[0m \u001b[0mgrid\u001b[0m \u001b[0;34m=\u001b[0m \u001b[0mmake_grid\u001b[0m\u001b[0;34m(\u001b[0m\u001b[0mimages\u001b[0m\u001b[0;34m)\u001b[0m\u001b[0;34m\u001b[0m\u001b[0;34m\u001b[0m\u001b[0m\n\u001b[0;32m----> 4\u001b[0;31m \u001b[0mwriter\u001b[0m\u001b[0;34m.\u001b[0m\u001b[0madd_graph\u001b[0m\u001b[0;34m(\u001b[0m\u001b[0mmodel\u001b[0m\u001b[0;34m,\u001b[0m \u001b[0mgrid\u001b[0m\u001b[0;34m)\u001b[0m\u001b[0;34m\u001b[0m\u001b[0;34m\u001b[0m\u001b[0m\n\u001b[0m\u001b[1;32m      5\u001b[0m \u001b[0mwriter\u001b[0m\u001b[0;34m.\u001b[0m\u001b[0mclose\u001b[0m\u001b[0;34m(\u001b[0m\u001b[0;34m)\u001b[0m\u001b[0;34m\u001b[0m\u001b[0;34m\u001b[0m\u001b[0m\n",
      "\u001b[0;32m/usr/local/lib/python3.6/dist-packages/tensorflow/python/summary/writer/writer.py\u001b[0m in \u001b[0;36madd_graph\u001b[0;34m(self, graph, global_step, graph_def)\u001b[0m\n\u001b[1;32m    209\u001b[0m     \u001b[0;32melse\u001b[0m\u001b[0;34m:\u001b[0m\u001b[0;34m\u001b[0m\u001b[0;34m\u001b[0m\u001b[0m\n\u001b[1;32m    210\u001b[0m       \u001b[0;31m# The user passed neither `Graph`, nor `GraphDef`.\u001b[0m\u001b[0;34m\u001b[0m\u001b[0;34m\u001b[0m\u001b[0;34m\u001b[0m\u001b[0m\n\u001b[0;32m--> 211\u001b[0;31m       raise TypeError(\"The passed graph must be an instance of `Graph` \"\n\u001b[0m\u001b[1;32m    212\u001b[0m                       \"or the deprecated `GraphDef`\")\n\u001b[1;32m    213\u001b[0m     \u001b[0;31m# Finally, add the graph_def to the summary writer.\u001b[0m\u001b[0;34m\u001b[0m\u001b[0;34m\u001b[0m\u001b[0;34m\u001b[0m\u001b[0m\n",
      "\u001b[0;31mTypeError\u001b[0m: The passed graph must be an instance of `Graph` or the deprecated `GraphDef`"
     ],
     "output_type": "error"
    }
   ],
   "source": [
    "images, labels = next(iter(train_loader))\n",
    "from torchvision.utils import make_grid\n",
    "\n",
    "from torch.utils.tensorboard import SummaryWriter\n",
    "\n",
    "summ = SummaryWriter()\n",
    "summ.add_image('Images', grid)\n",
    "\n",
    "\n",
    "writer.add_summary()\n",
    "writer.close()"
   ]
  }
 ],
 "metadata": {
  "colab": {
   "name": "Playing With Tensorboard.ipynb",
   "version": "0.3.2",
   "provenance": []
  },
  "kernelspec": {
   "name": "python3",
   "display_name": "Python 3"
  }
 },
 "nbformat": 4,
 "nbformat_minor": 0
}
