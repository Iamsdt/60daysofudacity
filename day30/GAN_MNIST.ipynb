{
 "cells": [
  {
   "cell_type": "code",
   "execution_count": 0,
   "metadata": {
    "id": "cbHV08HPJwPn",
    "colab_type": "code",
    "colab": {}
   },
   "outputs": [],
   "source": [
    "%matplotlib inline\n",
    "\n",
    "import numpy as np\n",
    "import torch\n",
    "import matplotlib.pyplot as plt"
   ]
  },
  {
   "cell_type": "markdown",
   "metadata": {
    "id": "zTLD1-epLCJO",
    "colab_type": "text"
   },
   "source": [
    "# Prepare Data"
   ]
  },
  {
   "cell_type": "code",
   "execution_count": 2,
   "metadata": {
    "id": "VjBq5Nh5J1YY",
    "colab_type": "code",
    "colab": {
     "base_uri": "https://localhost:8080/",
     "height": 255.0
    },
    "outputId": "00ce7506-ab96-426b-e3e2-27213ec1f111"
   },
   "outputs": [
    {
     "name": "stderr",
     "output_type": "stream",
     "text": [
      "\r0it [00:00, ?it/s]"
     ]
    },
    {
     "name": "stdout",
     "output_type": "stream",
     "text": [
      "Downloading http://yann.lecun.com/exdb/mnist/train-images-idx3-ubyte.gz to data/MNIST/raw/train-images-idx3-ubyte.gz\n"
     ]
    },
    {
     "name": "stderr",
     "output_type": "stream",
     "text": [
      "9920512it [00:01, 8125821.68it/s]                            \n"
     ]
    },
    {
     "name": "stdout",
     "output_type": "stream",
     "text": [
      "Extracting data/MNIST/raw/train-images-idx3-ubyte.gz\n"
     ]
    },
    {
     "name": "stderr",
     "output_type": "stream",
     "text": [
      "  0%|          | 0/28881 [00:00<?, ?it/s]"
     ]
    },
    {
     "name": "stdout",
     "output_type": "stream",
     "text": [
      "Downloading http://yann.lecun.com/exdb/mnist/train-labels-idx1-ubyte.gz to data/MNIST/raw/train-labels-idx1-ubyte.gz\n"
     ]
    },
    {
     "name": "stderr",
     "output_type": "stream",
     "text": [
      "32768it [00:00, 130496.17it/s]           \n",
      "  0%|          | 0/1648877 [00:00<?, ?it/s]"
     ]
    },
    {
     "name": "stdout",
     "output_type": "stream",
     "text": [
      "Extracting data/MNIST/raw/train-labels-idx1-ubyte.gz\n",
      "Downloading http://yann.lecun.com/exdb/mnist/t10k-images-idx3-ubyte.gz to data/MNIST/raw/t10k-images-idx3-ubyte.gz\n"
     ]
    },
    {
     "name": "stderr",
     "output_type": "stream",
     "text": [
      "1654784it [00:00, 2112656.84it/s]                           \n",
      "0it [00:00, ?it/s]"
     ]
    },
    {
     "name": "stdout",
     "output_type": "stream",
     "text": [
      "Extracting data/MNIST/raw/t10k-images-idx3-ubyte.gz\n",
      "Downloading http://yann.lecun.com/exdb/mnist/t10k-labels-idx1-ubyte.gz to data/MNIST/raw/t10k-labels-idx1-ubyte.gz\n"
     ]
    },
    {
     "name": "stderr",
     "output_type": "stream",
     "text": [
      "8192it [00:00, 49206.25it/s]            \n"
     ]
    },
    {
     "name": "stdout",
     "output_type": "stream",
     "text": [
      "Extracting data/MNIST/raw/t10k-labels-idx1-ubyte.gz\n",
      "Processing...\n",
      "Done!\n"
     ]
    }
   ],
   "source": [
    "from torchvision import datasets\n",
    "import torchvision.transforms as transforms\n",
    "\n",
    "# number of subprocesses to use for data loading\n",
    "num_workers = 0\n",
    "# how many samples per batch to load\n",
    "batch_size = 64\n",
    "\n",
    "# convert data to torch.FloatTensor\n",
    "transform = transforms.ToTensor()\n",
    "\n",
    "# get the training datasets\n",
    "train_data = datasets.MNIST(root='data', train=True,\n",
    "                                   download=True, transform=transform)\n",
    "\n",
    "# prepare data loader\n",
    "train_loader = torch.utils.data.DataLoader(train_data, batch_size=batch_size,\n",
    "                                           num_workers=num_workers)"
   ]
  },
  {
   "cell_type": "markdown",
   "metadata": {
    "id": "C26g7ke4LFWr",
    "colab_type": "text"
   },
   "source": [
    "# Visualize Data"
   ]
  },
  {
   "cell_type": "code",
   "execution_count": 3,
   "metadata": {
    "id": "CRfhfktxJ8oj",
    "colab_type": "code",
    "colab": {
     "base_uri": "https://localhost:8080/",
     "height": 231.0
    },
    "outputId": "63dc09b9-e3f6-43c1-c0d6-6c59a68ca4a7"
   },
   "outputs": [
    {
     "data": {
      "text/plain": [
       "<matplotlib.image.AxesImage at 0x7f06f7fbc5c0>"
      ]
     },
     "execution_count": 3,
     "metadata": {
      "tags": []
     },
     "output_type": "execute_result"
    },
    {
     "data": {
      "image/png": "[encoded data removed]",
      "text/plain": [
       "<Figure size 216x216 with 1 Axes>"
      ]
     },
     "metadata": {
      "tags": []
     },
     "output_type": "display_data"
    }
   ],
   "source": [
    "# obtain one batch of training images\n",
    "dataiter = iter(train_loader)\n",
    "images, labels = dataiter.next()\n",
    "images = images.numpy()\n",
    "\n",
    "# get one image from the batch\n",
    "img = np.squeeze(images[0])\n",
    "\n",
    "fig = plt.figure(figsize = (3,3)) \n",
    "ax = fig.add_subplot(111)\n",
    "ax.imshow(img, cmap='gray')"
   ]
  },
  {
   "cell_type": "markdown",
   "metadata": {
    "id": "_9ZMQ58TLI_J",
    "colab_type": "text"
   },
   "source": [
    "# Create Discriminator \n",
    "like previous model"
   ]
  },
  {
   "cell_type": "code",
   "execution_count": 0,
   "metadata": {
    "id": "6P6Y1rrMKDIr",
    "colab_type": "code",
    "colab": {}
   },
   "outputs": [],
   "source": [
    "import torch.nn as nn\n",
    "import torch.nn.functional as F\n",
    "\n",
    "class Discriminator(nn.Module):\n",
    "\n",
    "    def __init__(self, input_size, hidden_dim, output_size):\n",
    "        super(Discriminator, self).__init__()\n",
    "        \n",
    "        # define hidden linear layers\n",
    "        self.fc1 = nn.Linear(input_size, hidden_dim*4)\n",
    "        self.fc2 = nn.Linear(hidden_dim*4, hidden_dim*2)\n",
    "        self.fc3 = nn.Linear(hidden_dim*2, hidden_dim)\n",
    "        \n",
    "        # final fully-connected layer\n",
    "        self.fc4 = nn.Linear(hidden_dim, output_size)\n",
    "        \n",
    "        # dropout layer \n",
    "        self.dropout = nn.Dropout(0.3)\n",
    "        \n",
    "        \n",
    "    def forward(self, x):\n",
    "        # flatten image\n",
    "        x = x.view(-1, 28*28)\n",
    "        # all hidden layers\n",
    "        x = F.leaky_relu(self.fc1(x), 0.2) # (input, negative_slope=0.2)\n",
    "        x = self.dropout(x)\n",
    "        x = F.leaky_relu(self.fc2(x), 0.2)\n",
    "        x = self.dropout(x)\n",
    "        x = F.leaky_relu(self.fc3(x), 0.2)\n",
    "        x = self.dropout(x)\n",
    "        # final layer\n",
    "        out = self.fc4(x)\n",
    "\n",
    "        return out"
   ]
  },
  {
   "cell_type": "markdown",
   "metadata": {
    "id": "5ScRoLtqLQqA",
    "colab_type": "text"
   },
   "source": [
    "# Generator"
   ]
  },
  {
   "cell_type": "code",
   "execution_count": 0,
   "metadata": {
    "id": "KBF8shnHKEJ_",
    "colab_type": "code",
    "colab": {}
   },
   "outputs": [],
   "source": [
    "class Generator(nn.Module):\n",
    "\n",
    "    def __init__(self, input_size, hidden_dim, output_size):\n",
    "        super(Generator, self).__init__()\n",
    "        \n",
    "        # define hidden linear layers\n",
    "        self.fc1 = nn.Linear(input_size, hidden_dim)\n",
    "        self.fc2 = nn.Linear(hidden_dim, hidden_dim*2)\n",
    "        self.fc3 = nn.Linear(hidden_dim*2, hidden_dim*4)\n",
    "        \n",
    "        # final fully-connected layer\n",
    "        self.fc4 = nn.Linear(hidden_dim*4, output_size)\n",
    "        \n",
    "        # dropout layer \n",
    "        self.dropout = nn.Dropout(0.3)\n",
    "\n",
    "    def forward(self, x):\n",
    "        # all hidden layers\n",
    "        x = F.leaky_relu(self.fc1(x), 0.2) # (input, negative_slope=0.2)\n",
    "        x = self.dropout(x)\n",
    "        x = F.leaky_relu(self.fc2(x), 0.2)\n",
    "        x = self.dropout(x)\n",
    "        x = F.leaky_relu(self.fc3(x), 0.2)\n",
    "        x = self.dropout(x)\n",
    "        # final layer with tanh applied\n",
    "        out = F.tanh(self.fc4(x))\n",
    "\n",
    "        return out"
   ]
  },
  {
   "cell_type": "markdown",
   "metadata": {
    "id": "0936_N-ULX1R",
    "colab_type": "text"
   },
   "source": [
    "# Hyper parameters"
   ]
  },
  {
   "cell_type": "code",
   "execution_count": 0,
   "metadata": {
    "id": "GOrXT2DdKHQM",
    "colab_type": "code",
    "colab": {}
   },
   "outputs": [],
   "source": [
    "# Discriminator hyperparams\n",
    "\n",
    "input_size = 784\n",
    "d_output_size = 1\n",
    "d_hidden_size = 32\n",
    "\n",
    "# Generator hyperparams\n",
    "\n",
    "z_size = 100\n",
    "g_output_size = 784\n",
    "g_hidden_size = 32"
   ]
  },
  {
   "cell_type": "markdown",
   "metadata": {
    "id": "Jzlb_gmgLqQh",
    "colab_type": "text"
   },
   "source": [
    "# Create models"
   ]
  },
  {
   "cell_type": "code",
   "execution_count": 7,
   "metadata": {
    "id": "9RWbm78AKKvB",
    "colab_type": "code",
    "colab": {
     "base_uri": "https://localhost:8080/",
     "height": 272.0
    },
    "outputId": "9de25fda-0825-46cd-bcd1-5ca311eb2f9e"
   },
   "outputs": [
    {
     "name": "stdout",
     "output_type": "stream",
     "text": [
      "Discriminator(\n",
      "  (fc1): Linear(in_features=784, out_features=128, bias=True)\n",
      "  (fc2): Linear(in_features=128, out_features=64, bias=True)\n",
      "  (fc3): Linear(in_features=64, out_features=32, bias=True)\n",
      "  (fc4): Linear(in_features=32, out_features=1, bias=True)\n",
      "  (dropout): Dropout(p=0.3)\n",
      ")\n",
      "\n",
      "Generator(\n",
      "  (fc1): Linear(in_features=100, out_features=32, bias=True)\n",
      "  (fc2): Linear(in_features=32, out_features=64, bias=True)\n",
      "  (fc3): Linear(in_features=64, out_features=128, bias=True)\n",
      "  (fc4): Linear(in_features=128, out_features=784, bias=True)\n",
      "  (dropout): Dropout(p=0.3)\n",
      ")\n"
     ]
    }
   ],
   "source": [
    "# instantiate discriminator and generator\n",
    "D = Discriminator(input_size, d_hidden_size, d_output_size)\n",
    "G = Generator(z_size, g_hidden_size, g_output_size)\n",
    "\n",
    "# check that they are as you expect\n",
    "print(D)\n",
    "print()\n",
    "print(G)"
   ]
  },
  {
   "cell_type": "markdown",
   "metadata": {
    "id": "1DszisIeLv5Z",
    "colab_type": "text"
   },
   "source": [
    "# Calculating Loss"
   ]
  },
  {
   "cell_type": "code",
   "execution_count": 0,
   "metadata": {
    "id": "P_Xv9PFQKQNl",
    "colab_type": "code",
    "colab": {}
   },
   "outputs": [],
   "source": [
    "# Calculate losses\n",
    "def real_loss(D_out, smooth=False):\n",
    "    batch_size = D_out.size(0)\n",
    "    # label smoothing\n",
    "    if smooth:\n",
    "        # smooth, real labels = 0.9\n",
    "        labels = torch.ones(batch_size)*0.9\n",
    "    else:\n",
    "        labels = torch.ones(batch_size) # real labels = 1\n",
    "        \n",
    "    # numerically stable loss\n",
    "    criterion = nn.BCEWithLogitsLoss()\n",
    "    # calculate loss\n",
    "    loss = criterion(D_out.squeeze(), labels)\n",
    "    return loss\n",
    "\n",
    "def fake_loss(D_out):\n",
    "    batch_size = D_out.size(0)\n",
    "    labels = torch.zeros(batch_size) # fake labels = 0\n",
    "    criterion = nn.BCEWithLogitsLoss()\n",
    "    # calculate loss\n",
    "    loss = criterion(D_out.squeeze(), labels)\n",
    "    return loss"
   ]
  },
  {
   "cell_type": "markdown",
   "metadata": {
    "id": "vjHjQm0VLzJC",
    "colab_type": "text"
   },
   "source": [
    "# Optimizer"
   ]
  },
  {
   "cell_type": "code",
   "execution_count": 0,
   "metadata": {
    "id": "FHo2VyAeKSBC",
    "colab_type": "code",
    "colab": {}
   },
   "outputs": [],
   "source": [
    "import torch.optim as optim\n",
    "\n",
    "# Optimizers\n",
    "lr = 0.002\n",
    "\n",
    "# Create optimizers for the discriminator and generator\n",
    "d_optimizer = optim.Adam(D.parameters(), lr)\n",
    "g_optimizer = optim.Adam(G.parameters(), lr)"
   ]
  },
  {
   "cell_type": "code",
   "execution_count": 10,
   "metadata": {
    "id": "EHF236OhKURx",
    "colab_type": "code",
    "colab": {
     "base_uri": "https://localhost:8080/",
     "height": 1000.0
    },
    "outputId": "b0b8f0a5-4a91-408a-cfcb-89003233bd10"
   },
   "outputs": [
    {
     "name": "stderr",
     "output_type": "stream",
     "text": [
      "/usr/local/lib/python3.6/dist-packages/torch/nn/functional.py:1374: UserWarning: nn.functional.tanh is deprecated. Use torch.tanh instead.\n",
      "  warnings.warn(\"nn.functional.tanh is deprecated. Use torch.tanh instead.\")\n"
     ]
    },
    {
     "name": "stdout",
     "output_type": "stream",
     "text": [
      "Epoch [    1/  100] | d_loss: 1.3748 | g_loss: 0.7470\n",
      "Epoch [    1/  100] | d_loss: 0.7259 | g_loss: 4.1299\n",
      "Epoch [    1/  100] | d_loss: 0.9144 | g_loss: 2.8207\n",
      "Epoch [    2/  100] | d_loss: 1.0755 | g_loss: 3.2850\n",
      "Epoch [    2/  100] | d_loss: 1.2340 | g_loss: 1.1121\n",
      "Epoch [    2/  100] | d_loss: 1.3311 | g_loss: 0.8378\n",
      "Epoch [    3/  100] | d_loss: 1.4081 | g_loss: 0.9145\n",
      "Epoch [    3/  100] | d_loss: 1.3141 | g_loss: 0.8729\n",
      "Epoch [    3/  100] | d_loss: 1.3047 | g_loss: 1.6711\n",
      "Epoch [    4/  100] | d_loss: 1.2378 | g_loss: 0.9821\n",
      "Epoch [    4/  100] | d_loss: 1.2375 | g_loss: 0.9546\n",
      "Epoch [    4/  100] | d_loss: 1.3149 | g_loss: 1.1705\n",
      "Epoch [    5/  100] | d_loss: 1.2945 | g_loss: 1.2195\n",
      "Epoch [    5/  100] | d_loss: 1.2159 | g_loss: 0.9387\n",
      "Epoch [    5/  100] | d_loss: 0.7725 | g_loss: 3.0284\n",
      "Epoch [    6/  100] | d_loss: 1.0900 | g_loss: 1.5265\n",
      "Epoch [    6/  100] | d_loss: 1.2022 | g_loss: 0.9509\n",
      "Epoch [    6/  100] | d_loss: 1.1287 | g_loss: 1.5550\n",
      "Epoch [    7/  100] | d_loss: 1.1321 | g_loss: 1.0835\n",
      "Epoch [    7/  100] | d_loss: 1.2615 | g_loss: 1.0006\n",
      "Epoch [    7/  100] | d_loss: 1.1760 | g_loss: 1.4850\n",
      "Epoch [    8/  100] | d_loss: 1.3124 | g_loss: 1.0020\n",
      "Epoch [    8/  100] | d_loss: 1.2027 | g_loss: 1.5743\n",
      "Epoch [    8/  100] | d_loss: 1.1931 | g_loss: 1.1462\n",
      "Epoch [    9/  100] | d_loss: 1.2828 | g_loss: 1.1888\n",
      "Epoch [    9/  100] | d_loss: 1.1335 | g_loss: 1.3749\n",
      "Epoch [    9/  100] | d_loss: 1.2679 | g_loss: 1.0020\n",
      "Epoch [   10/  100] | d_loss: 1.1939 | g_loss: 1.4404\n",
      "Epoch [   10/  100] | d_loss: 1.1393 | g_loss: 1.7665\n",
      "Epoch [   10/  100] | d_loss: 1.3603 | g_loss: 1.0898\n",
      "Epoch [   11/  100] | d_loss: 1.2333 | g_loss: 1.1735\n",
      "Epoch [   11/  100] | d_loss: 1.2053 | g_loss: 1.0682\n",
      "Epoch [   11/  100] | d_loss: 1.2689 | g_loss: 1.5582\n",
      "Epoch [   12/  100] | d_loss: 1.2438 | g_loss: 1.2589\n",
      "Epoch [   12/  100] | d_loss: 1.1609 | g_loss: 1.8496\n",
      "Epoch [   12/  100] | d_loss: 1.2383 | g_loss: 1.2390\n",
      "Epoch [   13/  100] | d_loss: 1.2535 | g_loss: 0.9626\n",
      "Epoch [   13/  100] | d_loss: 1.1870 | g_loss: 0.9503\n",
      "Epoch [   13/  100] | d_loss: 1.3327 | g_loss: 1.1516\n",
      "Epoch [   14/  100] | d_loss: 1.2825 | g_loss: 0.9540\n",
      "Epoch [   14/  100] | d_loss: 1.2762 | g_loss: 1.0755\n",
      "Epoch [   14/  100] | d_loss: 1.4003 | g_loss: 1.2120\n",
      "Epoch [   15/  100] | d_loss: 1.2418 | g_loss: 0.9768\n",
      "Epoch [   15/  100] | d_loss: 1.2586 | g_loss: 1.0056\n",
      "Epoch [   15/  100] | d_loss: 1.3414 | g_loss: 0.9351\n",
      "Epoch [   16/  100] | d_loss: 1.4245 | g_loss: 0.9491\n",
      "Epoch [   16/  100] | d_loss: 1.3719 | g_loss: 1.1149\n",
      "Epoch [   16/  100] | d_loss: 1.3169 | g_loss: 1.0446\n",
      "Epoch [   17/  100] | d_loss: 1.1939 | g_loss: 1.4959\n",
      "Epoch [   17/  100] | d_loss: 1.2567 | g_loss: 0.9571\n",
      "Epoch [   17/  100] | d_loss: 1.3212 | g_loss: 0.9068\n",
      "Epoch [   18/  100] | d_loss: 1.2965 | g_loss: 0.8593\n",
      "Epoch [   18/  100] | d_loss: 1.3172 | g_loss: 1.0618\n",
      "Epoch [   18/  100] | d_loss: 1.3531 | g_loss: 1.0039\n",
      "Epoch [   19/  100] | d_loss: 1.3181 | g_loss: 0.8658\n",
      "Epoch [   19/  100] | d_loss: 1.2056 | g_loss: 1.2951\n",
      "Epoch [   19/  100] | d_loss: 1.3046 | g_loss: 0.9666\n",
      "Epoch [   20/  100] | d_loss: 1.3548 | g_loss: 1.2144\n",
      "Epoch [   20/  100] | d_loss: 1.3039 | g_loss: 0.9640\n",
      "Epoch [   20/  100] | d_loss: 1.3187 | g_loss: 1.1041\n",
      "Epoch [   21/  100] | d_loss: 1.3211 | g_loss: 0.8414\n",
      "Epoch [   21/  100] | d_loss: 1.2778 | g_loss: 1.0462\n",
      "Epoch [   21/  100] | d_loss: 1.2529 | g_loss: 0.9024\n",
      "Epoch [   22/  100] | d_loss: 1.2342 | g_loss: 0.9484\n",
      "Epoch [   22/  100] | d_loss: 1.3615 | g_loss: 1.0504\n",
      "Epoch [   22/  100] | d_loss: 1.3260 | g_loss: 1.4610\n",
      "Epoch [   23/  100] | d_loss: 1.2513 | g_loss: 0.9516\n",
      "Epoch [   23/  100] | d_loss: 1.2678 | g_loss: 1.0616\n",
      "Epoch [   23/  100] | d_loss: 1.3462 | g_loss: 1.0558\n",
      "Epoch [   24/  100] | d_loss: 1.2589 | g_loss: 1.0810\n",
      "Epoch [   24/  100] | d_loss: 1.2152 | g_loss: 1.4776\n",
      "Epoch [   24/  100] | d_loss: 1.2743 | g_loss: 0.9094\n",
      "Epoch [   25/  100] | d_loss: 1.2176 | g_loss: 0.8749\n",
      "Epoch [   25/  100] | d_loss: 1.3046 | g_loss: 0.8196\n",
      "Epoch [   25/  100] | d_loss: 1.3086 | g_loss: 1.0401\n",
      "Epoch [   26/  100] | d_loss: 1.1968 | g_loss: 0.9034\n",
      "Epoch [   26/  100] | d_loss: 1.2210 | g_loss: 1.4344\n",
      "Epoch [   26/  100] | d_loss: 1.1986 | g_loss: 0.8600\n",
      "Epoch [   27/  100] | d_loss: 1.2803 | g_loss: 0.9365\n",
      "Epoch [   27/  100] | d_loss: 1.1710 | g_loss: 1.0007\n",
      "Epoch [   27/  100] | d_loss: 1.3305 | g_loss: 1.0412\n",
      "Epoch [   28/  100] | d_loss: 1.3029 | g_loss: 0.8805\n",
      "Epoch [   28/  100] | d_loss: 1.2865 | g_loss: 1.0060\n",
      "Epoch [   28/  100] | d_loss: 1.3646 | g_loss: 1.1288\n",
      "Epoch [   29/  100] | d_loss: 1.2796 | g_loss: 1.5967\n",
      "Epoch [   29/  100] | d_loss: 1.3323 | g_loss: 0.8943\n",
      "Epoch [   29/  100] | d_loss: 1.2843 | g_loss: 0.8766\n",
      "Epoch [   30/  100] | d_loss: 1.1849 | g_loss: 1.1643\n",
      "Epoch [   30/  100] | d_loss: 1.3226 | g_loss: 1.5926\n",
      "Epoch [   30/  100] | d_loss: 1.3968 | g_loss: 1.4720\n",
      "Epoch [   31/  100] | d_loss: 1.3277 | g_loss: 1.3845\n",
      "Epoch [   31/  100] | d_loss: 1.2403 | g_loss: 1.5094\n",
      "Epoch [   31/  100] | d_loss: 1.3382 | g_loss: 1.4182\n",
      "Epoch [   32/  100] | d_loss: 1.3816 | g_loss: 1.0475\n",
      "Epoch [   32/  100] | d_loss: 1.2592 | g_loss: 1.2457\n",
      "Epoch [   32/  100] | d_loss: 1.2634 | g_loss: 1.0431\n",
      "Epoch [   33/  100] | d_loss: 1.2468 | g_loss: 0.9164\n",
      "Epoch [   33/  100] | d_loss: 1.3898 | g_loss: 1.0061\n",
      "Epoch [   33/  100] | d_loss: 1.3640 | g_loss: 1.0773\n",
      "Epoch [   34/  100] | d_loss: 1.1946 | g_loss: 1.6995\n",
      "Epoch [   34/  100] | d_loss: 1.3133 | g_loss: 1.6828\n",
      "Epoch [   34/  100] | d_loss: 1.2919 | g_loss: 1.0749\n",
      "Epoch [   35/  100] | d_loss: 1.2890 | g_loss: 1.0223\n",
      "Epoch [   35/  100] | d_loss: 1.2898 | g_loss: 0.8539\n",
      "Epoch [   35/  100] | d_loss: 1.2516 | g_loss: 1.1065\n",
      "Epoch [   36/  100] | d_loss: 1.2971 | g_loss: 1.1811\n",
      "Epoch [   36/  100] | d_loss: 1.3391 | g_loss: 0.9966\n",
      "Epoch [   36/  100] | d_loss: 1.4296 | g_loss: 1.0242\n",
      "Epoch [   37/  100] | d_loss: 1.2986 | g_loss: 0.8015\n",
      "Epoch [   37/  100] | d_loss: 1.2681 | g_loss: 0.8676\n",
      "Epoch [   37/  100] | d_loss: 1.3500 | g_loss: 0.9648\n",
      "Epoch [   38/  100] | d_loss: 1.3220 | g_loss: 0.8307\n",
      "Epoch [   38/  100] | d_loss: 1.3461 | g_loss: 0.9703\n",
      "Epoch [   38/  100] | d_loss: 1.3415 | g_loss: 1.0097\n",
      "Epoch [   39/  100] | d_loss: 1.3430 | g_loss: 1.0902\n",
      "Epoch [   39/  100] | d_loss: 1.2872 | g_loss: 0.8999\n",
      "Epoch [   39/  100] | d_loss: 1.3345 | g_loss: 0.9403\n",
      "Epoch [   40/  100] | d_loss: 1.2829 | g_loss: 1.1498\n",
      "Epoch [   40/  100] | d_loss: 1.2427 | g_loss: 1.5028\n",
      "Epoch [   40/  100] | d_loss: 1.4161 | g_loss: 1.2166\n",
      "Epoch [   41/  100] | d_loss: 1.2872 | g_loss: 0.9694\n",
      "Epoch [   41/  100] | d_loss: 1.3393 | g_loss: 0.9548\n",
      "Epoch [   41/  100] | d_loss: 1.3631 | g_loss: 0.9645\n",
      "Epoch [   42/  100] | d_loss: 1.1543 | g_loss: 1.1791\n",
      "Epoch [   42/  100] | d_loss: 1.2624 | g_loss: 1.1794\n",
      "Epoch [   42/  100] | d_loss: 1.3472 | g_loss: 0.9549\n",
      "Epoch [   43/  100] | d_loss: 1.2520 | g_loss: 0.8800\n",
      "Epoch [   43/  100] | d_loss: 1.2418 | g_loss: 1.1012\n",
      "Epoch [   43/  100] | d_loss: 1.3483 | g_loss: 1.1081\n",
      "Epoch [   44/  100] | d_loss: 1.3831 | g_loss: 1.7454\n",
      "Epoch [   44/  100] | d_loss: 1.3246 | g_loss: 0.9294\n",
      "Epoch [   44/  100] | d_loss: 1.2476 | g_loss: 1.0430\n",
      "Epoch [   45/  100] | d_loss: 1.2173 | g_loss: 0.8648\n",
      "Epoch [   45/  100] | d_loss: 1.2381 | g_loss: 0.9657\n",
      "Epoch [   45/  100] | d_loss: 1.2502 | g_loss: 1.0130\n",
      "Epoch [   46/  100] | d_loss: 1.3030 | g_loss: 0.7904\n",
      "Epoch [   46/  100] | d_loss: 1.2267 | g_loss: 1.0183\n",
      "Epoch [   46/  100] | d_loss: 1.2886 | g_loss: 0.8609\n",
      "Epoch [   47/  100] | d_loss: 1.2981 | g_loss: 0.8533\n",
      "Epoch [   47/  100] | d_loss: 1.1833 | g_loss: 1.7576\n",
      "Epoch [   47/  100] | d_loss: 1.2768 | g_loss: 1.2912\n",
      "Epoch [   48/  100] | d_loss: 1.2793 | g_loss: 0.8269\n",
      "Epoch [   48/  100] | d_loss: 1.2599 | g_loss: 0.9461\n",
      "Epoch [   48/  100] | d_loss: 1.3657 | g_loss: 0.9810\n",
      "Epoch [   49/  100] | d_loss: 1.3037 | g_loss: 0.8545\n",
      "Epoch [   49/  100] | d_loss: 1.3213 | g_loss: 0.9501\n",
      "Epoch [   49/  100] | d_loss: 1.3659 | g_loss: 1.4263\n",
      "Epoch [   50/  100] | d_loss: 1.2262 | g_loss: 0.8299\n",
      "Epoch [   50/  100] | d_loss: 1.3537 | g_loss: 1.0323\n",
      "Epoch [   50/  100] | d_loss: 1.2991 | g_loss: 0.9618\n",
      "Epoch [   51/  100] | d_loss: 1.2948 | g_loss: 0.9238\n",
      "Epoch [   51/  100] | d_loss: 1.3517 | g_loss: 1.0381\n",
      "Epoch [   51/  100] | d_loss: 1.2575 | g_loss: 0.9773\n",
      "Epoch [   52/  100] | d_loss: 1.2173 | g_loss: 1.1610\n",
      "Epoch [   52/  100] | d_loss: 1.3095 | g_loss: 1.0743\n",
      "Epoch [   52/  100] | d_loss: 1.3783 | g_loss: 0.9419\n",
      "Epoch [   53/  100] | d_loss: 1.2472 | g_loss: 0.8640\n",
      "Epoch [   53/  100] | d_loss: 1.2669 | g_loss: 1.0077\n",
      "Epoch [   53/  100] | d_loss: 1.3324 | g_loss: 0.9282\n",
      "Epoch [   54/  100] | d_loss: 1.2553 | g_loss: 0.9789\n",
      "Epoch [   54/  100] | d_loss: 1.2751 | g_loss: 0.9154\n",
      "Epoch [   54/  100] | d_loss: 1.3700 | g_loss: 0.9126\n",
      "Epoch [   55/  100] | d_loss: 1.2086 | g_loss: 1.4604\n",
      "Epoch [   55/  100] | d_loss: 1.3087 | g_loss: 0.9777\n",
      "Epoch [   55/  100] | d_loss: 1.3293 | g_loss: 1.0760\n",
      "Epoch [   56/  100] | d_loss: 1.3459 | g_loss: 0.9373\n",
      "Epoch [   56/  100] | d_loss: 1.3658 | g_loss: 1.7522\n",
      "Epoch [   56/  100] | d_loss: 1.3976 | g_loss: 0.9552\n",
      "Epoch [   57/  100] | d_loss: 1.3483 | g_loss: 0.7654\n",
      "Epoch [   57/  100] | d_loss: 1.1843 | g_loss: 1.2048\n",
      "Epoch [   57/  100] | d_loss: 1.3713 | g_loss: 0.9718\n",
      "Epoch [   58/  100] | d_loss: 1.3344 | g_loss: 0.8567\n",
      "Epoch [   58/  100] | d_loss: 1.2666 | g_loss: 0.9091\n",
      "Epoch [   58/  100] | d_loss: 1.3945 | g_loss: 0.9830\n",
      "Epoch [   59/  100] | d_loss: 1.3502 | g_loss: 0.8946\n",
      "Epoch [   59/  100] | d_loss: 1.2770 | g_loss: 0.9710\n",
      "Epoch [   59/  100] | d_loss: 1.3486 | g_loss: 1.0206\n",
      "Epoch [   60/  100] | d_loss: 1.4379 | g_loss: 1.5379\n",
      "Epoch [   60/  100] | d_loss: 1.3552 | g_loss: 0.9096\n",
      "Epoch [   60/  100] | d_loss: 1.2619 | g_loss: 1.0258\n",
      "Epoch [   61/  100] | d_loss: 1.2835 | g_loss: 0.9711\n",
      "Epoch [   61/  100] | d_loss: 1.2912 | g_loss: 0.9286\n",
      "Epoch [   61/  100] | d_loss: 1.2575 | g_loss: 1.5352\n",
      "Epoch [   62/  100] | d_loss: 1.2649 | g_loss: 1.1941\n",
      "Epoch [   62/  100] | d_loss: 1.2966 | g_loss: 1.0023\n",
      "Epoch [   62/  100] | d_loss: 1.3460 | g_loss: 0.9296\n",
      "Epoch [   63/  100] | d_loss: 1.2436 | g_loss: 1.1427\n",
      "Epoch [   63/  100] | d_loss: 1.1944 | g_loss: 0.9357\n",
      "Epoch [   63/  100] | d_loss: 1.3711 | g_loss: 1.0986\n",
      "Epoch [   64/  100] | d_loss: 1.2703 | g_loss: 1.1283\n",
      "Epoch [   64/  100] | d_loss: 1.3277 | g_loss: 1.0260\n",
      "Epoch [   64/  100] | d_loss: 1.3593 | g_loss: 0.8767\n",
      "Epoch [   65/  100] | d_loss: 1.3203 | g_loss: 0.9137\n",
      "Epoch [   65/  100] | d_loss: 1.3084 | g_loss: 1.0406\n",
      "Epoch [   65/  100] | d_loss: 1.3997 | g_loss: 1.0470\n",
      "Epoch [   66/  100] | d_loss: 1.3710 | g_loss: 1.2515\n",
      "Epoch [   66/  100] | d_loss: 1.1729 | g_loss: 1.6602\n",
      "Epoch [   66/  100] | d_loss: 1.3775 | g_loss: 1.0058\n",
      "Epoch [   67/  100] | d_loss: 1.3534 | g_loss: 0.9975\n",
      "Epoch [   67/  100] | d_loss: 1.2800 | g_loss: 0.9736\n",
      "Epoch [   67/  100] | d_loss: 1.3660 | g_loss: 0.9005\n",
      "Epoch [   68/  100] | d_loss: 1.3255 | g_loss: 0.8605\n",
      "Epoch [   68/  100] | d_loss: 1.2925 | g_loss: 1.1070\n",
      "Epoch [   68/  100] | d_loss: 1.3471 | g_loss: 1.3119\n",
      "Epoch [   69/  100] | d_loss: 1.4271 | g_loss: 0.8617\n",
      "Epoch [   69/  100] | d_loss: 1.1569 | g_loss: 1.1522\n",
      "Epoch [   69/  100] | d_loss: 1.3114 | g_loss: 0.9461\n",
      "Epoch [   70/  100] | d_loss: 1.0833 | g_loss: 2.6124\n",
      "Epoch [   70/  100] | d_loss: 1.1880 | g_loss: 1.4993\n",
      "Epoch [   70/  100] | d_loss: 1.3777 | g_loss: 1.2076\n",
      "Epoch [   71/  100] | d_loss: 1.3333 | g_loss: 1.2202\n",
      "Epoch [   71/  100] | d_loss: 1.2424 | g_loss: 1.1003\n",
      "Epoch [   71/  100] | d_loss: 1.4414 | g_loss: 1.0741\n",
      "Epoch [   72/  100] | d_loss: 1.3671 | g_loss: 1.3409\n",
      "Epoch [   72/  100] | d_loss: 1.2668 | g_loss: 0.8842\n",
      "Epoch [   72/  100] | d_loss: 1.3391 | g_loss: 1.0742\n",
      "Epoch [   73/  100] | d_loss: 1.2376 | g_loss: 1.1792\n",
      "Epoch [   73/  100] | d_loss: 1.2374 | g_loss: 0.9464\n",
      "Epoch [   73/  100] | d_loss: 1.4017 | g_loss: 1.0539\n",
      "Epoch [   74/  100] | d_loss: 1.4105 | g_loss: 0.9590\n",
      "Epoch [   74/  100] | d_loss: 1.2556 | g_loss: 1.1345\n",
      "Epoch [   74/  100] | d_loss: 1.2802 | g_loss: 1.1648\n",
      "Epoch [   75/  100] | d_loss: 1.3702 | g_loss: 1.1844\n",
      "Epoch [   75/  100] | d_loss: 1.3995 | g_loss: 1.2594\n",
      "Epoch [   75/  100] | d_loss: 1.3619 | g_loss: 1.0146\n",
      "Epoch [   76/  100] | d_loss: 1.3877 | g_loss: 1.4334\n",
      "Epoch [   76/  100] | d_loss: 1.3026 | g_loss: 0.8763\n",
      "Epoch [   76/  100] | d_loss: 1.3916 | g_loss: 1.0514\n",
      "Epoch [   77/  100] | d_loss: 1.2841 | g_loss: 0.9369\n",
      "Epoch [   77/  100] | d_loss: 1.2431 | g_loss: 1.2929\n",
      "Epoch [   77/  100] | d_loss: 1.3815 | g_loss: 0.9019\n",
      "Epoch [   78/  100] | d_loss: 1.2935 | g_loss: 1.0848\n",
      "Epoch [   78/  100] | d_loss: 1.2814 | g_loss: 1.1884\n",
      "Epoch [   78/  100] | d_loss: 1.3294 | g_loss: 0.8589\n",
      "Epoch [   79/  100] | d_loss: 1.2999 | g_loss: 1.0817\n",
      "Epoch [   79/  100] | d_loss: 1.3353 | g_loss: 0.9254\n",
      "Epoch [   79/  100] | d_loss: 1.2908 | g_loss: 1.1187\n",
      "Epoch [   80/  100] | d_loss: 1.2915 | g_loss: 1.2229\n",
      "Epoch [   80/  100] | d_loss: 1.3271 | g_loss: 0.9166\n",
      "Epoch [   80/  100] | d_loss: 1.4297 | g_loss: 0.9032\n",
      "Epoch [   81/  100] | d_loss: 1.3960 | g_loss: 1.2051\n",
      "Epoch [   81/  100] | d_loss: 1.2729 | g_loss: 1.0082\n",
      "Epoch [   81/  100] | d_loss: 1.2689 | g_loss: 1.1322\n",
      "Epoch [   82/  100] | d_loss: 1.2953 | g_loss: 1.5068\n",
      "Epoch [   82/  100] | d_loss: 1.1329 | g_loss: 1.3553\n",
      "Epoch [   82/  100] | d_loss: 1.4190 | g_loss: 0.9276\n",
      "Epoch [   83/  100] | d_loss: 1.3629 | g_loss: 1.0490\n",
      "Epoch [   83/  100] | d_loss: 1.2491 | g_loss: 1.0159\n",
      "Epoch [   83/  100] | d_loss: 1.3239 | g_loss: 0.9467\n",
      "Epoch [   84/  100] | d_loss: 1.2919 | g_loss: 0.9236\n",
      "Epoch [   84/  100] | d_loss: 1.2465 | g_loss: 1.0855\n",
      "Epoch [   84/  100] | d_loss: 1.3294 | g_loss: 0.9739\n",
      "Epoch [   85/  100] | d_loss: 1.4289 | g_loss: 0.7541\n",
      "Epoch [   85/  100] | d_loss: 1.2715 | g_loss: 0.9757\n",
      "Epoch [   85/  100] | d_loss: 1.5088 | g_loss: 1.0187\n",
      "Epoch [   86/  100] | d_loss: 1.2634 | g_loss: 0.9267\n",
      "Epoch [   86/  100] | d_loss: 1.1937 | g_loss: 1.0004\n",
      "Epoch [   86/  100] | d_loss: 1.2832 | g_loss: 1.0609\n",
      "Epoch [   87/  100] | d_loss: 1.4591 | g_loss: 0.9810\n",
      "Epoch [   87/  100] | d_loss: 1.2418 | g_loss: 0.9430\n",
      "Epoch [   87/  100] | d_loss: 1.3818 | g_loss: 0.9892\n",
      "Epoch [   88/  100] | d_loss: 1.2980 | g_loss: 1.0704\n",
      "Epoch [   88/  100] | d_loss: 1.2315 | g_loss: 0.9793\n",
      "Epoch [   88/  100] | d_loss: 1.3784 | g_loss: 0.9704\n",
      "Epoch [   89/  100] | d_loss: 1.3122 | g_loss: 0.7949\n",
      "Epoch [   89/  100] | d_loss: 1.2230 | g_loss: 1.0353\n",
      "Epoch [   89/  100] | d_loss: 1.3154 | g_loss: 0.9369\n",
      "Epoch [   90/  100] | d_loss: 1.2746 | g_loss: 0.9305\n",
      "Epoch [   90/  100] | d_loss: 1.3556 | g_loss: 0.9656\n",
      "Epoch [   90/  100] | d_loss: 1.3563 | g_loss: 1.2175\n",
      "Epoch [   91/  100] | d_loss: 1.2602 | g_loss: 0.8730\n",
      "Epoch [   91/  100] | d_loss: 1.1957 | g_loss: 1.0346\n",
      "Epoch [   91/  100] | d_loss: 1.3277 | g_loss: 0.8997\n",
      "Epoch [   92/  100] | d_loss: 1.2892 | g_loss: 1.2732\n",
      "Epoch [   92/  100] | d_loss: 1.2844 | g_loss: 1.0953\n",
      "Epoch [   92/  100] | d_loss: 1.3920 | g_loss: 0.9853\n",
      "Epoch [   93/  100] | d_loss: 1.3437 | g_loss: 0.9913\n",
      "Epoch [   93/  100] | d_loss: 1.3108 | g_loss: 1.1603\n",
      "Epoch [   93/  100] | d_loss: 1.2048 | g_loss: 0.9476\n",
      "Epoch [   94/  100] | d_loss: 1.2683 | g_loss: 1.1127\n",
      "Epoch [   94/  100] | d_loss: 1.2252 | g_loss: 1.1800\n",
      "Epoch [   94/  100] | d_loss: 1.3659 | g_loss: 0.9254\n",
      "Epoch [   95/  100] | d_loss: 1.3038 | g_loss: 1.5067\n",
      "Epoch [   95/  100] | d_loss: 1.3474 | g_loss: 0.9546\n",
      "Epoch [   95/  100] | d_loss: 1.3967 | g_loss: 1.0421\n",
      "Epoch [   96/  100] | d_loss: 1.2064 | g_loss: 1.0440\n",
      "Epoch [   96/  100] | d_loss: 1.3234 | g_loss: 0.8823\n",
      "Epoch [   96/  100] | d_loss: 1.4190 | g_loss: 1.0073\n",
      "Epoch [   97/  100] | d_loss: 1.2887 | g_loss: 1.0150\n",
      "Epoch [   97/  100] | d_loss: 1.2706 | g_loss: 0.9714\n",
      "Epoch [   97/  100] | d_loss: 1.3670 | g_loss: 1.0067\n",
      "Epoch [   98/  100] | d_loss: 1.2674 | g_loss: 0.8874\n",
      "Epoch [   98/  100] | d_loss: 1.2267 | g_loss: 1.3117\n",
      "Epoch [   98/  100] | d_loss: 1.4073 | g_loss: 1.0342\n",
      "Epoch [   99/  100] | d_loss: 1.3757 | g_loss: 0.7010\n",
      "Epoch [   99/  100] | d_loss: 1.2911 | g_loss: 0.9558\n",
      "Epoch [   99/  100] | d_loss: 1.2424 | g_loss: 1.0668\n",
      "Epoch [  100/  100] | d_loss: 1.1713 | g_loss: 0.9492\n",
      "Epoch [  100/  100] | d_loss: 1.2179 | g_loss: 1.0627\n",
      "Epoch [  100/  100] | d_loss: 1.2770 | g_loss: 1.4888\n"
     ]
    }
   ],
   "source": [
    "import pickle as pkl\n",
    "\n",
    "# training hyperparams\n",
    "num_epochs = 100\n",
    "\n",
    "# keep track of loss and generated, \"fake\" samples\n",
    "samples = []\n",
    "losses = []\n",
    "\n",
    "print_every = 400\n",
    "\n",
    "sample_size=16\n",
    "fixed_z = np.random.uniform(-1, 1, size=(sample_size, z_size))\n",
    "fixed_z = torch.from_numpy(fixed_z).float()\n",
    "\n",
    "# train the network\n",
    "D.train()\n",
    "G.train()\n",
    "for epoch in range(num_epochs):\n",
    "    \n",
    "    for batch_i, (real_images, _) in enumerate(train_loader):\n",
    "                \n",
    "        batch_size = real_images.size(0)\n",
    "        \n",
    "        real_images = real_images*2 - 1 \n",
    "        \n",
    "        d_optimizer.zero_grad()\n",
    "        \n",
    "\n",
    "        D_real = D(real_images)\n",
    "        d_real_loss = real_loss(D_real, smooth=True)\n",
    "        \n",
    "        \n",
    "        z = np.random.uniform(-1, 1, size=(batch_size, z_size))\n",
    "        z = torch.from_numpy(z).float()\n",
    "        fake_images = G(z)\n",
    "        \n",
    "        D_fake = D(fake_images)\n",
    "        d_fake_loss = fake_loss(D_fake)\n",
    "        \n",
    "        d_loss = d_real_loss + d_fake_loss\n",
    "        d_loss.backward()\n",
    "        d_optimizer.step()\n",
    "        \n",
    "        \n",
    "        \n",
    "        ## Generator\n",
    "        g_optimizer.zero_grad()\n",
    "        \n",
    "        \n",
    "        z = np.random.uniform(-1, 1, size=(batch_size, z_size))\n",
    "        z = torch.from_numpy(z).float()\n",
    "        fake_images = G(z)\n",
    "        \n",
    "        D_fake = D(fake_images)\n",
    "        g_loss = real_loss(D_fake) # use real loss to flip labels\n",
    "        \n",
    "        g_loss.backward()\n",
    "        g_optimizer.step()\n",
    "\n",
    "        if batch_i % print_every == 0:\n",
    "            # print discriminator and generator loss\n",
    "            print('Epoch [{:5d}/{:5d}] | d_loss: {:6.4f} | g_loss: {:6.4f}'.format(\n",
    "                    epoch+1, num_epochs, d_loss.item(), g_loss.item()))\n",
    "\n",
    "    \n",
    "    \n",
    "    losses.append((d_loss.item(), g_loss.item()))\n",
    "    \n",
    "    G.eval() # eval mode for generating samples\n",
    "    samples_z = G(fixed_z)\n",
    "    samples.append(samples_z)\n",
    "    G.train() # back to train mode\n",
    "\n",
    "\n",
    "# Save training generator samples\n",
    "with open('train_samples.pkl', 'wb') as f:\n",
    "    pkl.dump(samples, f)"
   ]
  },
  {
   "cell_type": "markdown",
   "metadata": {
    "id": "nC7TlgffP8fd",
    "colab_type": "text"
   },
   "source": [
    "# Compare losses"
   ]
  },
  {
   "cell_type": "code",
   "execution_count": 11,
   "metadata": {
    "id": "HAJW8t3mKaKV",
    "colab_type": "code",
    "colab": {
     "base_uri": "https://localhost:8080/",
     "height": 298.0
    },
    "outputId": "a45ad9ad-7d53-4c23-e8f5-d90787b9c812"
   },
   "outputs": [
    {
     "data": {
      "text/plain": [
       "<matplotlib.legend.Legend at 0x7f06ed366160>"
      ]
     },
     "execution_count": 11,
     "metadata": {
      "tags": []
     },
     "output_type": "execute_result"
    },
    {
     "data": {
      "image/png": "[encoded data removed]",
      "text/plain": [
       "<Figure size 432x288 with 1 Axes>"
      ]
     },
     "metadata": {
      "tags": []
     },
     "output_type": "display_data"
    }
   ],
   "source": [
    "fig, ax = plt.subplots()\n",
    "losses = np.array(losses)\n",
    "plt.plot(losses.T[0], label='Discriminator')\n",
    "plt.plot(losses.T[1], label='Generator')\n",
    "plt.title(\"Training Losses\")\n",
    "plt.legend()"
   ]
  },
  {
   "cell_type": "markdown",
   "metadata": {
    "id": "XHRXnrhCQu1e",
    "colab_type": "text"
   },
   "source": [
    "# Generate samples"
   ]
  },
  {
   "cell_type": "code",
   "execution_count": 0,
   "metadata": {
    "id": "7cyz5YL3KiGV",
    "colab_type": "code",
    "colab": {}
   },
   "outputs": [],
   "source": [
    "# helper function for viewing a list of passed in sample images\n",
    "def view_samples(epoch, samples):\n",
    "    fig, axes = plt.subplots(figsize=(7,7), nrows=4, ncols=4, sharey=True, sharex=True)\n",
    "    for ax, img in zip(axes.flatten(), samples[epoch]):\n",
    "        img = img.detach()\n",
    "        ax.xaxis.set_visible(False)\n",
    "        ax.yaxis.set_visible(False)\n",
    "        im = ax.imshow(img.reshape((28,28)), cmap='Greys_r')"
   ]
  },
  {
   "cell_type": "code",
   "execution_count": 0,
   "metadata": {
    "id": "-MrK_dAfKlOa",
    "colab_type": "code",
    "colab": {}
   },
   "outputs": [],
   "source": [
    "# Load samples from generator\n",
    "with open('train_samples.pkl', 'rb') as f:\n",
    "    samples = pkl.load(f)"
   ]
  },
  {
   "cell_type": "code",
   "execution_count": 14,
   "metadata": {
    "id": "IFbvWgHoKl9T",
    "colab_type": "code",
    "colab": {
     "base_uri": "https://localhost:8080/",
     "height": 411.0
    },
    "outputId": "ccd1ba45-2dde-4aa6-e4ea-49e7c49371fa"
   },
   "outputs": [
    {
     "data": {
      "image/png": "[encoded data removed]",
      "text/plain": [
       "<Figure size 504x504 with 16 Axes>"
      ]
     },
     "metadata": {
      "tags": []
     },
     "output_type": "display_data"
    }
   ],
   "source": [
    "# -1 indicates final epoch's samples (the last in the list)\n",
    "view_samples(-1, samples)"
   ]
  },
  {
   "cell_type": "markdown",
   "metadata": {
    "id": "e_xv1EyVQ5Y1",
    "colab_type": "text"
   },
   "source": [
    "# Generate samples for every 10 epoch"
   ]
  },
  {
   "cell_type": "code",
   "execution_count": 15,
   "metadata": {
    "id": "Q8nqPFD_Kqg7",
    "colab_type": "code",
    "colab": {
     "base_uri": "https://localhost:8080/",
     "height": 683.0
    },
    "outputId": "47dfb6a4-fcd2-453e-a63a-35a97f7dacb9"
   },
   "outputs": [
    {
     "data": {
      "image/png": "[encoded data removed]",
      "text/plain": [
       "<Figure size 504x864 with 60 Axes>"
      ]
     },
     "metadata": {
      "tags": []
     },
     "output_type": "display_data"
    }
   ],
   "source": [
    "rows = 10 # 10 epoch\n",
    "cols = 6\n",
    "fig, axes = plt.subplots(figsize=(7,12), nrows=rows, ncols=cols, sharex=True, sharey=True)\n",
    "\n",
    "for sample, ax_row in zip(samples[::int(len(samples)/rows)], axes):\n",
    "    for img, ax in zip(sample[::int(len(sample)/cols)], ax_row):\n",
    "        img = img.detach()\n",
    "        ax.imshow(img.reshape((28,28)), cmap='Greys_r')\n",
    "        ax.xaxis.set_visible(False)\n",
    "        ax.yaxis.set_visible(False)"
   ]
  },
  {
   "cell_type": "markdown",
   "metadata": {
    "id": "ckEBtmv0RM6R",
    "colab_type": "text"
   },
   "source": [
    "# Get new sample with new data"
   ]
  },
  {
   "cell_type": "code",
   "execution_count": 16,
   "metadata": {
    "id": "ezPbwMeCKtiL",
    "colab_type": "code",
    "colab": {
     "base_uri": "https://localhost:8080/",
     "height": 445.0
    },
    "outputId": "ff4906c2-6f9c-4db4-8fab-e5a414cf7dc4"
   },
   "outputs": [
    {
     "name": "stderr",
     "output_type": "stream",
     "text": [
      "/usr/local/lib/python3.6/dist-packages/torch/nn/functional.py:1374: UserWarning: nn.functional.tanh is deprecated. Use torch.tanh instead.\n",
      "  warnings.warn(\"nn.functional.tanh is deprecated. Use torch.tanh instead.\")\n"
     ]
    },
    {
     "data": {
      "image/png": "[encoded data removed]",
      "text/plain": [
       "<Figure size 504x504 with 16 Axes>"
      ]
     },
     "metadata": {
      "tags": []
     },
     "output_type": "display_data"
    }
   ],
   "source": [
    "sample_size=16\n",
    "rand_z = np.random.uniform(-1, 1, size=(sample_size, z_size))\n",
    "rand_z = torch.from_numpy(rand_z).float()\n",
    "\n",
    "G.eval() # eval mode\n",
    "\n",
    "rand_images = G(rand_z)\n",
    "\n",
    "view_samples(0, [rand_images])"
   ]
  }
 ],
 "metadata": {
  "colab": {
   "name": "GAN MNIST.ipynb",
   "version": "0.3.2",
   "provenance": []
  },
  "kernelspec": {
   "name": "python3",
   "display_name": "Python 3"
  },
  "accelerator": "GPU"
 },
 "nbformat": 4,
 "nbformat_minor": 0
}
