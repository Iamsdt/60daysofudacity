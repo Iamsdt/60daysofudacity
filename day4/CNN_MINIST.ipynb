{
 "cells": [
  {
   "cell_type": "code",
   "execution_count": 1,
   "metadata": {
    "id": "BLCUrO72F01i",
    "colab_type": "code",
    "colab": {
     "base_uri": "https://localhost:8080/",
     "height": 292.0
    },
    "outputId": "885ffc86-17e6-4018-a969-0367a368fb15"
   },
   "outputs": [
    {
     "name": "stderr",
     "output_type": "stream",
     "text": [
      "\r0it [00:00, ?it/s]"
     ]
    },
    {
     "name": "stdout",
     "output_type": "stream",
     "text": [
      "Downloading http://yann.lecun.com/exdb/mnist/train-images-idx3-ubyte.gz to ./data/MNIST/raw/train-images-idx3-ubyte.gz\n"
     ]
    },
    {
     "name": "stderr",
     "output_type": "stream",
     "text": [
      "9920512it [00:01, 9143033.37it/s]                            \n"
     ]
    },
    {
     "name": "stdout",
     "output_type": "stream",
     "text": [
      "Extracting ./data/MNIST/raw/train-images-idx3-ubyte.gz\n"
     ]
    },
    {
     "name": "stderr",
     "output_type": "stream",
     "text": [
      "  0%|          | 0/28881 [00:00<?, ?it/s]"
     ]
    },
    {
     "name": "stdout",
     "output_type": "stream",
     "text": [
      "Downloading http://yann.lecun.com/exdb/mnist/train-labels-idx1-ubyte.gz to ./data/MNIST/raw/train-labels-idx1-ubyte.gz\n"
     ]
    },
    {
     "name": "stderr",
     "output_type": "stream",
     "text": [
      "32768it [00:00, 137579.56it/s]           \n",
      "  0%|          | 0/1648877 [00:00<?, ?it/s]"
     ]
    },
    {
     "name": "stdout",
     "output_type": "stream",
     "text": [
      "Extracting ./data/MNIST/raw/train-labels-idx1-ubyte.gz\n",
      "Downloading http://yann.lecun.com/exdb/mnist/t10k-images-idx3-ubyte.gz to ./data/MNIST/raw/t10k-images-idx3-ubyte.gz\n"
     ]
    },
    {
     "name": "stderr",
     "output_type": "stream",
     "text": [
      "1654784it [00:00, 2271122.82it/s]                            \n",
      "0it [00:00, ?it/s]"
     ]
    },
    {
     "name": "stdout",
     "output_type": "stream",
     "text": [
      "Extracting ./data/MNIST/raw/t10k-images-idx3-ubyte.gz\n",
      "Downloading http://yann.lecun.com/exdb/mnist/t10k-labels-idx1-ubyte.gz to ./data/MNIST/raw/t10k-labels-idx1-ubyte.gz\n"
     ]
    },
    {
     "name": "stderr",
     "output_type": "stream",
     "text": [
      "8192it [00:00, 52622.80it/s]            \n"
     ]
    },
    {
     "name": "stdout",
     "output_type": "stream",
     "text": [
      "Extracting ./data/MNIST/raw/t10k-labels-idx1-ubyte.gz\n",
      "Processing...\n",
      "Done!\n",
      "60000\n"
     ]
    }
   ],
   "source": [
    "import torch\n",
    "from torch.utils.data import DataLoader\n",
    "from torchvision import transforms, datasets\n",
    "\n",
    "\n",
    "# prepare data\n",
    "train_dataset = datasets.MNIST(root='./data/',\n",
    "                               train=True,\n",
    "                               transform=transforms.ToTensor(),\n",
    "                               download=True)\n",
    "\n",
    "test_dataset = datasets.MNIST(root='./data/',\n",
    "                               train=False,\n",
    "                               transform=transforms.ToTensor())\n",
    "\n",
    "# print lenght\n",
    "print(len(train_dataset))\n",
    "\n",
    "\n",
    "# prepare loader\n",
    "# Data Loader (Input Pipeline)\n",
    "batch_size = 32\n",
    "train_loader = torch.utils.data.DataLoader(dataset=train_dataset,\n",
    "                                           batch_size=batch_size,\n",
    "                                           shuffle=True)\n",
    "\n",
    "test_loader = torch.utils.data.DataLoader(dataset=test_dataset,\n",
    "                                          batch_size=batch_size,\n",
    "                                          shuffle=False)"
   ]
  },
  {
   "cell_type": "code",
   "execution_count": 2,
   "metadata": {
    "id": "OSi3ZbsUGFQJ",
    "colab_type": "code",
    "colab": {
     "base_uri": "https://localhost:8080/",
     "height": 169.0
    },
    "outputId": "dedec40b-d27b-4d0b-eb15-5bee5d0bac3e"
   },
   "outputs": [
    {
     "data": {
      "image/png": "[encoded data removed]",
      "text/plain": [
       "<Figure size 1800x720 with 2 Axes>"
      ]
     },
     "metadata": {
      "tags": []
     },
     "output_type": "display_data"
    }
   ],
   "source": [
    "import numpy as np\n",
    "import matplotlib.pyplot as plt\n",
    "%matplotlib inline\n",
    "\n",
    "# visualize data\n",
    "\n",
    "data_iter = iter(test_loader)\n",
    "images, labels = data_iter.next()\n",
    "\n",
    "# show fig\n",
    "# plot the images in the batch, along with the corresponding labels\n",
    "fig = plt.figure(figsize=(25, 10))\n",
    "for idx in np.arange(2):\n",
    "    ax = fig.add_subplot(1, 10, idx+1, xticks=[], yticks=[])\n",
    "    ax.imshow(np.squeeze(images[idx]), cmap='gray')\n",
    "    # print out the correct label for each image\n",
    "    # .item() gets the value contained in a Tensor\n",
    "    ax.set_title(str(labels[idx].item()))"
   ]
  },
  {
   "cell_type": "code",
   "execution_count": 0,
   "metadata": {
    "id": "qOTB5rqLGHE4",
    "colab_type": "code",
    "colab": {}
   },
   "outputs": [],
   "source": [
    "import torch.nn as nn\n",
    "import torch.nn.functional as F\n",
    "\n",
    "\n",
    "class Model(nn.Module):\n",
    "  \n",
    "  def __init__(self):\n",
    "    super(Model, self).__init__()\n",
    "    \n",
    "    #cnn\n",
    "    self.conv1 = nn.Conv2d(1, 10, kernel_size=5)\n",
    "    self.conv2 = nn.Conv2d(10, 20, kernel_size=5)\n",
    "    #self.conv1 = nn.Conv2d(1, 10, kernel_size=5)\n",
    "  \n",
    "    \n",
    "    #max pooling layer\n",
    "    self.mp = nn.MaxPool2d(2)\n",
    "    \n",
    "    # number of hidden nodes in each layer (512)\n",
    "    hidden_1 = 512\n",
    "    hidden_2 = 512\n",
    "    # linear layer (784 -> hidden_1)\n",
    "    self.fc1 = nn.Linear(320, hidden_1)\n",
    "    # linear layer (n_hidden -> hidden_2)\n",
    "    self.fc2 = nn.Linear(hidden_1, hidden_2)\n",
    "    # linear layer (n_hidden -> 10)\n",
    "    self.fc3 = nn.Linear(hidden_2, 10)\n",
    "    # dropout layer (p=0.2)\n",
    "    # dropout prevents overfitting of data\n",
    "    self.dropout = nn.Dropout(0.2)\n",
    "    \n",
    "    \n",
    "  def forward(self,x):\n",
    "    inp = x.size(0) \n",
    "    #pass with cnn\n",
    "    x = F.relu(self.mp(self.conv1(x)))\n",
    "    x = F.relu(self.mp(self.conv2(x)))\n",
    "    \n",
    "    # resize tensor\n",
    "    x = x.view(inp,-1) # 28*28\n",
    "    # add hidden layer, with relu activation function\n",
    "    x = F.relu(self.fc1(x))\n",
    "    # add dropout layer\n",
    "    x = self.dropout(x)\n",
    "    # add hidden layer, with relu activation function\n",
    "    x = F.relu(self.fc2(x))\n",
    "    # add dropout layer\n",
    "    x = self.dropout(x)\n",
    "    # add output layer\n",
    "    x = self.fc3(x)\n",
    "    return x"
   ]
  },
  {
   "cell_type": "code",
   "execution_count": 19,
   "metadata": {
    "id": "hDLnpvIdHVsm",
    "colab_type": "code",
    "colab": {
     "base_uri": "https://localhost:8080/",
     "height": 170.0
    },
    "outputId": "3f8eb70f-4f91-45e7-99db-aaac6214ea56"
   },
   "outputs": [
    {
     "data": {
      "text/plain": [
       "Model(\n",
       "  (conv1): Conv2d(1, 10, kernel_size=(5, 5), stride=(1, 1))\n",
       "  (conv2): Conv2d(10, 20, kernel_size=(5, 5), stride=(1, 1))\n",
       "  (mp): MaxPool2d(kernel_size=2, stride=2, padding=0, dilation=1, ceil_mode=False)\n",
       "  (fc1): Linear(in_features=320, out_features=512, bias=True)\n",
       "  (fc2): Linear(in_features=512, out_features=512, bias=True)\n",
       "  (fc3): Linear(in_features=512, out_features=10, bias=True)\n",
       "  (dropout): Dropout(p=0.2)\n",
       ")"
      ]
     },
     "execution_count": 19,
     "metadata": {
      "tags": []
     },
     "output_type": "execute_result"
    }
   ],
   "source": [
    "model = Model()\n",
    "criterion = nn.CrossEntropyLoss()\n",
    "optimizer = torch.optim.SGD(model.parameters(), lr=0.01)\n",
    "# Gpu\n",
    "device = torch.device(\"cuda\" if torch.cuda.is_available() else \"cpu\")\n",
    "#move tensor to default device\n",
    "model.to(device)"
   ]
  },
  {
   "cell_type": "code",
   "execution_count": 20,
   "metadata": {
    "id": "PDseB6-VHfhD",
    "colab_type": "code",
    "colab": {
     "base_uri": "https://localhost:8080/",
     "height": 765.0
    },
    "outputId": "3fb40ec6-7c08-4eea-c574-bfbf21db57ee"
   },
   "outputs": [
    {
     "name": "stdout",
     "output_type": "stream",
     "text": [
      "Epoch: 1 \tTraining Loss: 0.033023 \tValidation Loss: 0.006889\n",
      "Test Accuracy:   93% (4701/5008)\n",
      "Validation loss decreased (inf --> 0.006889).  Saving model ...\n",
      "Epoch: 2 \tTraining Loss: 0.006173 \tValidation Loss: 0.003602\n",
      "Test Accuracy:   95% (9540/10016)\n",
      "Validation loss decreased (0.006889 --> 0.003602).  Saving model ...\n",
      "Epoch: 3 \tTraining Loss: 0.003817 \tValidation Loss: 0.002375\n",
      "Test Accuracy:   96% (14436/15024)\n",
      "Validation loss decreased (0.003602 --> 0.002375).  Saving model ...\n",
      "Epoch: 4 \tTraining Loss: 0.002874 \tValidation Loss: 0.002144\n",
      "Test Accuracy:   96% (19334/20032)\n",
      "Validation loss decreased (0.002375 --> 0.002144).  Saving model ...\n",
      "Epoch: 5 \tTraining Loss: 0.002406 \tValidation Loss: 0.001671\n",
      "Test Accuracy:   96% (24256/25040)\n",
      "Validation loss decreased (0.002144 --> 0.001671).  Saving model ...\n",
      "Epoch: 6 \tTraining Loss: 0.002092 \tValidation Loss: 0.001472\n",
      "Test Accuracy:   97% (29190/30048)\n",
      "Validation loss decreased (0.001671 --> 0.001472).  Saving model ...\n",
      "Epoch: 7 \tTraining Loss: 0.001826 \tValidation Loss: 0.001327\n",
      "Test Accuracy:   97% (34133/35056)\n",
      "Validation loss decreased (0.001472 --> 0.001327).  Saving model ...\n",
      "Epoch: 8 \tTraining Loss: 0.001667 \tValidation Loss: 0.001195\n",
      "Test Accuracy:   97% (39088/40064)\n",
      "Validation loss decreased (0.001327 --> 0.001195).  Saving model ...\n",
      "Epoch: 9 \tTraining Loss: 0.001531 \tValidation Loss: 0.001120\n",
      "Test Accuracy:   97% (44044/45072)\n",
      "Validation loss decreased (0.001195 --> 0.001120).  Saving model ...\n",
      "Epoch: 10 \tTraining Loss: 0.001405 \tValidation Loss: 0.001033\n",
      "Test Accuracy:   97% (49001/50080)\n",
      "Validation loss decreased (0.001120 --> 0.001033).  Saving model ...\n",
      "Epoch: 11 \tTraining Loss: 0.001297 \tValidation Loss: 0.001027\n",
      "Test Accuracy:   97% (53952/55088)\n",
      "Validation loss decreased (0.001033 --> 0.001027).  Saving model ...\n",
      "Epoch: 12 \tTraining Loss: 0.001194 \tValidation Loss: 0.001008\n",
      "Test Accuracy:   98% (58906/60096)\n",
      "Validation loss decreased (0.001027 --> 0.001008).  Saving model ...\n",
      "Epoch: 13 \tTraining Loss: 0.001145 \tValidation Loss: 0.000991\n",
      "Test Accuracy:   98% (63862/65104)\n",
      "Validation loss decreased (0.001008 --> 0.000991).  Saving model ...\n",
      "Epoch: 14 \tTraining Loss: 0.001045 \tValidation Loss: 0.001070\n",
      "Test Accuracy:   98% (68817/70112)\n",
      "Epoch: 15 \tTraining Loss: 0.000980 \tValidation Loss: 0.000893\n",
      "Test Accuracy:   98% (73783/75120)\n",
      "Validation loss decreased (0.000991 --> 0.000893).  Saving model ...\n"
     ]
    }
   ],
   "source": [
    "n_epochs = 15\n",
    "\n",
    "# compare overfited\n",
    "train_loss_data,valid_loss_data = [],[]\n",
    "\n",
    "# initialize tracker for minimum validation loss\n",
    "valid_loss_min = np.Inf # set initial \"min\" to infinity\n",
    "\n",
    "class_correct = list(0. for i in range(10))\n",
    "class_total = list(0. for i in range(10))\n",
    "\n",
    "for epoch in range(n_epochs):\n",
    "    # monitor training loss\n",
    "    train_loss = 0.0\n",
    "    valid_loss = 0.0\n",
    "    \n",
    "    ###################\n",
    "    # train the model #\n",
    "    ###################\n",
    "    model.train() # prep model for training\n",
    "    for data, target in train_loader:\n",
    "        # Move input and label tensors to the default device\n",
    "        data, target = data.to(device), target.to(device)\n",
    "        # clear the gradients of all optimized variables\n",
    "        optimizer.zero_grad()\n",
    "        # forward pass: compute predicted outputs by passing inputs to the model\n",
    "        output = model(data)\n",
    "        # calculate the loss\n",
    "        loss = criterion(output, target)\n",
    "        # backward pass: compute gradient of the loss with respect to model parameters\n",
    "        loss.backward()\n",
    "        # perform a single optimization step (parameter update)\n",
    "        optimizer.step()\n",
    "        # update running training loss\n",
    "        train_loss += loss.item() #*data.size(0)\n",
    "        \n",
    "    ######################    \n",
    "    # validate the model #\n",
    "    ######################\n",
    "    model.eval() # prep model for evaluation\n",
    "    for data, target in test_loader:\n",
    "        # Move input and label tensors to the default device\n",
    "        data, target = data.to(device), target.to(device)\n",
    "        # forward pass: compute predicted outputs by passing inputs to the model\n",
    "        output = model(data)\n",
    "        # calculate the loss\n",
    "        loss = criterion(output, target)\n",
    "        # update running validation loss \n",
    "        valid_loss += loss.item() #*data.size(0)\n",
    "        # convert output probabilities to predicted class\n",
    "        _, pred = torch.max(output, 1)\n",
    "        # compare predictions to true label\n",
    "        correct = np.squeeze(pred.eq(target.data.view_as(pred)))\n",
    "        # calculate test accuracy for each object class\n",
    "        for i in range(16):\n",
    "          label = target.data[i]\n",
    "          class_correct[label] += correct[i].item()\n",
    "          class_total[label] += 1\n",
    "        \n",
    "        \n",
    "    # print training/validation statistics \n",
    "    # calculate average loss over an epoch\n",
    "    train_loss = train_loss/len(train_loader.dataset)\n",
    "    valid_loss = valid_loss/len(test_loader.dataset)\n",
    "    \n",
    "    #clculate train loss and running loss\n",
    "    train_loss_data.append(train_loss)\n",
    "    valid_loss_data.append(valid_loss)\n",
    "    \n",
    "    print('Epoch: {} \\tTraining Loss: {:.6f} \\tValidation Loss: {:.6f}'.format(\n",
    "        epoch+1, \n",
    "        train_loss,\n",
    "        valid_loss\n",
    "        ))\n",
    "    print('Test Accuracy: %4d%% (%2d/%2d)' % (\n",
    "    100. * np.sum(class_correct) / np.sum(class_total),\n",
    "    np.sum(class_correct), np.sum(class_total)))\n",
    "    \n",
    "    # save model if validation loss has decreased\n",
    "    if valid_loss <= valid_loss_min:\n",
    "        print('Validation loss decreased ({:.6f} --> {:.6f}).  Saving model ...'.format(\n",
    "        valid_loss_min,\n",
    "        valid_loss))\n",
    "        torch.save(model.state_dict(), 'model.pt')\n",
    "        valid_loss_min = valid_loss"
   ]
  },
  {
   "cell_type": "code",
   "execution_count": 21,
   "metadata": {
    "id": "kpCzO0yTHuLJ",
    "colab_type": "code",
    "colab": {
     "base_uri": "https://localhost:8080/",
     "height": 34.0
    },
    "outputId": "ad713845-c693-48ba-92d8-354f48fac028"
   },
   "outputs": [
    {
     "data": {
      "text/plain": [
       "IncompatibleKeys(missing_keys=[], unexpected_keys=[])"
      ]
     },
     "execution_count": 21,
     "metadata": {
      "tags": []
     },
     "output_type": "execute_result"
    }
   ],
   "source": [
    "# load the saved model\n",
    "model.load_state_dict(torch.load('model.pt'))"
   ]
  },
  {
   "cell_type": "code",
   "execution_count": 22,
   "metadata": {
    "id": "SXwfZgHiHu1j",
    "colab_type": "code",
    "colab": {
     "base_uri": "https://localhost:8080/",
     "height": 286.0
    },
    "outputId": "36967da0-5ac0-46f8-aab9-eab018851468"
   },
   "outputs": [
    {
     "data": {
      "text/plain": [
       "<matplotlib.legend.Legend at 0x7fee5c2fb208>"
      ]
     },
     "execution_count": 22,
     "metadata": {
      "tags": []
     },
     "output_type": "execute_result"
    },
    {
     "data": {
      "image/png": "[encoded data removed]",
      "text/plain": [
       "<Figure size 432x288 with 1 Axes>"
      ]
     },
     "metadata": {
      "tags": []
     },
     "output_type": "display_data"
    }
   ],
   "source": [
    "#My validation loss and training loss is not cross each other, so maybe I have to increase the epoch. Am I right?\n",
    "# check for overfitting\n",
    "plt.plot(train_loss_data, label = \"taining loss\")\n",
    "plt.plot(valid_loss_data, label = \"validation loss\")\n",
    "plt.legend(frameon = False)"
   ]
  },
  {
   "cell_type": "code",
   "execution_count": 23,
   "metadata": {
    "id": "71JxkhNmHwzq",
    "colab_type": "code",
    "colab": {
     "base_uri": "https://localhost:8080/",
     "height": 255.0
    },
    "outputId": "7040478e-1c5e-4814-878b-fa95621a8b6e"
   },
   "outputs": [
    {
     "name": "stdout",
     "output_type": "stream",
     "text": [
      "Test Loss: 0.028561\n",
      "\n",
      "Test Accuracy of     0: 99% (471/474)\n",
      "Test Accuracy of     1: 99% (579/581)\n",
      "Test Accuracy of     2: 99% (542/545)\n",
      "Test Accuracy of     3: 99% (511/513)\n",
      "Test Accuracy of     4: 99% (503/508)\n",
      "Test Accuracy of     5: 98% (423/429)\n",
      "Test Accuracy of     6: 99% (458/460)\n",
      "Test Accuracy of     7: 98% (506/514)\n",
      "Test Accuracy of     8: 98% (463/468)\n",
      "Test Accuracy of     9: 98% (510/516)\n",
      "\n",
      "Test Accuracy (Overall): 99% (4966/5008)\n"
     ]
    }
   ],
   "source": [
    "# initialize lists to monitor test loss and accuracy\n",
    "test_loss = 0.0\n",
    "class_correct = list(0. for i in range(10))\n",
    "class_total = list(0. for i in range(10))\n",
    "\n",
    "model.eval() # prep model for evaluation\n",
    "\n",
    "for data, target in test_loader:\n",
    "    # Move input and label tensors to the default device\n",
    "    data, target = data.to(device), target.to(device)\n",
    "    # forward pass: compute predicted outputs by passing inputs to the model\n",
    "    output = model(data)\n",
    "    # calculate the loss\n",
    "    loss = criterion(output, target)\n",
    "    # update test loss \n",
    "    test_loss += loss.item()*data.size(0)\n",
    "    # convert output probabilities to predicted class\n",
    "    _, pred = torch.max(output, 1)\n",
    "    # compare predictions to true label\n",
    "    correct = np.squeeze(pred.eq(target.data.view_as(pred)))\n",
    "    # calculate test accuracy for each object class\n",
    "    for i in range(16):\n",
    "        label = target.data[i]\n",
    "        class_correct[label] += correct[i].item()\n",
    "        class_total[label] += 1\n",
    "\n",
    "# calculate and print avg test loss\n",
    "test_loss = test_loss/len(test_loader.dataset)\n",
    "print('Test Loss: {:.6f}\\n'.format(test_loss))\n",
    "\n",
    "for i in range(10):\n",
    "    if class_total[i] > 0:\n",
    "        print('Test Accuracy of %5s: %2d%% (%2d/%2d)' % (\n",
    "            str(i), 100 * class_correct[i] / class_total[i],\n",
    "            np.sum(class_correct[i]), np.sum(class_total[i])))\n",
    "    else:\n",
    "        print('Test Accuracy of %5s: N/A (no training examples)' % (classes[i]))\n",
    "\n",
    "print('\\nTest Accuracy (Overall): %2d%% (%2d/%2d)' % (\n",
    "    100. * np.sum(class_correct) / np.sum(class_total),\n",
    "    np.sum(class_correct), np.sum(class_total)))"
   ]
  },
  {
   "cell_type": "code",
   "execution_count": 24,
   "metadata": {
    "id": "zBhylwOYK8l3",
    "colab_type": "code",
    "colab": {
     "base_uri": "https://localhost:8080/",
     "height": 288.0
    },
    "outputId": "3a5fb2b5-e90d-47b1-8fa3-c7dad330d409"
   },
   "outputs": [
    {
     "data": {
      "image/png": "[encoded data removed]",
      "text/plain": [
       "<Figure size 1800x288 with 20 Axes>"
      ]
     },
     "metadata": {
      "tags": []
     },
     "output_type": "display_data"
    }
   ],
   "source": [
    "# obtain one batch of test images\n",
    "dataiter = iter(test_loader)\n",
    "images, labels = dataiter.next()\n",
    "\n",
    "# Move to cpu\n",
    "model.cpu()\n",
    "  \n",
    "# get sample outputs\n",
    "output = model(images)\n",
    "# convert output probabilities to predicted class\n",
    "_, preds = torch.max(output, 1)\n",
    "# prep images for display\n",
    "images = images.numpy()\n",
    "\n",
    "# plot the images in the batch, along with predicted and true labels\n",
    "fig = plt.figure(figsize=(25, 4))\n",
    "for idx in np.arange(20):\n",
    "    ax = fig.add_subplot(2, 20/2, idx+1, xticks=[], yticks=[])\n",
    "    ax.imshow(np.squeeze(images[idx]), cmap='gray')\n",
    "    ax.set_title(\"{} ({})\".format(str(preds[idx].item()), str(labels[idx].item())),\n",
    "                 color=(\"green\" if preds[idx]==labels[idx] else \"red\"))"
   ]
  }
 ],
 "metadata": {
  "colab": {
   "name": "Lesson10CNN.ipynb",
   "version": "0.3.2",
   "provenance": []
  },
  "kernelspec": {
   "name": "python3",
   "display_name": "Python 3"
  },
  "accelerator": "GPU"
 },
 "nbformat": 4,
 "nbformat_minor": 0
}
