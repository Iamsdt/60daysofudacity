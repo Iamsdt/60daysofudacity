{
 "cells": [
  {
   "cell_type": "code",
   "execution_count": 0,
   "metadata": {
    "colab": {},
    "colab_type": "code",
    "id": "7NqZ7Uv0dc3z"
   },
   "outputs": [],
   "source": [
    "import torch\n",
    "from torchvision import transforms, datasets\n",
    "from torch.utils.data import DataLoader\n",
    "import numpy as np\n",
    "from matplotlib import pyplot as plt\n",
    "import torch.nn as nn\n",
    "import torch.nn.functional as F\n",
    "from torch.autograd import Variable"
   ]
  },
  {
   "cell_type": "code",
   "execution_count": 2,
   "metadata": {
    "colab": {
     "base_uri": "https://localhost:8080/",
     "height": 272
    },
    "colab_type": "code",
    "id": "fqx_m-qhd1dm",
    "outputId": "1c9e4bd3-4b41-42d5-a831-a68842d7e8bd"
   },
   "outputs": [
    {
     "name": "stderr",
     "output_type": "stream",
     "text": [
      "\r",
      "0it [00:00, ?it/s]"
     ]
    },
    {
     "name": "stdout",
     "output_type": "stream",
     "text": [
      "Downloading http://yann.lecun.com/exdb/mnist/train-images-idx3-ubyte.gz to data/MNIST/raw/train-images-idx3-ubyte.gz\n"
     ]
    },
    {
     "name": "stderr",
     "output_type": "stream",
     "text": [
      "9920512it [00:02, 3909153.83it/s]                             \n"
     ]
    },
    {
     "name": "stdout",
     "output_type": "stream",
     "text": [
      "Extracting data/MNIST/raw/train-images-idx3-ubyte.gz\n"
     ]
    },
    {
     "name": "stderr",
     "output_type": "stream",
     "text": [
      "\r",
      "0it [00:00, ?it/s]"
     ]
    },
    {
     "name": "stdout",
     "output_type": "stream",
     "text": [
      "Downloading http://yann.lecun.com/exdb/mnist/train-labels-idx1-ubyte.gz to data/MNIST/raw/train-labels-idx1-ubyte.gz\n"
     ]
    },
    {
     "name": "stderr",
     "output_type": "stream",
     "text": [
      "32768it [00:00, 56430.22it/s]                           \n",
      "0it [00:00, ?it/s]"
     ]
    },
    {
     "name": "stdout",
     "output_type": "stream",
     "text": [
      "Extracting data/MNIST/raw/train-labels-idx1-ubyte.gz\n",
      "Downloading http://yann.lecun.com/exdb/mnist/t10k-images-idx3-ubyte.gz to data/MNIST/raw/t10k-images-idx3-ubyte.gz\n"
     ]
    },
    {
     "name": "stderr",
     "output_type": "stream",
     "text": [
      "1654784it [00:01, 863907.04it/s]                             \n",
      "0it [00:00, ?it/s]"
     ]
    },
    {
     "name": "stdout",
     "output_type": "stream",
     "text": [
      "Extracting data/MNIST/raw/t10k-images-idx3-ubyte.gz\n",
      "Downloading http://yann.lecun.com/exdb/mnist/t10k-labels-idx1-ubyte.gz to data/MNIST/raw/t10k-labels-idx1-ubyte.gz\n"
     ]
    },
    {
     "name": "stderr",
     "output_type": "stream",
     "text": [
      "8192it [00:00, 21466.50it/s]            "
     ]
    },
    {
     "name": "stdout",
     "output_type": "stream",
     "text": [
      "Extracting data/MNIST/raw/t10k-labels-idx1-ubyte.gz\n",
      "Processing...\n",
      "Done!\n"
     ]
    },
    {
     "name": "stderr",
     "output_type": "stream",
     "text": [
      "\n"
     ]
    },
    {
     "data": {
      "text/plain": [
       "118"
      ]
     },
     "execution_count": 2,
     "metadata": {
      "tags": []
     },
     "output_type": "execute_result"
    }
   ],
   "source": [
    "## Prepare Datasets\n",
    "transform = transforms.Compose([\n",
    "    transforms.ToTensor()\n",
    "])\n",
    "train_data = datasets.MNIST(root='data', train=True, transform=transform, download=True)\n",
    "\n",
    "train_loader = DataLoader(train_data, batch_size=512, shuffle=True, num_workers=5)\n",
    "\n",
    "len(train_loader)"
   ]
  },
  {
   "cell_type": "code",
   "execution_count": 47,
   "metadata": {
    "colab": {
     "base_uri": "https://localhost:8080/",
     "height": 612
    },
    "colab_type": "code",
    "id": "fB3GSmVFHx-0",
    "outputId": "d3c43916-9c4d-4c29-d162-d0de9e0c5f97"
   },
   "outputs": [
    {
     "data": {
      "text/plain": [
       "<matplotlib.image.AxesImage at 0x7fd24528e358>"
      ]
     },
     "execution_count": 47,
     "metadata": {
      "tags": []
     },
     "output_type": "execute_result"
    },
    {
     "data": {
      "image/png": "[encoded data removed]",
      "text/plain": [
       "<Figure size 1800x720 with 1 Axes>"
      ]
     },
     "metadata": {
      "tags": []
     },
     "output_type": "display_data"
    }
   ],
   "source": [
    "# visualize data\n",
    "images, labels = next(iter(train_loader))\n",
    "\n",
    "img = np.squeeze(images[0])\n",
    "\n",
    "fig = plt.figure(figsize=(25, 10))\n",
    "ax = fig.add_subplot(111)\n",
    "ax.imshow(img)"
   ]
  },
  {
   "cell_type": "markdown",
   "metadata": {
    "colab_type": "text",
    "id": "jrZ6WmYYIG1H"
   },
   "source": [
    "# Create Model"
   ]
  },
  {
   "cell_type": "code",
   "execution_count": 0,
   "metadata": {
    "colab": {},
    "colab_type": "code",
    "id": "qpucj_Vf0q78"
   },
   "outputs": [],
   "source": [
    "def xavier_init(m):\n",
    "    \"\"\" Xavier initialization \"\"\"\n",
    "    if type(m) == nn.Linear:\n",
    "        nn.init.xavier_uniform_(m.weight)\n",
    "        m.bias.data.fill_(0)"
   ]
  },
  {
   "cell_type": "code",
   "execution_count": 0,
   "metadata": {
    "colab": {},
    "colab_type": "code",
    "id": "RvAm1TE4H_2U"
   },
   "outputs": [],
   "source": [
    "class DNet(nn.Module):\n",
    "\n",
    "    def __init__(self):\n",
    "        super(DNet, self).__init__()\n",
    "        self.model = nn.Sequential(\n",
    "            nn.Linear(784, 128),\n",
    "            nn.LeakyReLU(0.2),\n",
    "            nn.Dropout(0.3),\n",
    "            nn.Linear(128, 1),\n",
    "            nn.Sigmoid()\n",
    "        )\n",
    "\n",
    "        self.model.apply(xavier_init)\n",
    "\n",
    "    def forward(self, x):\n",
    "        x = x.view(-1, 784)\n",
    "        return self.model(x)\n",
    "\n",
    "\n",
    "class GNet(nn.Module):\n",
    "\n",
    "    def __init__(self):\n",
    "        super(GNet, self).__init__()\n",
    "        self.model = nn.Sequential(\n",
    "            nn.Linear(100, 128),\n",
    "            nn.LeakyReLU(0.2),\n",
    "            nn.Dropout(0.3),\n",
    "            nn.Linear(128, 784),\n",
    "            nn.Tanh()\n",
    "        )\n",
    "\n",
    "        self.model.apply(xavier_init)\n",
    "\n",
    "    def forward(self, x):\n",
    "        return self.model(x)"
   ]
  },
  {
   "cell_type": "code",
   "execution_count": 65,
   "metadata": {
    "colab": {
     "base_uri": "https://localhost:8080/",
     "height": 170
    },
    "colab_type": "code",
    "id": "ayZxvCJJIJDM",
    "outputId": "8e170c0e-7311-4d4f-e8c3-accdadb96439"
   },
   "outputs": [
    {
     "data": {
      "text/plain": [
       "GNet(\n",
       "  (model): Sequential(\n",
       "    (0): Linear(in_features=100, out_features=128, bias=True)\n",
       "    (1): LeakyReLU(negative_slope=0.2)\n",
       "    (2): Dropout(p=0.3)\n",
       "    (3): Linear(in_features=128, out_features=784, bias=True)\n",
       "    (4): Tanh()\n",
       "  )\n",
       ")"
      ]
     },
     "execution_count": 65,
     "metadata": {
      "tags": []
     },
     "output_type": "execute_result"
    }
   ],
   "source": [
    "# Create models\n",
    "model_ds = DNet()\n",
    "model_gn = GNet()\n",
    "\n",
    "# Move to cpu\n",
    "device = torch.device(\"cuda\" if torch.cuda.is_available() else \"cpu\")\n",
    "model_ds.to(device)\n",
    "model_gn.to(device)"
   ]
  },
  {
   "cell_type": "code",
   "execution_count": 0,
   "metadata": {
    "colab": {},
    "colab_type": "code",
    "id": "xhghyQ8hIWGX"
   },
   "outputs": [],
   "source": [
    "from torch import optim\n",
    "criterion = nn.BCELoss().to(device)\n",
    "optim_ds = optim.Adam(model_ds.parameters(), lr=0.001)\n",
    "optim_gn = optim.Adam(model_gn.parameters(), lr=0.001)"
   ]
  },
  {
   "cell_type": "code",
   "execution_count": 81,
   "metadata": {
    "colab": {
     "base_uri": "https://localhost:8080/",
     "height": 1000
    },
    "colab_type": "code",
    "id": "Tdl9-tm83Hdu",
    "outputId": "cb3ceb98-2f8a-46f5-e20d-72f56d95aafc"
   },
   "outputs": [
    {
     "name": "stdout",
     "output_type": "stream",
     "text": [
      "Epoch:0,   G loss:1.4888717986769595,   D loss:1.2635729903891935\n",
      "Epoch:1,   G loss:2.176134377212848,   D loss:1.325922694751772\n",
      "Epoch:2,   G loss:1.6626308035042325,   D loss:1.1737568070322781\n",
      "Epoch:3,   G loss:1.2781138314028917,   D loss:1.3242295445021937\n",
      "Epoch:4,   G loss:1.3965273696487233,   D loss:1.2783327910859705\n",
      "Epoch:5,   G loss:1.4504763009184498,   D loss:1.2502420499163158\n",
      "Epoch:6,   G loss:1.3708439721899517,   D loss:1.2016940510879128\n",
      "Epoch:7,   G loss:1.4325915979126753,   D loss:1.3398557133593803\n",
      "Epoch:8,   G loss:1.3700676661426738,   D loss:1.2536491150573148\n",
      "Epoch:9,   G loss:1.4418749263731099,   D loss:1.3552163293806172\n",
      "Epoch:10,   G loss:1.595296860751459,   D loss:1.282886060617738\n",
      "Epoch:11,   G loss:1.3246596586906303,   D loss:1.2624388771542048\n",
      "Epoch:12,   G loss:1.2893586603261658,   D loss:1.3299964838108773\n",
      "Epoch:13,   G loss:1.2801892636185985,   D loss:1.3078574411949868\n",
      "Epoch:14,   G loss:1.2802954149448265,   D loss:1.3089796425932545\n",
      "Epoch:15,   G loss:1.5299011903294062,   D loss:1.319495001081693\n",
      "Epoch:16,   G loss:1.3846231163558314,   D loss:1.2087671266774\n",
      "Epoch:17,   G loss:1.2380416413484994,   D loss:1.4205623253927393\n",
      "Epoch:18,   G loss:1.243821307259091,   D loss:1.2904303018319405\n",
      "Epoch:19,   G loss:1.0946210122714608,   D loss:1.4077006851212452\n",
      "Epoch:20,   G loss:1.127563401804132,   D loss:1.3388023790666612\n",
      "Epoch:21,   G loss:1.1193159212500363,   D loss:1.4363197563058239\n",
      "Epoch:22,   G loss:1.3132379347995176,   D loss:1.294673894421529\n",
      "Epoch:23,   G loss:1.1098630574800201,   D loss:1.3946026806103982\n",
      "Epoch:24,   G loss:1.323772841590946,   D loss:1.478209175295749\n",
      "Epoch:25,   G loss:1.2742458566770716,   D loss:1.3311334484714572\n",
      "Epoch:26,   G loss:1.4329543588525158,   D loss:1.3638852390192322\n",
      "Epoch:27,   G loss:1.567266093472303,   D loss:1.2683902231313415\n",
      "Epoch:28,   G loss:1.2133377997551935,   D loss:1.4466326105392586\n",
      "Epoch:29,   G loss:1.228948772458707,   D loss:1.3857768319420896\n",
      "Epoch:30,   G loss:1.3494306641109919,   D loss:1.282850346322787\n",
      "Epoch:31,   G loss:0.9614369174686529,   D loss:1.494579343472497\n",
      "Epoch:32,   G loss:1.217714264231213,   D loss:1.3555560314049155\n",
      "Epoch:33,   G loss:1.1859537267078788,   D loss:1.341747923422668\n",
      "Epoch:34,   G loss:1.1163741511813665,   D loss:1.3837384116851676\n",
      "Epoch:35,   G loss:1.1102435270608482,   D loss:1.3797636607945976\n",
      "Epoch:36,   G loss:1.1730846368660361,   D loss:1.4079232377521063\n",
      "Epoch:37,   G loss:1.137075428740453,   D loss:1.4230987934742945\n",
      "Epoch:38,   G loss:1.0572558944508181,   D loss:1.4265353467504858\n",
      "Epoch:39,   G loss:1.0114457672935422,   D loss:1.3925052760011059\n",
      "Epoch:40,   G loss:1.0451538380929979,   D loss:1.5362061575307684\n",
      "Epoch:41,   G loss:1.0838585657588506,   D loss:1.327463722835153\n",
      "Epoch:42,   G loss:1.0071476101875305,   D loss:1.444421452991033\n",
      "Epoch:43,   G loss:1.148763750064171,   D loss:1.4212738942291776\n",
      "Epoch:44,   G loss:1.1660444574840998,   D loss:1.3502109252800376\n",
      "Epoch:45,   G loss:1.103105772854918,   D loss:1.3753386948068262\n",
      "Epoch:46,   G loss:1.0555825324381811,   D loss:1.3885046112335335\n",
      "Epoch:47,   G loss:1.1644689526598333,   D loss:1.398098344519987\n",
      "Epoch:48,   G loss:1.2149005183729076,   D loss:1.427263874118611\n",
      "Epoch:49,   G loss:1.0811316032530898,   D loss:1.431954455577721\n",
      "Epoch:50,   G loss:1.162911994982574,   D loss:1.4072897323107316\n",
      "Epoch:51,   G loss:1.1077742349293271,   D loss:1.352199034165528\n",
      "Epoch:52,   G loss:1.092447210166414,   D loss:1.4169743849059282\n",
      "Epoch:53,   G loss:1.3987626291937747,   D loss:1.420361270338802\n",
      "Epoch:54,   G loss:1.253983932531486,   D loss:1.3146000231726696\n",
      "Epoch:55,   G loss:1.0342552874047877,   D loss:1.4273707432261968\n",
      "Epoch:56,   G loss:1.2274517654362371,   D loss:1.4062618941573772\n",
      "Epoch:57,   G loss:1.0693691271846577,   D loss:1.4390876949843714\n",
      "Epoch:58,   G loss:1.2661259937084328,   D loss:1.402875300181114\n",
      "Epoch:59,   G loss:1.1953373642291052,   D loss:1.398389836489144\n",
      "Epoch:60,   G loss:1.4607244527946084,   D loss:1.4156318913071841\n",
      "Epoch:61,   G loss:1.6838970164121208,   D loss:1.2814759324162692\n",
      "Epoch:62,   G loss:1.237944142798246,   D loss:1.4143071472644806\n",
      "Epoch:63,   G loss:1.28446982119043,   D loss:1.4300721247317427\n",
      "Epoch:64,   G loss:1.2640381571599992,   D loss:1.3989723052008678\n",
      "Epoch:65,   G loss:1.3358112482701319,   D loss:1.4071216815609042\n",
      "Epoch:66,   G loss:1.3512657840373152,   D loss:1.2890151693659313\n",
      "Epoch:67,   G loss:1.1253989924818784,   D loss:1.4468451697947615\n",
      "Epoch:68,   G loss:1.9385296035621127,   D loss:1.412630577208632\n",
      "Epoch:69,   G loss:1.536172945115526,   D loss:1.1374238305172677\n",
      "Epoch:70,   G loss:1.4665146843861725,   D loss:1.417711615562439\n",
      "Epoch:71,   G loss:1.7261236966666529,   D loss:1.2519809992636663\n",
      "Epoch:72,   G loss:1.6547081945306163,   D loss:1.320007170661021\n",
      "Epoch:73,   G loss:1.6435348846144595,   D loss:1.1820698153164426\n",
      "Epoch:74,   G loss:1.2839695508197202,   D loss:1.3657453716811487\n",
      "Epoch:75,   G loss:1.5328307626611095,   D loss:1.3389647582830009\n",
      "Epoch:76,   G loss:1.2780603291624684,   D loss:1.3335057416204679\n",
      "Epoch:77,   G loss:1.347975123736818,   D loss:1.3896774735491155\n",
      "Epoch:78,   G loss:1.2859084282891224,   D loss:1.3766146150685974\n",
      "Epoch:79,   G loss:1.2440004414421018,   D loss:1.4153324183771165\n",
      "Epoch:80,   G loss:1.1122148784540467,   D loss:1.3045411200846655\n",
      "Epoch:81,   G loss:1.1524221998150066,   D loss:1.3934338214033741\n",
      "Epoch:82,   G loss:1.146728100412983,   D loss:1.335796398631597\n",
      "Epoch:83,   G loss:1.316634066024069,   D loss:1.3911400861659293\n",
      "Epoch:84,   G loss:1.1938246579493506,   D loss:1.2899371769468664\n",
      "Epoch:85,   G loss:1.014304505061295,   D loss:1.45696344011921\n",
      "Epoch:86,   G loss:1.5128948102563113,   D loss:1.4542795712664975\n",
      "Epoch:87,   G loss:2.0840184830002864,   D loss:1.172587537664478\n",
      "Epoch:88,   G loss:1.2620459906125472,   D loss:1.3214051925529868\n",
      "Epoch:89,   G loss:1.3769331079418377,   D loss:1.3539933986583\n",
      "Epoch:90,   G loss:1.3403871938333674,   D loss:1.492710824740135\n",
      "Epoch:91,   G loss:2.0863390534611073,   D loss:1.3724740576946128\n",
      "Epoch:92,   G loss:1.5735718880669545,   D loss:1.1930946970390062\n",
      "Epoch:93,   G loss:1.1519905667183763,   D loss:1.441778162778434\n",
      "Epoch:94,   G loss:1.6024151141360654,   D loss:1.480590008072934\n",
      "Epoch:95,   G loss:1.7650348746170432,   D loss:1.21531378869283\n",
      "Epoch:96,   G loss:1.3346717989040633,   D loss:1.3286840551990573\n",
      "Epoch:97,   G loss:1.5778231438943895,   D loss:1.5192372960559393\n",
      "Epoch:98,   G loss:2.7432804430945446,   D loss:1.3168239795555503\n",
      "Epoch:99,   G loss:2.1762727236343644,   D loss:1.1744069345926835\n"
     ]
    }
   ],
   "source": [
    "for epoch in range(100):\n",
    "    G_loss_run = 0.0\n",
    "    D_loss_run = 0.0\n",
    "    for i, data in enumerate(train_loader):\n",
    "        X, _ = data\n",
    "        batch_size = X.size(0)  # 4d \n",
    "\n",
    "        # Definig labels for real (1s) and fake (0s) images\n",
    "        one_labels = torch.ones(batch_size, 1).to(device)  # True labels\n",
    "        zero_labels = torch.zeros(batch_size, 1).to(device)  # Fake Labels\n",
    "\n",
    "        # Random normal distribution for each image\n",
    "        z = torch.randn(batch_size, 100)\n",
    "\n",
    "        # Feed forward in discriminator both \n",
    "        # fake and real images\n",
    "        D_real = model_ds(X.to(device))\n",
    "        fakes = model_gn(z.to(device))\n",
    "        D_fake = model_ds(fakes.to(device))\n",
    "\n",
    "        # Defining the loss for Discriminator\n",
    "        D_real_loss = F.binary_cross_entropy(D_real, one_labels)\n",
    "        D_fake_loss = F.binary_cross_entropy(D_fake, zero_labels)\n",
    "        D_loss = D_fake_loss + D_real_loss\n",
    "\n",
    "        # backward propagation for discriminator\n",
    "        optim_ds.zero_grad()\n",
    "        D_loss.backward()\n",
    "        optim_ds.step()\n",
    "\n",
    "        ##############\n",
    "        ### GN\n",
    "        ################\n",
    "        # Feed forward for generator\n",
    "        z = torch.randn(batch_size, 100)\n",
    "        fakes = model_gn(z.to(device))\n",
    "        D_fake = model_ds(fakes.to(device))\n",
    "\n",
    "        # loss function of generator\n",
    "        G_loss = F.binary_cross_entropy(D_fake, one_labels)\n",
    "\n",
    "        # backward propagation for generator\n",
    "        optim_gn.zero_grad()\n",
    "        G_loss.backward()\n",
    "        optim_gn.step()\n",
    "\n",
    "        G_loss_run += G_loss.item()\n",
    "        D_loss_run += D_loss.item()\n",
    "\n",
    "    # printing loss after each epoch \n",
    "    print('Epoch:{},   G loss:{},   D loss:{}'.format(epoch, G_loss_run / (i + 1), D_loss_run / (i + 1)))"
   ]
  },
  {
   "cell_type": "markdown",
   "metadata": {
    "colab_type": "text",
    "id": "xOnz_GB23EQY"
   },
   "source": [
    "# Train 2"
   ]
  },
  {
   "cell_type": "code",
   "execution_count": 0,
   "metadata": {
    "colab": {},
    "colab_type": "code",
    "id": "ITBhqKOhjvDg"
   },
   "outputs": [],
   "source": [
    "# Calculate losses\n",
    "def real_loss(D_out, smooth=False):\n",
    "    batch_size = D_out.size(0)\n",
    "    # label smoothing\n",
    "    if smooth:\n",
    "        # smooth, real labels = 0.9\n",
    "        labels = torch.ones(batch_size) * 0.9\n",
    "    else:\n",
    "        labels = torch.ones(batch_size)  # real labels = 1\n",
    "\n",
    "    # numerically stable loss\n",
    "    criterion = nn.BCEWithLogitsLoss()\n",
    "    # calculate loss\n",
    "    loss = criterion(D_out.squeeze(), labels)\n",
    "    return loss\n",
    "\n",
    "\n",
    "def fake_loss(D_out):\n",
    "    batch_size = D_out.size(0)\n",
    "    labels = torch.zeros(batch_size)  # fake labels = 0\n",
    "    criterion = nn.BCEWithLogitsLoss()\n",
    "    # calculate loss\n",
    "    loss = criterion(D_out.squeeze(), labels)\n",
    "    return loss"
   ]
  },
  {
   "cell_type": "code",
   "execution_count": 57,
   "metadata": {
    "colab": {
     "base_uri": "https://localhost:8080/",
     "height": 1000
    },
    "colab_type": "code",
    "id": "kJOGgj65SybN",
    "outputId": "d1cfd993-c416-4d94-e327-d293ea7373c3"
   },
   "outputs": [
    {
     "name": "stdout",
     "output_type": "stream",
     "text": [
      "Epoch [    1/  100] | d_loss: 0.3252 | g_loss: 20.8105\n",
      "Epoch [    2/  100] | d_loss: 0.3252 | g_loss: 21.1359\n",
      "Epoch [    3/  100] | d_loss: 0.3252 | g_loss: 20.3975\n",
      "Epoch [    4/  100] | d_loss: 0.3252 | g_loss: 20.7555\n",
      "Epoch [    5/  100] | d_loss: 0.3252 | g_loss: 21.7650\n",
      "Epoch [    6/  100] | d_loss: 0.3252 | g_loss: 21.4606\n",
      "Epoch [    7/  100] | d_loss: 0.3252 | g_loss: 22.0812\n",
      "Epoch [    8/  100] | d_loss: 0.3251 | g_loss: 21.0941\n",
      "Epoch [    9/  100] | d_loss: 0.3251 | g_loss: 21.5352\n",
      "Epoch [   10/  100] | d_loss: 0.3251 | g_loss: 21.3831\n",
      "Epoch [   11/  100] | d_loss: 0.3251 | g_loss: 20.9818\n",
      "Epoch [   12/  100] | d_loss: 0.3251 | g_loss: 22.0973\n",
      "Epoch [   13/  100] | d_loss: 0.3251 | g_loss: 21.1521\n",
      "Epoch [   14/  100] | d_loss: 0.3251 | g_loss: 21.0368\n",
      "Epoch [   15/  100] | d_loss: 0.3251 | g_loss: 21.3824\n",
      "Epoch [   16/  100] | d_loss: 0.3251 | g_loss: 21.9698\n",
      "Epoch [   17/  100] | d_loss: 0.3251 | g_loss: 21.0951\n",
      "Epoch [   18/  100] | d_loss: 0.3251 | g_loss: 21.6035\n",
      "Epoch [   19/  100] | d_loss: 0.3251 | g_loss: 21.8196\n",
      "Epoch [   20/  100] | d_loss: 0.3251 | g_loss: 21.5408\n",
      "Epoch [   21/  100] | d_loss: 0.3251 | g_loss: 21.1916\n",
      "Epoch [   22/  100] | d_loss: 0.3251 | g_loss: 21.2987\n",
      "Epoch [   23/  100] | d_loss: 0.3251 | g_loss: 21.4178\n",
      "Epoch [   24/  100] | d_loss: 0.3251 | g_loss: 21.3916\n",
      "Epoch [   25/  100] | d_loss: 0.3251 | g_loss: 21.2769\n",
      "Epoch [   26/  100] | d_loss: 0.3251 | g_loss: 21.6651\n",
      "Epoch [   27/  100] | d_loss: 0.3251 | g_loss: 21.1448\n",
      "Epoch [   28/  100] | d_loss: 0.3251 | g_loss: 21.2305\n",
      "Epoch [   29/  100] | d_loss: 0.3251 | g_loss: 20.8519\n",
      "Epoch [   30/  100] | d_loss: 0.3251 | g_loss: 20.9308\n",
      "Epoch [   31/  100] | d_loss: 0.3251 | g_loss: 20.6458\n",
      "Epoch [   32/  100] | d_loss: 0.3251 | g_loss: 22.2594\n",
      "Epoch [   33/  100] | d_loss: 0.3267 | g_loss: 19.9342\n",
      "Epoch [   34/  100] | d_loss: 0.3254 | g_loss: 16.4956\n",
      "Epoch [   35/  100] | d_loss: 0.3253 | g_loss: 17.3475\n",
      "Epoch [   36/  100] | d_loss: 0.3253 | g_loss: 13.0111\n",
      "Epoch [   37/  100] | d_loss: 0.3255 | g_loss: 15.1693\n",
      "Epoch [   38/  100] | d_loss: 0.3253 | g_loss: 15.2574\n",
      "Epoch [   39/  100] | d_loss: 0.3252 | g_loss: 17.1113\n",
      "Epoch [   40/  100] | d_loss: 0.3252 | g_loss: 16.7972\n",
      "Epoch [   41/  100] | d_loss: 0.3251 | g_loss: 16.1791\n",
      "Epoch [   42/  100] | d_loss: 0.3251 | g_loss: 16.9812\n",
      "Epoch [   43/  100] | d_loss: 0.3251 | g_loss: 16.5581\n",
      "Epoch [   44/  100] | d_loss: 0.3251 | g_loss: 17.3382\n",
      "Epoch [   45/  100] | d_loss: 0.3251 | g_loss: 16.1698\n",
      "Epoch [   46/  100] | d_loss: 0.3252 | g_loss: 19.1220\n",
      "Epoch [   47/  100] | d_loss: 0.3251 | g_loss: 19.4065\n",
      "Epoch [   48/  100] | d_loss: 0.3251 | g_loss: 18.6558\n",
      "Epoch [   49/  100] | d_loss: 0.3251 | g_loss: 18.6285\n",
      "Epoch [   50/  100] | d_loss: 0.3252 | g_loss: 15.2848\n",
      "Epoch [   51/  100] | d_loss: 0.3252 | g_loss: 17.7251\n",
      "Epoch [   52/  100] | d_loss: 0.3253 | g_loss: 16.3880\n",
      "Epoch [   53/  100] | d_loss: 0.3251 | g_loss: 20.6307\n",
      "Epoch [   54/  100] | d_loss: 0.3251 | g_loss: 20.7398\n",
      "Epoch [   55/  100] | d_loss: 0.3251 | g_loss: 20.2837\n",
      "Epoch [   56/  100] | d_loss: 0.3251 | g_loss: 20.5319\n",
      "Epoch [   57/  100] | d_loss: 0.3251 | g_loss: 21.5733\n",
      "Epoch [   58/  100] | d_loss: 0.3251 | g_loss: 21.0919\n",
      "Epoch [   59/  100] | d_loss: 0.3251 | g_loss: 19.7707\n",
      "Epoch [   60/  100] | d_loss: 0.3251 | g_loss: 21.3579\n",
      "Epoch [   61/  100] | d_loss: 0.3251 | g_loss: 21.4286\n",
      "Epoch [   62/  100] | d_loss: 0.3251 | g_loss: 21.5781\n",
      "Epoch [   63/  100] | d_loss: 0.3251 | g_loss: 20.8214\n",
      "Epoch [   64/  100] | d_loss: 0.3251 | g_loss: 21.2708\n",
      "Epoch [   65/  100] | d_loss: 0.3251 | g_loss: 20.9279\n",
      "Epoch [   66/  100] | d_loss: 0.3251 | g_loss: 20.9941\n",
      "Epoch [   67/  100] | d_loss: 0.3251 | g_loss: 21.0792\n",
      "Epoch [   68/  100] | d_loss: 0.3251 | g_loss: 20.9936\n",
      "Epoch [   69/  100] | d_loss: 0.3251 | g_loss: 21.0206\n",
      "Epoch [   70/  100] | d_loss: 0.3251 | g_loss: 21.3327\n",
      "Epoch [   71/  100] | d_loss: 0.3251 | g_loss: 21.3629\n",
      "Epoch [   72/  100] | d_loss: 0.3251 | g_loss: 20.8098\n",
      "Epoch [   73/  100] | d_loss: 0.3251 | g_loss: 20.9551\n",
      "Epoch [   74/  100] | d_loss: 0.3251 | g_loss: 20.8165\n",
      "Epoch [   75/  100] | d_loss: 0.3251 | g_loss: 21.6296\n",
      "Epoch [   76/  100] | d_loss: 0.3251 | g_loss: 21.5913\n",
      "Epoch [   77/  100] | d_loss: 0.3251 | g_loss: 21.8175\n",
      "Epoch [   78/  100] | d_loss: 0.3251 | g_loss: 21.5019\n",
      "Epoch [   79/  100] | d_loss: 0.3251 | g_loss: 21.6956\n",
      "Epoch [   80/  100] | d_loss: 0.3251 | g_loss: 20.0226\n",
      "Epoch [   81/  100] | d_loss: 0.3251 | g_loss: 19.6826\n",
      "Epoch [   82/  100] | d_loss: 0.3252 | g_loss: 24.7476\n",
      "Epoch [   83/  100] | d_loss: 0.3314 | g_loss: 14.7332\n",
      "Epoch [   84/  100] | d_loss: 0.3267 | g_loss: 15.5899\n",
      "Epoch [   85/  100] | d_loss: 0.3260 | g_loss: 18.0615\n",
      "Epoch [   86/  100] | d_loss: 0.3258 | g_loss: 17.5701\n",
      "Epoch [   87/  100] | d_loss: 0.3258 | g_loss: 17.1847\n",
      "Epoch [   88/  100] | d_loss: 0.3255 | g_loss: 18.2008\n",
      "Epoch [   89/  100] | d_loss: 0.3259 | g_loss: 15.7565\n",
      "Epoch [   90/  100] | d_loss: 0.3256 | g_loss: 15.9853\n",
      "Epoch [   91/  100] | d_loss: 0.3263 | g_loss: 23.4649\n",
      "Epoch [   92/  100] | d_loss: 0.3256 | g_loss: 16.0017\n",
      "Epoch [   93/  100] | d_loss: 0.3254 | g_loss: 15.9734\n",
      "Epoch [   94/  100] | d_loss: 0.3254 | g_loss: 16.6938\n",
      "Epoch [   95/  100] | d_loss: 0.3253 | g_loss: 17.6562\n",
      "Epoch [   96/  100] | d_loss: 0.3253 | g_loss: 16.7213\n",
      "Epoch [   97/  100] | d_loss: 0.3253 | g_loss: 16.7391\n",
      "Epoch [   98/  100] | d_loss: 0.3253 | g_loss: 16.4885\n",
      "Epoch [   99/  100] | d_loss: 0.3253 | g_loss: 18.5136\n",
      "Epoch [  100/  100] | d_loss: 0.3262 | g_loss: 19.3844\n"
     ]
    }
   ],
   "source": [
    "import pickle as pkl\n",
    "\n",
    "# training hyperparams\n",
    "num_epochs = 100\n",
    "last_output = 100\n",
    "\n",
    "# keep track of loss and generated, \"fake\" samples\n",
    "samples = []\n",
    "losses = []\n",
    "\n",
    "print_every = 400\n",
    "\n",
    "sample_size = 16\n",
    "fixed_z = np.random.uniform(-1, 1, size=(sample_size, last_output))\n",
    "fixed_z = torch.from_numpy(fixed_z).float()\n",
    "\n",
    "\n",
    "# train the network\n",
    "model_ds.train()\n",
    "model_gn.train()\n",
    "\n",
    "for epoch in range(num_epochs):\n",
    "\n",
    "    for batch_i, (real_images, _) in enumerate(train_loader):\n",
    "\n",
    "        batch_size = real_images.size(0)\n",
    "        real_images = real_images * 2 - 1\n",
    "\n",
    "        # remove gradients\n",
    "        optim_ds.zero_grad()\n",
    "\n",
    "        # train with real image\n",
    "        D_real = model_ds(real_images.to(device))\n",
    "        d_real_loss = real_loss(D_real.cpu(), smooth=True)\n",
    "\n",
    "        # generae fake image\n",
    "        z = np.random.uniform(-1, 1, size=(batch_size, last_output))\n",
    "        z = torch.from_numpy(z).float()\n",
    "        fake_images = model_gn(z.to(device))\n",
    "\n",
    "        D_fake = model_ds(fake_images.to(device))\n",
    "        d_fake_loss = fake_loss(D_fake.cpu())\n",
    "\n",
    "        d_loss = d_real_loss + d_fake_loss\n",
    "        d_loss.backward()\n",
    "        optim_ds.step()\n",
    "\n",
    "        ## Generator\n",
    "        optim_gn.zero_grad()\n",
    "\n",
    "        fake_images = model_gn(z.to(device))\n",
    "\n",
    "        D_fake = model_ds(fake_images.to(device))\n",
    "        g_loss = real_loss(D_fake.cpu())  # use real loss to flip labels\n",
    "\n",
    "        g_loss.backward()\n",
    "        optim_gn.step()\n",
    "\n",
    "        if batch_i % print_every == 0:\n",
    "            # print discriminator and generator loss\n",
    "            print('Epoch [{:5d}/{:5d}] | d_loss: {:6.4f} | g_loss: {:6.4f}'.format(\n",
    "                epoch + 1, num_epochs, d_loss.item(), g_loss.item()))\n",
    "\n",
    "    losses.append((d_loss.item(), g_loss.item()))\n",
    "\n",
    "    model_gn.eval()  # eval mode for generating samples\n",
    "    samples_z = model_gn(fixed_z.to(device))\n",
    "    samples.append(samples_z)\n",
    "    model_gn.train()  # back to train mode\n",
    "\n",
    "# Save training generator samples\n",
    "with open('train_samples.pkl', 'wb') as f:\n",
    "    pkl.dump(samples, f)"
   ]
  },
  {
   "cell_type": "markdown",
   "metadata": {
    "colab_type": "text",
    "id": "LHgniJ1CrUqd"
   },
   "source": [
    "Loss"
   ]
  },
  {
   "cell_type": "code",
   "execution_count": 58,
   "metadata": {
    "colab": {
     "base_uri": "https://localhost:8080/",
     "height": 298
    },
    "colab_type": "code",
    "id": "RLG980uGrWFd",
    "outputId": "14a831b4-544a-4497-d8b9-fc551f5cf420"
   },
   "outputs": [
    {
     "data": {
      "text/plain": [
       "<matplotlib.legend.Legend at 0x7fd24581b5c0>"
      ]
     },
     "execution_count": 58,
     "metadata": {
      "tags": []
     },
     "output_type": "execute_result"
    },
    {
     "data": {
      "image/png": "[encoded data removed]",
      "text/plain": [
       "<Figure size 432x288 with 1 Axes>"
      ]
     },
     "metadata": {
      "tags": []
     },
     "output_type": "display_data"
    }
   ],
   "source": [
    "fig, ax = plt.subplots()\n",
    "losses = np.array(losses)\n",
    "plt.plot(losses.T[0], label='Discriminator')\n",
    "plt.plot(losses.T[1], label='Generator')\n",
    "plt.title(\"Training Losses\")\n",
    "plt.legend()"
   ]
  },
  {
   "cell_type": "markdown",
   "metadata": {
    "colab_type": "text",
    "id": "EXgJQnH4rO9X"
   },
   "source": [
    "# Generate 1 Image"
   ]
  },
  {
   "cell_type": "code",
   "execution_count": 82,
   "metadata": {
    "colab": {
     "base_uri": "https://localhost:8080/",
     "height": 34
    },
    "colab_type": "code",
    "id": "nKagCvzNmmRN",
    "outputId": "026b3ceb-fc9a-4422-adeb-214ef94d34a0"
   },
   "outputs": [
    {
     "data": {
      "text/plain": [
       "1"
      ]
     },
     "execution_count": 82,
     "metadata": {
      "tags": []
     },
     "output_type": "execute_result"
    }
   ],
   "source": [
    "sample_size=1\n",
    "rand_z = np.random.uniform(-1, 1, size=(sample_size, 100))\n",
    "rand_z = torch.from_numpy(rand_z).float()\n",
    "#z = torch.randn(batch_size, 100)\n",
    "\n",
    "model_gn.eval() # eval mode\n",
    "rand_images = model_gn(rand_z.to(device))\n",
    "\n",
    "len(rand_images)"
   ]
  },
  {
   "cell_type": "code",
   "execution_count": 83,
   "metadata": {
    "colab": {
     "base_uri": "https://localhost:8080/",
     "height": 286
    },
    "colab_type": "code",
    "id": "qfEv59DFpyaJ",
    "outputId": "98587a1a-8af5-417d-d46c-bf24be292a5e"
   },
   "outputs": [
    {
     "data": {
      "text/plain": [
       "<matplotlib.image.AxesImage at 0x7fd240d242e8>"
      ]
     },
     "execution_count": 83,
     "metadata": {
      "tags": []
     },
     "output_type": "execute_result"
    },
    {
     "data": {
      "image/png": "[encoded data removed]",
      "text/plain": [
       "<Figure size 432x288 with 1 Axes>"
      ]
     },
     "metadata": {
      "tags": []
     },
     "output_type": "display_data"
    }
   ],
   "source": [
    "img = rand_images.cpu().detach()\n",
    "plt.imshow(img.reshape((28,28)))"
   ]
  },
  {
   "cell_type": "markdown",
   "metadata": {
    "colab_type": "text",
    "id": "EAL0IGJ0rLK_"
   },
   "source": [
    "# Generate 16 images"
   ]
  },
  {
   "cell_type": "code",
   "execution_count": 0,
   "metadata": {
    "colab": {},
    "colab_type": "code",
    "id": "aM8RTY0XpYHZ"
   },
   "outputs": [],
   "source": [
    "# helper function for viewing a list of passed in sample images\n",
    "def view_samples(epoch, samples):\n",
    "    fig, axes = plt.subplots(figsize=(7,7), nrows=4, ncols=4, sharey=True, sharex=True)\n",
    "    for ax, img in zip(axes.flatten(), samples[epoch]):\n",
    "        img = img.detach()\n",
    "        ax.xaxis.set_visible(False)\n",
    "        ax.yaxis.set_visible(False)\n",
    "        im = ax.imshow(img.reshape((28,28)), cmap='Greys_r')"
   ]
  },
  {
   "cell_type": "code",
   "execution_count": 86,
   "metadata": {
    "colab": {
     "base_uri": "https://localhost:8080/",
     "height": 411
    },
    "colab_type": "code",
    "id": "OXeAFsegqTI_",
    "outputId": "2728c12f-875f-4c94-f209-2c6f30a67521"
   },
   "outputs": [
    {
     "data": {
      "image/png": "[encoded data removed]",
      "text/plain": [
       "<Figure size 504x504 with 16 Axes>"
      ]
     },
     "metadata": {
      "tags": []
     },
     "output_type": "display_data"
    }
   ],
   "source": [
    "sample_size=16\n",
    "rand_z = np.random.uniform(-1, 1, size=(sample_size, 100))\n",
    "rand_z = torch.from_numpy(rand_z).float()\n",
    "\n",
    "#z = torch.randn(64, 100)\n",
    "\n",
    "model_gn.eval() # eval mode\n",
    "rand_images = model_gn(rand_z.to(device))\n",
    "\n",
    "len(rand_images)\n",
    "view_samples(0, [rand_images.cpu()])"
   ]
  }
 ],
 "metadata": {
  "accelerator": "GPU",
  "colab": {
   "name": "DGAN MINIST.ipynb",
   "provenance": [],
   "version": "0.3.2"
  },
  "kernelspec": {
   "display_name": "Python 3",
   "language": "python",
   "name": "python3"
  },
  "language_info": {
   "codemirror_mode": {
    "name": "ipython",
    "version": 3
   },
   "file_extension": ".py",
   "mimetype": "text/x-python",
   "name": "python",
   "nbconvert_exporter": "python",
   "pygments_lexer": "ipython3",
   "version": "3.7.3"
  }
 },
 "nbformat": 4,
 "nbformat_minor": 1
}
