{
  "nbformat": 4,
  "nbformat_minor": 0,
  "metadata": {
    "colab": {
      "name": "Lesson 6 IMDB with CNN1d.ipynb",
      "version": "0.3.2",
      "provenance": [],
      "collapsed_sections": []
    },
    "kernelspec": {
      "name": "python3",
      "display_name": "Python 3"
    },
    "accelerator": "GPU"
  },
  "cells": [
    {
      "cell_type": "code",
      "metadata": {
        "id": "iloOokb4eTHR",
        "colab_type": "code",
        "colab": {}
      },
      "source": [
        "from torchtext import data,datasets\n",
        "from torchtext.vocab import GloVe,FastText,CharNGram\n",
        "import torch.nn as nn\n",
        "import torch.optim as optim\n",
        "import torch.nn.functional as F\n",
        "from torch.autograd import Variable\n",
        "import torch\n",
        "import sys"
      ],
      "execution_count": 0,
      "outputs": []
    },
    {
      "cell_type": "code",
      "metadata": {
        "id": "DoTIoD_hgBiK",
        "colab_type": "code",
        "colab": {}
      },
      "source": [
        "is_cuda = torch.cuda.is_available()"
      ],
      "execution_count": 0,
      "outputs": []
    },
    {
      "cell_type": "code",
      "metadata": {
        "id": "a6DVjEKDgEeX",
        "colab_type": "code",
        "colab": {}
      },
      "source": [
        "TEXT = data.Field(lower=True,fix_length=200,batch_first=False)\n",
        "LABEL = data.Field(sequential=False,)"
      ],
      "execution_count": 0,
      "outputs": []
    },
    {
      "cell_type": "code",
      "metadata": {
        "id": "zMrsvTCigGEO",
        "colab_type": "code",
        "colab": {}
      },
      "source": [
        "from torchtext import datasets\n",
        "train, test = datasets.IMDB.splits(TEXT, LABEL)"
      ],
      "execution_count": 0,
      "outputs": []
    },
    {
      "cell_type": "code",
      "metadata": {
        "id": "D13z2TOOgHpn",
        "colab_type": "code",
        "colab": {}
      },
      "source": [
        "TEXT.build_vocab(train, vectors=GloVe(name='6B', dim=300),max_size=10000,min_freq=10)\n",
        "LABEL.build_vocab(train,)"
      ],
      "execution_count": 0,
      "outputs": []
    },
    {
      "cell_type": "code",
      "metadata": {
        "id": "-5-l7VfJgJLX",
        "colab_type": "code",
        "outputId": "c1c1ff18-562c-45d5-ea5c-890b5d26251f",
        "colab": {
          "base_uri": "https://localhost:8080/",
          "height": 71
        }
      },
      "source": [
        "train_iter, test_iter = data.BucketIterator.splits((train, test), batch_size=32, device=-1)\n",
        "train_iter.repeat = False\n",
        "test_iter.repeat = False"
      ],
      "execution_count": 23,
      "outputs": [
        {
          "output_type": "stream",
          "text": [
            "The `device` argument should be set by using `torch.device` or passing a string as an argument. This behavior will be deprecated soon and currently defaults to cpu.\n",
            "The `device` argument should be set by using `torch.device` or passing a string as an argument. This behavior will be deprecated soon and currently defaults to cpu.\n"
          ],
          "name": "stderr"
        }
      ]
    },
    {
      "cell_type": "code",
      "metadata": {
        "id": "pAvZzDHLgLMY",
        "colab_type": "code",
        "colab": {}
      },
      "source": [
        "class IMDBCnn(nn.Module):\n",
        "    \n",
        "    def __init__(self,vocab,hidden_size,n_cat,bs=1,kernel_size=3,max_len=200):\n",
        "        super().__init__()\n",
        "        self.hidden_size = hidden_size\n",
        "        self.bs = bs\n",
        "        self.e = nn.Embedding(n_vocab,hidden_size)\n",
        "        self.cnn = nn.Conv1d(max_len,hidden_size,kernel_size)\n",
        "        self.avg = nn.AdaptiveAvgPool1d(10)\n",
        "        self.fc = nn.Linear(1000,n_cat)\n",
        "        self.softmax = nn.LogSoftmax(dim=-1)\n",
        "        \n",
        "    def forward(self,inp):\n",
        "        bs = inp.size()[0]\n",
        "        if bs != self.bs:\n",
        "            self.bs = bs\n",
        "        e_out = self.e(inp)\n",
        "        cnn_o = self.cnn(e_out) \n",
        "        cnn_avg = self.avg(cnn_o)\n",
        "        cnn_avg = cnn_avg.view(self.bs,-1)\n",
        "        fc = F.dropout(self.fc(cnn_avg),p=0.5)\n",
        "        return self.softmax(fc)"
      ],
      "execution_count": 0,
      "outputs": []
    },
    {
      "cell_type": "code",
      "metadata": {
        "id": "S6OplJTegNv2",
        "colab_type": "code",
        "colab": {}
      },
      "source": [
        "n_vocab = len(TEXT.vocab)\n",
        "hidden_size = 100"
      ],
      "execution_count": 0,
      "outputs": []
    },
    {
      "cell_type": "code",
      "metadata": {
        "id": "gPlhQe37gP2o",
        "colab_type": "code",
        "colab": {}
      },
      "source": [
        "model = IMDBCnn(n_vocab,hidden_size,n_cat=3,bs=32,kernel_size=2)\n",
        "model = model.cuda()\n",
        "\n",
        "optimizer = optim.Adam(model.parameters(),lr=0.001)\n",
        "\n",
        "def fit(epoch,model,data_loader,phase='training',volatile=False):\n",
        "    if phase == 'training':\n",
        "        model.train()\n",
        "    if phase == 'validation':\n",
        "        model.eval()\n",
        "        volatile=True\n",
        "    running_loss = 0.0\n",
        "    running_correct = 0\n",
        "    for batch_idx , batch in enumerate(data_loader):\n",
        "        text , target = batch.text , batch.label\n",
        "        if is_cuda:\n",
        "            text,target = text.cuda(),target.cuda()\n",
        "        \n",
        "        if phase == 'training':\n",
        "            optimizer.zero_grad()\n",
        "        output = model(text)\n",
        "        loss = F.nll_loss(output,target)\n",
        "        \n",
        "        running_loss += F.nll_loss(output,target).item()\n",
        "        preds = output.data.max(dim=1,keepdim=True)[1]\n",
        "        running_correct += preds.eq(target.data.view_as(preds)).cpu().sum()\n",
        "        if phase == 'training':\n",
        "            loss.backward()\n",
        "            optimizer.step()\n",
        "    \n",
        "    loss = running_loss/len(data_loader.dataset)\n",
        "    accuracy = 100. * running_correct/len(data_loader.dataset)\n",
        "    \n",
        "    print(\"Phase: {}\".format(phase),\n",
        "         \"\\tLoss is: {}\".format(loss),\n",
        "         \"\\tAccuray: {}\".format(accuracy))\n",
        "    return loss,accuracy"
      ],
      "execution_count": 0,
      "outputs": []
    },
    {
      "cell_type": "code",
      "metadata": {
        "id": "PIn9VHxnjtXx",
        "colab_type": "code",
        "colab": {}
      },
      "source": [
        "train_losses , train_accuracy = [],[]\n",
        "val_losses , val_accuracy = [],[]\n",
        "\n",
        "for epoch in range(1,10):\n",
        "\n",
        "    epoch_loss, epoch_accuracy = fit(epoch,model,train_iter,phase='training')\n",
        "    val_epoch_loss , val_epoch_accuracy = fit(epoch,model,test_iter,phase='validation')\n",
        "    train_losses.append(epoch_loss)\n",
        "    train_accuracy.append(epoch_accuracy)\n",
        "    val_losses.append(val_epoch_loss)\n",
        "    val_accuracy.append(val_epoch_accuracy)"
      ],
      "execution_count": 0,
      "outputs": []
    }
  ]
}