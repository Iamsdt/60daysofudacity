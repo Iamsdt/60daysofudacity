{
  "nbformat": 4,
  "nbformat_minor": 0,
  "metadata": {
    "colab": {
      "name": "Lesson7.ipynb",
      "version": "0.3.2",
      "provenance": []
    },
    "kernelspec": {
      "name": "python3",
      "display_name": "Python 3"
    }
  },
  "cells": [
    {
      "cell_type": "code",
      "metadata": {
        "id": "DDRp1ufePCKN",
        "colab_type": "code",
        "colab": {}
      },
      "source": [
        "!pip install syft"
      ],
      "execution_count": 0,
      "outputs": []
    },
    {
      "cell_type": "code",
      "metadata": {
        "id": "Ii_kLzDRaJZF",
        "colab_type": "code",
        "colab": {}
      },
      "source": [
        "import torch as th\n",
        "import syft as sy\n",
        "\n",
        "hook = sy.TorchHook(th)"
      ],
      "execution_count": 0,
      "outputs": []
    },
    {
      "cell_type": "markdown",
      "metadata": {
        "id": "zdRsp-zIbD5j",
        "colab_type": "text"
      },
      "source": [
        "# Create virtual worker"
      ]
    },
    {
      "cell_type": "code",
      "metadata": {
        "id": "RjdpbrVOarrg",
        "colab_type": "code",
        "colab": {}
      },
      "source": [
        "bob = sy.VirtualWorker(hook, id='bob')"
      ],
      "execution_count": 0,
      "outputs": []
    },
    {
      "cell_type": "code",
      "metadata": {
        "id": "fGj9YN33bL-4",
        "colab_type": "code",
        "outputId": "002bab73-4c7b-4079-a007-f2f74b564a6a",
        "colab": {
          "base_uri": "https://localhost:8080/",
          "height": 34
        }
      },
      "source": [
        "bob._objects"
      ],
      "execution_count": 0,
      "outputs": [
        {
          "output_type": "execute_result",
          "data": {
            "text/plain": [
              "{}"
            ]
          },
          "metadata": {
            "tags": []
          },
          "execution_count": 5
        }
      ]
    },
    {
      "cell_type": "code",
      "metadata": {
        "id": "ltRAQTbRbQUZ",
        "colab_type": "code",
        "colab": {}
      },
      "source": [
        "x = th.Tensor([1, 2, 3, 4, 5])"
      ],
      "execution_count": 0,
      "outputs": []
    },
    {
      "cell_type": "code",
      "metadata": {
        "id": "JI3BPSqvbWSA",
        "colab_type": "code",
        "colab": {}
      },
      "source": [
        "x = x.send(bob)"
      ],
      "execution_count": 0,
      "outputs": []
    },
    {
      "cell_type": "code",
      "metadata": {
        "id": "hrafcVpebaHY",
        "colab_type": "code",
        "outputId": "f46d91a9-3c24-4441-f404-be50f10c303a",
        "colab": {
          "base_uri": "https://localhost:8080/",
          "height": 34
        }
      },
      "source": [
        "bob._objects"
      ],
      "execution_count": 0,
      "outputs": [
        {
          "output_type": "execute_result",
          "data": {
            "text/plain": [
              "{83921711121: tensor([1., 2., 3., 4., 5.])}"
            ]
          },
          "metadata": {
            "tags": []
          },
          "execution_count": 8
        }
      ]
    },
    {
      "cell_type": "code",
      "metadata": {
        "id": "zl7ssaq0bgUZ",
        "colab_type": "code",
        "outputId": "4eedfa67-0d9c-4372-df8c-fb1a39e903a7",
        "colab": {
          "base_uri": "https://localhost:8080/",
          "height": 34
        }
      },
      "source": [
        "x.location"
      ],
      "execution_count": 0,
      "outputs": [
        {
          "output_type": "execute_result",
          "data": {
            "text/plain": [
              "<VirtualWorker id:bob #objects:1>"
            ]
          },
          "metadata": {
            "tags": []
          },
          "execution_count": 9
        }
      ]
    },
    {
      "cell_type": "code",
      "metadata": {
        "id": "Cu0uA8RAc58H",
        "colab_type": "code",
        "outputId": "271aea68-5ef6-4c82-a3e6-1c5097766cfd",
        "colab": {
          "base_uri": "https://localhost:8080/",
          "height": 34
        }
      },
      "source": [
        "x.location == bob"
      ],
      "execution_count": 0,
      "outputs": [
        {
          "output_type": "execute_result",
          "data": {
            "text/plain": [
              "True"
            ]
          },
          "metadata": {
            "tags": []
          },
          "execution_count": 10
        }
      ]
    },
    {
      "cell_type": "code",
      "metadata": {
        "id": "39jYtt4OdGht",
        "colab_type": "code",
        "outputId": "087a3048-f428-4c2d-e91c-08b993a54ac2",
        "colab": {
          "base_uri": "https://localhost:8080/",
          "height": 34
        }
      },
      "source": [
        "x.owner"
      ],
      "execution_count": 0,
      "outputs": [
        {
          "output_type": "execute_result",
          "data": {
            "text/plain": [
              "<VirtualWorker id:me #objects:0>"
            ]
          },
          "metadata": {
            "tags": []
          },
          "execution_count": 12
        }
      ]
    },
    {
      "cell_type": "code",
      "metadata": {
        "id": "4UkDRRj2dByz",
        "colab_type": "code",
        "outputId": "8dde77b7-0574-4ee7-eb4f-6da3bd19003c",
        "colab": {
          "base_uri": "https://localhost:8080/",
          "height": 34
        }
      },
      "source": [
        "hook.local_worker"
      ],
      "execution_count": 0,
      "outputs": [
        {
          "output_type": "execute_result",
          "data": {
            "text/plain": [
              "<VirtualWorker id:me #objects:0>"
            ]
          },
          "metadata": {
            "tags": []
          },
          "execution_count": 11
        }
      ]
    },
    {
      "cell_type": "code",
      "metadata": {
        "id": "-oP8J2RGdK7G",
        "colab_type": "code",
        "outputId": "5f7f7a88-82b9-4471-b90f-bdca33dac2c8",
        "colab": {
          "base_uri": "https://localhost:8080/",
          "height": 34
        }
      },
      "source": [
        "x"
      ],
      "execution_count": 0,
      "outputs": [
        {
          "output_type": "execute_result",
          "data": {
            "text/plain": [
              "(Wrapper)>[PointerTensor | me:4129042945 -> bob:83921711121]"
            ]
          },
          "metadata": {
            "tags": []
          },
          "execution_count": 13
        }
      ]
    },
    {
      "cell_type": "code",
      "metadata": {
        "id": "r9dBWvyVdM23",
        "colab_type": "code",
        "colab": {}
      },
      "source": [
        "x = x.get()"
      ],
      "execution_count": 0,
      "outputs": []
    },
    {
      "cell_type": "code",
      "metadata": {
        "id": "qt_PYE1qdRTA",
        "colab_type": "code",
        "outputId": "631c8642-637e-4d8b-8de3-e38f3266050a",
        "colab": {
          "base_uri": "https://localhost:8080/",
          "height": 34
        }
      },
      "source": [
        "x"
      ],
      "execution_count": 0,
      "outputs": [
        {
          "output_type": "execute_result",
          "data": {
            "text/plain": [
              "tensor([1., 2., 3., 4., 5.])"
            ]
          },
          "metadata": {
            "tags": []
          },
          "execution_count": 16
        }
      ]
    },
    {
      "cell_type": "code",
      "metadata": {
        "id": "vR5X17rIdURn",
        "colab_type": "code",
        "outputId": "5eed6046-d6fd-45f6-e546-e77a25629007",
        "colab": {
          "base_uri": "https://localhost:8080/",
          "height": 34
        }
      },
      "source": [
        "bob._objects"
      ],
      "execution_count": 0,
      "outputs": [
        {
          "output_type": "execute_result",
          "data": {
            "text/plain": [
              "{}"
            ]
          },
          "metadata": {
            "tags": []
          },
          "execution_count": 17
        }
      ]
    },
    {
      "cell_type": "markdown",
      "metadata": {
        "id": "R_bs5ucGdn16",
        "colab_type": "text"
      },
      "source": [
        "# Create another worker"
      ]
    },
    {
      "cell_type": "code",
      "metadata": {
        "id": "7EiUeUOQdrmY",
        "colab_type": "code",
        "colab": {}
      },
      "source": [
        "alice = sy.VirtualWorker(hook, id=\"alice\")"
      ],
      "execution_count": 0,
      "outputs": []
    },
    {
      "cell_type": "code",
      "metadata": {
        "id": "c2Cwj1Gkd6KI",
        "colab_type": "code",
        "outputId": "76bb53e3-ad29-4e87-f992-7806daffddbf",
        "colab": {
          "base_uri": "https://localhost:8080/",
          "height": 34
        }
      },
      "source": [
        "x = th.Tensor(range(10))\n",
        "x"
      ],
      "execution_count": 0,
      "outputs": [
        {
          "output_type": "execute_result",
          "data": {
            "text/plain": [
              "tensor([0., 1., 2., 3., 4., 5., 6., 7., 8., 9.])"
            ]
          },
          "metadata": {
            "tags": []
          },
          "execution_count": 22
        }
      ]
    },
    {
      "cell_type": "code",
      "metadata": {
        "id": "wcN4ZET7eB5s",
        "colab_type": "code",
        "colab": {}
      },
      "source": [
        "x2 = x.send(bob, alice)"
      ],
      "execution_count": 0,
      "outputs": []
    },
    {
      "cell_type": "code",
      "metadata": {
        "id": "Ncuqmgw4eNxI",
        "colab_type": "code",
        "outputId": "45f30165-b4f7-453b-e004-1689fc6fd74c",
        "colab": {
          "base_uri": "https://localhost:8080/",
          "height": 68
        }
      },
      "source": [
        "x2"
      ],
      "execution_count": 0,
      "outputs": [
        {
          "output_type": "execute_result",
          "data": {
            "text/plain": [
              "(Wrapper)>[MultiPointerTensor]\n",
              "\t-> [PointerTensor | me:7953421722 -> bob:19177016834]\n",
              "\t-> [PointerTensor | me:52492661055 -> alice:44069265080]"
            ]
          },
          "metadata": {
            "tags": []
          },
          "execution_count": 25
        }
      ]
    },
    {
      "cell_type": "code",
      "metadata": {
        "id": "4hnp2Y7WeRR2",
        "colab_type": "code",
        "outputId": "559d075f-b897-4944-ea9d-03df9d472d91",
        "colab": {
          "base_uri": "https://localhost:8080/",
          "height": 34
        }
      },
      "source": [
        "x2.child"
      ],
      "execution_count": 0,
      "outputs": [
        {
          "output_type": "execute_result",
          "data": {
            "text/plain": [
              "MultiPointerTensor>{'bob': [PointerTensor | me:7953421722 -> bob:19177016834], 'alice': [PointerTensor | me:52492661055 -> alice:44069265080]}"
            ]
          },
          "metadata": {
            "tags": []
          },
          "execution_count": 26
        }
      ]
    },
    {
      "cell_type": "code",
      "metadata": {
        "id": "6h4yXxMEeWuQ",
        "colab_type": "code",
        "outputId": "1cef7bf6-e78e-4ca2-fa96-cf0b4189f748",
        "colab": {
          "base_uri": "https://localhost:8080/",
          "height": 51
        }
      },
      "source": [
        "x2.child.child"
      ],
      "execution_count": 0,
      "outputs": [
        {
          "output_type": "execute_result",
          "data": {
            "text/plain": [
              "{'alice': [PointerTensor | me:52492661055 -> alice:44069265080],\n",
              " 'bob': [PointerTensor | me:7953421722 -> bob:19177016834]}"
            ]
          },
          "metadata": {
            "tags": []
          },
          "execution_count": 27
        }
      ]
    },
    {
      "cell_type": "code",
      "metadata": {
        "id": "JFcv4ekIebJj",
        "colab_type": "code",
        "outputId": "559feeaf-823c-44ee-b8b1-72c8a973f8e9",
        "colab": {
          "base_uri": "https://localhost:8080/",
          "height": 34
        }
      },
      "source": [
        "type(x)"
      ],
      "execution_count": 0,
      "outputs": [
        {
          "output_type": "execute_result",
          "data": {
            "text/plain": [
              "syft.frameworks.torch.tensors.interpreters.native.Tensor"
            ]
          },
          "metadata": {
            "tags": []
          },
          "execution_count": 29
        }
      ]
    },
    {
      "cell_type": "code",
      "metadata": {
        "id": "rugUeVukeoFo",
        "colab_type": "code",
        "outputId": "1e43a606-866e-4778-9443-a74dcafe5de5",
        "colab": {
          "base_uri": "https://localhost:8080/",
          "height": 51
        }
      },
      "source": [
        "x2.get()"
      ],
      "execution_count": 0,
      "outputs": [
        {
          "output_type": "execute_result",
          "data": {
            "text/plain": [
              "[tensor([0., 1., 2., 3., 4., 5., 6., 7., 8., 9.]),\n",
              " tensor([0., 1., 2., 3., 4., 5., 6., 7., 8., 9.])]"
            ]
          },
          "metadata": {
            "tags": []
          },
          "execution_count": 32
        }
      ]
    },
    {
      "cell_type": "markdown",
      "metadata": {
        "id": "PLl7SDVHgAIV",
        "colab_type": "text"
      },
      "source": [
        "# Some operation"
      ]
    },
    {
      "cell_type": "code",
      "metadata": {
        "id": "LJvxNvnvg30a",
        "colab_type": "code",
        "outputId": "be640e14-45e0-452f-c392-c5a4f62b3ad3",
        "colab": {
          "base_uri": "https://localhost:8080/",
          "height": 34
        }
      },
      "source": [
        "bob.clear_objects\n",
        "alice.clear_objects"
      ],
      "execution_count": 0,
      "outputs": [
        {
          "output_type": "execute_result",
          "data": {
            "text/plain": [
              "<bound method ObjectStorage.clear_objects of <VirtualWorker id:alice #objects:0>>"
            ]
          },
          "metadata": {
            "tags": []
          },
          "execution_count": 34
        }
      ]
    },
    {
      "cell_type": "code",
      "metadata": {
        "id": "WxDJ9r2RgCIw",
        "colab_type": "code",
        "colab": {}
      },
      "source": [
        "x = th.Tensor(range(10)).send(bob)\n",
        "y = th.Tensor(range(10)).send(bob)"
      ],
      "execution_count": 0,
      "outputs": []
    },
    {
      "cell_type": "code",
      "metadata": {
        "id": "4AzbXDsWhAOO",
        "colab_type": "code",
        "outputId": "bf1b34be-f92f-4c03-e54d-10a7cab4625e",
        "colab": {
          "base_uri": "https://localhost:8080/",
          "height": 34
        }
      },
      "source": [
        "z = x + y\n",
        "z"
      ],
      "execution_count": 0,
      "outputs": [
        {
          "output_type": "execute_result",
          "data": {
            "text/plain": [
              "(Wrapper)>[PointerTensor | me:35016223044 -> bob:94844115513]"
            ]
          },
          "metadata": {
            "tags": []
          },
          "execution_count": 40
        }
      ]
    },
    {
      "cell_type": "code",
      "metadata": {
        "id": "KrHK5KjqhMLU",
        "colab_type": "code",
        "outputId": "8670eeb3-789a-4840-ac10-0edc1e573839",
        "colab": {
          "base_uri": "https://localhost:8080/",
          "height": 34
        }
      },
      "source": [
        "z.get()"
      ],
      "execution_count": 0,
      "outputs": [
        {
          "output_type": "execute_result",
          "data": {
            "text/plain": [
              "tensor([ 0.,  2.,  4.,  6.,  8., 10., 12., 14., 16., 18.])"
            ]
          },
          "metadata": {
            "tags": []
          },
          "execution_count": 42
        }
      ]
    },
    {
      "cell_type": "code",
      "metadata": {
        "id": "JAyR3hZchT9a",
        "colab_type": "code",
        "colab": {}
      },
      "source": [
        "x = th.tensor([1.,2,3,4,5], requires_grad=True).send(bob)\n",
        "y = th.tensor([1.,1,1,1,1], requires_grad=True).send(bob)"
      ],
      "execution_count": 0,
      "outputs": []
    },
    {
      "cell_type": "code",
      "metadata": {
        "id": "Gq_EbTuchs8Z",
        "colab_type": "code",
        "colab": {}
      },
      "source": [
        "z = (x + y).sum()"
      ],
      "execution_count": 0,
      "outputs": []
    },
    {
      "cell_type": "code",
      "metadata": {
        "id": "nf42AN5ghvJw",
        "colab_type": "code",
        "outputId": "31067530-c24d-4e8d-ef1c-cb25d1e1b663",
        "colab": {
          "base_uri": "https://localhost:8080/",
          "height": 34
        }
      },
      "source": [
        "z.backward()"
      ],
      "execution_count": 0,
      "outputs": [
        {
          "output_type": "execute_result",
          "data": {
            "text/plain": [
              "(Wrapper)>[PointerTensor | me:80359743887 -> bob:16635224020]"
            ]
          },
          "metadata": {
            "tags": []
          },
          "execution_count": 53
        }
      ]
    },
    {
      "cell_type": "code",
      "metadata": {
        "id": "YAhy8PcpiDJH",
        "colab_type": "code",
        "outputId": "33ab83ae-3e23-4e08-f1ba-dfbafe531fbd",
        "colab": {
          "base_uri": "https://localhost:8080/",
          "height": 34
        }
      },
      "source": [
        "x.get()"
      ],
      "execution_count": 0,
      "outputs": [
        {
          "output_type": "execute_result",
          "data": {
            "text/plain": [
              "tensor([1., 2., 3., 4., 5.], requires_grad=True)"
            ]
          },
          "metadata": {
            "tags": []
          },
          "execution_count": 54
        }
      ]
    },
    {
      "cell_type": "code",
      "metadata": {
        "id": "R9x5tWXkiG8s",
        "colab_type": "code",
        "outputId": "66befeb7-5fc0-4d53-bc2a-474f9394903e",
        "colab": {
          "base_uri": "https://localhost:8080/",
          "height": 34
        }
      },
      "source": [
        "y.get()"
      ],
      "execution_count": 0,
      "outputs": [
        {
          "output_type": "execute_result",
          "data": {
            "text/plain": [
              "tensor([1., 1., 1., 1., 1.], requires_grad=True)"
            ]
          },
          "metadata": {
            "tags": []
          },
          "execution_count": 55
        }
      ]
    },
    {
      "cell_type": "code",
      "metadata": {
        "id": "7xTLTHcWiIyy",
        "colab_type": "code",
        "outputId": "b82c89d9-a949-4715-bec1-b2789b2ef613",
        "colab": {
          "base_uri": "https://localhost:8080/",
          "height": 34
        }
      },
      "source": [
        "z.get()"
      ],
      "execution_count": 0,
      "outputs": [
        {
          "output_type": "execute_result",
          "data": {
            "text/plain": [
              "tensor(20., requires_grad=True)"
            ]
          },
          "metadata": {
            "tags": []
          },
          "execution_count": 56
        }
      ]
    },
    {
      "cell_type": "markdown",
      "metadata": {
        "id": "3wrN-XkGjHE6",
        "colab_type": "text"
      },
      "source": [
        "# Garbage collection"
      ]
    },
    {
      "cell_type": "code",
      "metadata": {
        "id": "dviQKlCqjKdD",
        "colab_type": "code",
        "outputId": "b54002a8-2cc5-4cd5-c0b4-284b56e5bc90",
        "colab": {
          "base_uri": "https://localhost:8080/",
          "height": 34
        }
      },
      "source": [
        "bob.clear_objects()"
      ],
      "execution_count": 0,
      "outputs": [
        {
          "output_type": "execute_result",
          "data": {
            "text/plain": [
              "<VirtualWorker id:bob #objects:0>"
            ]
          },
          "metadata": {
            "tags": []
          },
          "execution_count": 87
        }
      ]
    },
    {
      "cell_type": "code",
      "metadata": {
        "id": "VwmOF7SskdJs",
        "colab_type": "code",
        "outputId": "3a03bee9-c95b-4abd-eb8e-8a2079071fc4",
        "colab": {
          "base_uri": "https://localhost:8080/",
          "height": 34
        }
      },
      "source": [
        "bob._objects"
      ],
      "execution_count": 0,
      "outputs": [
        {
          "output_type": "execute_result",
          "data": {
            "text/plain": [
              "{}"
            ]
          },
          "metadata": {
            "tags": []
          },
          "execution_count": 88
        }
      ]
    },
    {
      "cell_type": "code",
      "metadata": {
        "id": "Yb_QiRrEjNtX",
        "colab_type": "code",
        "colab": {}
      },
      "source": [
        "x = th.Tensor(range(10)).send(bob)"
      ],
      "execution_count": 0,
      "outputs": []
    },
    {
      "cell_type": "code",
      "metadata": {
        "id": "lumXaLJBjTYp",
        "colab_type": "code",
        "outputId": "e51108b1-461f-49f8-a2b5-db9106a7643f",
        "colab": {
          "base_uri": "https://localhost:8080/",
          "height": 34
        }
      },
      "source": [
        "x"
      ],
      "execution_count": 0,
      "outputs": [
        {
          "output_type": "execute_result",
          "data": {
            "text/plain": [
              "(Wrapper)>[PointerTensor | me:54651829605 -> bob:89765469781]"
            ]
          },
          "metadata": {
            "tags": []
          },
          "execution_count": 90
        }
      ]
    },
    {
      "cell_type": "code",
      "metadata": {
        "id": "XZ4kt2nzjgs9",
        "colab_type": "code",
        "outputId": "9a0f9561-76d7-495a-f54d-3e38d8be0286",
        "colab": {
          "base_uri": "https://localhost:8080/",
          "height": 34
        }
      },
      "source": [
        "bob._objects"
      ],
      "execution_count": 0,
      "outputs": [
        {
          "output_type": "execute_result",
          "data": {
            "text/plain": [
              "{89765469781: tensor([0., 1., 2., 3., 4., 5., 6., 7., 8., 9.])}"
            ]
          },
          "metadata": {
            "tags": []
          },
          "execution_count": 91
        }
      ]
    },
    {
      "cell_type": "code",
      "metadata": {
        "id": "pcfCE-ElkKN1",
        "colab_type": "code",
        "outputId": "1d5d38f7-b863-49ac-d232-fea75cf5d3d2",
        "colab": {
          "base_uri": "https://localhost:8080/",
          "height": 34
        }
      },
      "source": [
        "x.child.garbage_collect_data"
      ],
      "execution_count": 0,
      "outputs": [
        {
          "output_type": "execute_result",
          "data": {
            "text/plain": [
              "True"
            ]
          },
          "metadata": {
            "tags": []
          },
          "execution_count": 92
        }
      ]
    },
    {
      "cell_type": "code",
      "metadata": {
        "id": "BajJIsR9jwtz",
        "colab_type": "code",
        "colab": {}
      },
      "source": [
        "x = \"Shudipto\""
      ],
      "execution_count": 0,
      "outputs": []
    },
    {
      "cell_type": "code",
      "metadata": {
        "id": "h1duULj2jy3n",
        "colab_type": "code",
        "outputId": "47d2a2cc-b27c-4dcf-d4a2-58807eccda28",
        "colab": {
          "base_uri": "https://localhost:8080/",
          "height": 34
        }
      },
      "source": [
        "bob._objects"
      ],
      "execution_count": 0,
      "outputs": [
        {
          "output_type": "execute_result",
          "data": {
            "text/plain": [
              "{89765469781: tensor([0., 1., 2., 3., 4., 5., 6., 7., 8., 9.])}"
            ]
          },
          "metadata": {
            "tags": []
          },
          "execution_count": 94
        }
      ]
    },
    {
      "cell_type": "code",
      "metadata": {
        "id": "xHHWDbpIkSbP",
        "colab_type": "code",
        "colab": {}
      },
      "source": [
        "del x"
      ],
      "execution_count": 0,
      "outputs": []
    },
    {
      "cell_type": "code",
      "metadata": {
        "id": "h-hXYa5dkT9m",
        "colab_type": "code",
        "outputId": "eaf7fd1e-dad9-4d8b-8fdb-0ba4f5b5689b",
        "colab": {
          "base_uri": "https://localhost:8080/",
          "height": 34
        }
      },
      "source": [
        "bob._objects"
      ],
      "execution_count": 0,
      "outputs": [
        {
          "output_type": "execute_result",
          "data": {
            "text/plain": [
              "{89765469781: tensor([0., 1., 2., 3., 4., 5., 6., 7., 8., 9.])}"
            ]
          },
          "metadata": {
            "tags": []
          },
          "execution_count": 96
        }
      ]
    },
    {
      "cell_type": "markdown",
      "metadata": {
        "id": "SilUamP0nmPR",
        "colab_type": "text"
      },
      "source": [
        "# Simple linear MOdel"
      ]
    },
    {
      "cell_type": "code",
      "metadata": {
        "id": "tMZrUw8QnzxS",
        "colab_type": "code",
        "outputId": "07018b5d-eda7-4080-9d40-6152db30565b",
        "colab": {
          "base_uri": "https://localhost:8080/",
          "height": 34
        }
      },
      "source": [
        "bob.clear_objects()"
      ],
      "execution_count": 0,
      "outputs": [
        {
          "output_type": "execute_result",
          "data": {
            "text/plain": [
              "<VirtualWorker id:bob #objects:0>"
            ]
          },
          "metadata": {
            "tags": []
          },
          "execution_count": 108
        }
      ]
    },
    {
      "cell_type": "code",
      "metadata": {
        "id": "MEhLBXEElk6E",
        "colab_type": "code",
        "outputId": "69b6bd71-caa7-48ba-e80f-9851b58f147f",
        "colab": {
          "base_uri": "https://localhost:8080/",
          "height": 34
        }
      },
      "source": [
        "x = th.tensor([[1.0,1.0],[1.0,0.], [0.,1.], [0.,0.]], requires_grad=True).send(bob)\n",
        "x"
      ],
      "execution_count": 0,
      "outputs": [
        {
          "output_type": "execute_result",
          "data": {
            "text/plain": [
              "(Wrapper)>[PointerTensor | me:87670850020 -> bob:89582183293]"
            ]
          },
          "metadata": {
            "tags": []
          },
          "execution_count": 109
        }
      ]
    },
    {
      "cell_type": "code",
      "metadata": {
        "id": "OmnFOvi0oOH-",
        "colab_type": "code",
        "outputId": "bb5d855e-57c3-4418-8e56-1f4075c72c91",
        "colab": {
          "base_uri": "https://localhost:8080/",
          "height": 34
        }
      },
      "source": [
        "y = th.tensor([[1.0,1.0],[1.0,0.], [0.,1.], [0.,0.]], requires_grad=True).send(bob)\n",
        "y"
      ],
      "execution_count": 0,
      "outputs": [
        {
          "output_type": "execute_result",
          "data": {
            "text/plain": [
              "(Wrapper)>[PointerTensor | me:56678110645 -> bob:18602992258]"
            ]
          },
          "metadata": {
            "tags": []
          },
          "execution_count": 110
        }
      ]
    },
    {
      "cell_type": "code",
      "metadata": {
        "id": "ETbGjcrAoWjZ",
        "colab_type": "code",
        "outputId": "fe5540a0-d589-4aaf-e695-b9f66306c325",
        "colab": {
          "base_uri": "https://localhost:8080/",
          "height": 34
        }
      },
      "source": [
        "weigths = th.tensor([[0.,], [0.,]], requires_grad=True).send(bob)\n",
        "weigths"
      ],
      "execution_count": 0,
      "outputs": [
        {
          "output_type": "execute_result",
          "data": {
            "text/plain": [
              "(Wrapper)>[PointerTensor | me:47666451614 -> bob:79786557435]"
            ]
          },
          "metadata": {
            "tags": []
          },
          "execution_count": 111
        }
      ]
    },
    {
      "cell_type": "code",
      "metadata": {
        "id": "wDZEBVT-ntx7",
        "colab_type": "code",
        "outputId": "e8dc971d-6d6d-4834-bc01-91dbb6f16110",
        "colab": {
          "base_uri": "https://localhost:8080/",
          "height": 153
        }
      },
      "source": [
        "bob._objects"
      ],
      "execution_count": 0,
      "outputs": [
        {
          "output_type": "execute_result",
          "data": {
            "text/plain": [
              "{18602992258: tensor([[1., 1.],\n",
              "         [1., 0.],\n",
              "         [0., 1.],\n",
              "         [0., 0.]], requires_grad=True), 79786557435: tensor([[0.],\n",
              "         [0.]], requires_grad=True), 89582183293: tensor([[1., 1.],\n",
              "         [1., 0.],\n",
              "         [0., 1.],\n",
              "         [0., 0.]], requires_grad=True)}"
            ]
          },
          "metadata": {
            "tags": []
          },
          "execution_count": 112
        }
      ]
    },
    {
      "cell_type": "code",
      "metadata": {
        "id": "M0tSSgk-o_nr",
        "colab_type": "code",
        "outputId": "fb00fdc8-f7b4-48d2-b4bb-0c70b66eb61b",
        "colab": {
          "base_uri": "https://localhost:8080/",
          "height": 187
        }
      },
      "source": [
        "for i in range(10):\n",
        "  pred = x.mm(weigths)\n",
        "  loss = ((pred - y)**2).sum()\n",
        "  loss.backward()\n",
        "  weigths.data.sub_(weigths.grad * 0.01)\n",
        "  weigths.grad *= 0\n",
        "  print(loss.get().data)"
      ],
      "execution_count": 0,
      "outputs": [
        {
          "output_type": "stream",
          "text": [
            "tensor(4.)\n",
            "tensor(3.3232)\n",
            "tensor(2.7991)\n",
            "tensor(2.3932)\n",
            "tensor(2.0789)\n",
            "tensor(1.8355)\n",
            "tensor(1.6470)\n",
            "tensor(1.5010)\n",
            "tensor(1.3880)\n",
            "tensor(1.3005)\n"
          ],
          "name": "stdout"
        }
      ]
    },
    {
      "cell_type": "markdown",
      "metadata": {
        "id": "7A1TtK8lplRE",
        "colab_type": "text"
      },
      "source": [
        "# Toy Example"
      ]
    },
    {
      "cell_type": "code",
      "metadata": {
        "id": "DJTOCGYmpQNx",
        "colab_type": "code",
        "outputId": "bbd30830-2fa2-47d5-be81-eca5a3abb90a",
        "colab": {
          "base_uri": "https://localhost:8080/",
          "height": 357
        }
      },
      "source": [
        "from torch import nn, optim\n",
        "\n",
        "data = th.tensor([[1.,1],[0,1],[1,0],[0,0]], requires_grad=True)\n",
        "target = th.tensor([[1.],[1], [0], [0]], requires_grad=True)\n",
        "\n",
        "model = nn.Linear(2,1)\n",
        "\n",
        "opt = optim.SGD(params=model.parameters(), lr=0.1)\n",
        "\n",
        "def train(iterations=20):\n",
        "    for iter in range(iterations):\n",
        "        opt.zero_grad()\n",
        "\n",
        "        pred = model(data)\n",
        "\n",
        "        loss = ((pred - target)**2).sum()\n",
        "\n",
        "        loss.backward()\n",
        "\n",
        "        opt.step()\n",
        "\n",
        "        print(loss.data)\n",
        "        \n",
        "train()"
      ],
      "execution_count": 0,
      "outputs": [
        {
          "output_type": "stream",
          "text": [
            "tensor(2.1032)\n",
            "tensor(0.6460)\n",
            "tensor(0.3696)\n",
            "tensor(0.2400)\n",
            "tensor(0.1590)\n",
            "tensor(0.1061)\n",
            "tensor(0.0713)\n",
            "tensor(0.0482)\n",
            "tensor(0.0328)\n",
            "tensor(0.0225)\n",
            "tensor(0.0155)\n",
            "tensor(0.0108)\n",
            "tensor(0.0076)\n",
            "tensor(0.0054)\n",
            "tensor(0.0038)\n",
            "tensor(0.0028)\n",
            "tensor(0.0020)\n",
            "tensor(0.0015)\n",
            "tensor(0.0011)\n",
            "tensor(0.0008)\n"
          ],
          "name": "stdout"
        }
      ]
    },
    {
      "cell_type": "markdown",
      "metadata": {
        "id": "z3HeVQESqar3",
        "colab_type": "text"
      },
      "source": [
        "## Now use federate learning"
      ]
    },
    {
      "cell_type": "code",
      "metadata": {
        "id": "b_yjWfoNqdoO",
        "colab_type": "code",
        "colab": {}
      },
      "source": [
        "data_bob = data[0:2].send(bob)\n",
        "target_bob = target[0:2].send(bob)"
      ],
      "execution_count": 0,
      "outputs": []
    },
    {
      "cell_type": "code",
      "metadata": {
        "id": "ins6sI7SqiNM",
        "colab_type": "code",
        "colab": {}
      },
      "source": [
        "data_alice = data[2:4].send(alice)\n",
        "target_alice = target[2:4].send(alice)"
      ],
      "execution_count": 0,
      "outputs": []
    },
    {
      "cell_type": "code",
      "metadata": {
        "id": "aMyPFVQLqk7l",
        "colab_type": "code",
        "colab": {}
      },
      "source": [
        "datasets = [(data_bob, target_bob), (data_alice, target_alice)]"
      ],
      "execution_count": 0,
      "outputs": []
    },
    {
      "cell_type": "code",
      "metadata": {
        "id": "LVM9VSThsa9-",
        "colab_type": "code",
        "colab": {}
      },
      "source": [
        "def train(iterations=20):\n",
        "\n",
        "    model = nn.Linear(2,1)\n",
        "    opt = optim.SGD(params=model.parameters(), lr=0.1)\n",
        "    \n",
        "    for iter in range(iterations):\n",
        "\n",
        "        for _data, _target in datasets:\n",
        "\n",
        "            # send model to the data\n",
        "            model = model.send(_data.location)\n",
        "\n",
        "            # do normal training\n",
        "            opt.zero_grad()\n",
        "            pred = model(_data)\n",
        "            loss = ((pred - _target)**2).sum()\n",
        "            loss.backward()\n",
        "            opt.step()\n",
        "\n",
        "            # get smarter model back\n",
        "            model = model.get()\n",
        "\n",
        "            print(loss.get())"
      ],
      "execution_count": 0,
      "outputs": []
    },
    {
      "cell_type": "code",
      "metadata": {
        "id": "GK9sS0mJseS_",
        "colab_type": "code",
        "colab": {
          "base_uri": "https://localhost:8080/",
          "height": 697
        },
        "outputId": "a39148bb-4358-4e8c-8f61-ac703b3deadf"
      },
      "source": [
        "train()"
      ],
      "execution_count": 121,
      "outputs": [
        {
          "output_type": "stream",
          "text": [
            "tensor(6.8638, requires_grad=True)\n",
            "tensor(0.1173, requires_grad=True)\n",
            "tensor(0.1657, requires_grad=True)\n",
            "tensor(0.1406, requires_grad=True)\n",
            "tensor(0.0525, requires_grad=True)\n",
            "tensor(0.0902, requires_grad=True)\n",
            "tensor(0.0302, requires_grad=True)\n",
            "tensor(0.0564, requires_grad=True)\n",
            "tensor(0.0185, requires_grad=True)\n",
            "tensor(0.0356, requires_grad=True)\n",
            "tensor(0.0116, requires_grad=True)\n",
            "tensor(0.0227, requires_grad=True)\n",
            "tensor(0.0074, requires_grad=True)\n",
            "tensor(0.0146, requires_grad=True)\n",
            "tensor(0.0048, requires_grad=True)\n",
            "tensor(0.0095, requires_grad=True)\n",
            "tensor(0.0032, requires_grad=True)\n",
            "tensor(0.0063, requires_grad=True)\n",
            "tensor(0.0021, requires_grad=True)\n",
            "tensor(0.0042, requires_grad=True)\n",
            "tensor(0.0015, requires_grad=True)\n",
            "tensor(0.0029, requires_grad=True)\n",
            "tensor(0.0010, requires_grad=True)\n",
            "tensor(0.0020, requires_grad=True)\n",
            "tensor(0.0007, requires_grad=True)\n",
            "tensor(0.0014, requires_grad=True)\n",
            "tensor(0.0005, requires_grad=True)\n",
            "tensor(0.0010, requires_grad=True)\n",
            "tensor(0.0004, requires_grad=True)\n",
            "tensor(0.0007, requires_grad=True)\n",
            "tensor(0.0003, requires_grad=True)\n",
            "tensor(0.0005, requires_grad=True)\n",
            "tensor(0.0002, requires_grad=True)\n",
            "tensor(0.0003, requires_grad=True)\n",
            "tensor(0.0001, requires_grad=True)\n",
            "tensor(0.0002, requires_grad=True)\n",
            "tensor(0.0001, requires_grad=True)\n",
            "tensor(0.0002, requires_grad=True)\n",
            "tensor(8.2904e-05, requires_grad=True)\n",
            "tensor(0.0001, requires_grad=True)\n"
          ],
          "name": "stdout"
        }
      ]
    }
  ]
}