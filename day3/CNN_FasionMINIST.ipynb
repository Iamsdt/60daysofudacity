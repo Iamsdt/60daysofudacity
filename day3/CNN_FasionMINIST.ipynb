{
 "cells": [
  {
   "cell_type": "code",
   "execution_count": 9,
   "metadata": {
    "id": "R-EMsGlPZG-4",
    "colab_type": "code",
    "colab": {
     "base_uri": "https://localhost:8080/",
     "height": 34.0
    },
    "outputId": "ef407eff-ad88-4b16-9727-21f7cb83fe4b"
   },
   "outputs": [
    {
     "name": "stdout",
     "output_type": "stream",
     "text": [
      "60000\n"
     ]
    }
   ],
   "source": [
    "import torch\n",
    "from torch.utils.data import DataLoader\n",
    "from torchvision import transforms, datasets\n",
    "from torch.utils.data.sampler import SubsetRandomSampler\n",
    "import numpy as np\n",
    "import matplotlib.pyplot as plt\n",
    "%matplotlib inline\n",
    "\n",
    "\n",
    "# data\n",
    "root = \"data\"\n",
    "\n",
    "# number of subprocesses to use for data loading\n",
    "num_workers = 0\n",
    "# how many samples per batch to load\n",
    "batch_size = 64\n",
    "# percentage of training set to use as validation\n",
    "valid_size = 0.2\n",
    "\n",
    "transform = transforms.Compose(\n",
    "    [transforms.ToTensor()])\n",
    "\n",
    "train_dataset = datasets.mnist.FashionMNIST(root='./data/',\n",
    "                               train=True,\n",
    "                               transform=transform,\n",
    "                               download=True)\n",
    "\n",
    "test_dataset = datasets.mnist.FashionMNIST(root='./data/',\n",
    "                               train=False,\n",
    "                               transform=transform)\n",
    "\n",
    "# print lenght\n",
    "num_train = len(train_dataset)\n",
    "print(num_train)"
   ]
  },
  {
   "cell_type": "code",
   "execution_count": 0,
   "metadata": {
    "id": "bSSs1DyLfa1v",
    "colab_type": "code",
    "colab": {}
   },
   "outputs": [],
   "source": [
    "# Index of num train\n",
    "indices = list(range(num_train))\n",
    "np.random.shuffle(indices)\n",
    "split = int(np.floor(valid_size * num_train))\n",
    "train_idx, valid_idx = indices[split:], indices[:split]\n",
    "\n",
    "\n",
    "# define samplers for obtaining training and validation batches\n",
    "train_sampler = SubsetRandomSampler(train_idx)\n",
    "valid_sampler = SubsetRandomSampler(valid_idx)\n",
    "\n",
    "\n",
    "# prepare data loaders\n",
    "train_loader = torch.utils.data.DataLoader(train_dataset, batch_size=batch_size,\n",
    "    sampler=train_sampler, num_workers=num_workers)\n",
    "valid_loader = torch.utils.data.DataLoader(train_dataset, batch_size=batch_size, \n",
    "    sampler=valid_sampler, num_workers=num_workers)\n",
    "test_loader = torch.utils.data.DataLoader(test_dataset, batch_size=batch_size,\n",
    "    num_workers=num_workers)"
   ]
  },
  {
   "cell_type": "code",
   "execution_count": 12,
   "metadata": {
    "id": "mtmSaERnZ8mh",
    "colab_type": "code",
    "colab": {
     "base_uri": "https://localhost:8080/",
     "height": 189.0
    },
    "outputId": "d9a33b5c-3516-4c66-8f1d-4e8749f49b92"
   },
   "outputs": [
    {
     "data": {
      "image/png": "[encoded data removed]",
      "text/plain": [
       "<Figure size 1800x720 with 10 Axes>"
      ]
     },
     "metadata": {
      "tags": []
     },
     "output_type": "display_data"
    }
   ],
   "source": [
    "# visualize data\n",
    "data_iter = iter(test_loader)\n",
    "images, labels = data_iter.next()\n",
    "\n",
    "# show fig\n",
    "# plot the images in the batch, along with the corresponding labels\n",
    "fig = plt.figure(figsize=(25, 10))\n",
    "for idx in np.arange(10):\n",
    "    ax = fig.add_subplot(1, 10, idx+1, xticks=[], yticks=[])\n",
    "    ax.imshow(np.squeeze(images[idx]), cmap='gray')\n",
    "    # print out the correct label for each image\n",
    "    # .item() gets the value contained in a Tensor\n",
    "    ax.set_title(str(labels[idx].item()))"
   ]
  },
  {
   "cell_type": "code",
   "execution_count": 0,
   "metadata": {
    "id": "MWbi_R9Bh_FL",
    "colab_type": "code",
    "colab": {}
   },
   "outputs": [],
   "source": [
    "import torch.nn as nn\n",
    "import torch.nn.functional as F\n",
    "class Model(nn.Module):\n",
    "  \n",
    "  def __init__(self):\n",
    "    super(Model, self).__init__()\n",
    "    \n",
    "    #cnn\n",
    "    self.conv1 = nn.Conv2d(1, 10, kernel_size=1)\n",
    "    self.conv2 = nn.Conv2d(10, 20, kernel_size=2)\n",
    "    #self.conv3 = nn.Conv2d(20, 30, kernel_size=2)\n",
    "    \n",
    "    # pooling\n",
    "    self.pool = nn.MaxPool2d(2, padding=1)\n",
    "    \n",
    "    #linear\n",
    "    # linear layer (784 -> hidden_1)\n",
    "    self.fc1 = nn.Linear(1280, 512)\n",
    "    # linear layer (n_hidden -> hidden_2)\n",
    "    self.fc2 = nn.Linear(512, 512)\n",
    "    #self.fc3 = nn.Linear(512, 256)\n",
    "    #self.fc4 = nn.Linear(256, 128)\n",
    "    self.fc3 = nn.Linear(512, 10)\n",
    "    # dropout layer (p=0.2)\n",
    "    # dropout prevents overfitting of data\n",
    "    self.dropout = nn.Dropout(0.2)\n",
    "    \n",
    "    \n",
    "  def forward(self,x):\n",
    "    #cnn\n",
    "    input_num = x.size(0)\n",
    "    x = self.conv1(x)\n",
    "    x = self.pool(x)\n",
    "    x = F.relu(x)\n",
    "    \n",
    "    #cnn 2 and 3\n",
    "    x = F.relu(self.pool(self.conv2(x)))\n",
    "    #x = F.relu(self.pool(self.conv3(x)))\n",
    "    \n",
    "    #flaten the tensor\n",
    "    x = x.view(input_num, -1)\n",
    "    x = F.relu(self.fc1(x))\n",
    "    # add dropout layer\n",
    "    x = self.dropout(x)\n",
    "    # add hidden layer, with relu activation function\n",
    "    x = F.relu(self.fc2(x))\n",
    "    x = self.dropout(x)\n",
    "    \n",
    "    #x = F.relu(self.fc3(x))\n",
    "    #x = self.dropout(x)\n",
    "    \n",
    "    #x = F.relu(self.fc4(x))\n",
    "    # add dropout layer\n",
    "    #x = self.dropout(x)\n",
    "    # add output layer\n",
    "    x = self.fc3(x)\n",
    "    return x\n",
    "    "
   ]
  },
  {
   "cell_type": "code",
   "execution_count": 60,
   "metadata": {
    "id": "wcnxxZ9nkAgG",
    "colab_type": "code",
    "colab": {
     "base_uri": "https://localhost:8080/",
     "height": 170.0
    },
    "outputId": "4953ada0-8646-4358-a549-e80d84deb9a5"
   },
   "outputs": [
    {
     "data": {
      "text/plain": [
       "Model(\n",
       "  (conv1): Conv2d(1, 10, kernel_size=(1, 1), stride=(1, 1))\n",
       "  (conv2): Conv2d(10, 20, kernel_size=(2, 2), stride=(1, 1))\n",
       "  (pool): MaxPool2d(kernel_size=2, stride=2, padding=1, dilation=1, ceil_mode=False)\n",
       "  (fc1): Linear(in_features=1280, out_features=512, bias=True)\n",
       "  (fc2): Linear(in_features=512, out_features=512, bias=True)\n",
       "  (fc3): Linear(in_features=512, out_features=10, bias=True)\n",
       "  (dropout): Dropout(p=0.2)\n",
       ")"
      ]
     },
     "execution_count": 60,
     "metadata": {
      "tags": []
     },
     "output_type": "execute_result"
    }
   ],
   "source": [
    "model = Model()\n",
    "criterion = nn.CrossEntropyLoss()\n",
    "optimizer = torch.optim.SGD(model.parameters(), lr=0.01)\n",
    "\n",
    "device = torch.device(\"cuda\" if torch.cuda.is_available() else \"cpu\")\n",
    "model.to(device)"
   ]
  },
  {
   "cell_type": "code",
   "execution_count": 62,
   "metadata": {
    "id": "o_guLeIQlhCV",
    "colab_type": "code",
    "colab": {
     "base_uri": "https://localhost:8080/",
     "height": 697.0
    },
    "outputId": "0af9726e-7477-43da-ee59-eafaae72620e"
   },
   "outputs": [
    {
     "name": "stdout",
     "output_type": "stream",
     "text": [
      "Epoch: 1 \tTraining Loss: 0.004579 \tValidation Loss: 0.005870\n",
      "\t\tTest Accuracy:   85% (2143/2512)\n",
      "Validation loss decreased (inf --> 0.005870).  Saving model ...\n",
      "Epoch: 2 \tTraining Loss: 0.004486 \tValidation Loss: 0.005695\n",
      "\t\tTest Accuracy:   85% (4300/5024)\n",
      "Validation loss decreased (0.005870 --> 0.005695).  Saving model ...\n",
      "Epoch: 3 \tTraining Loss: 0.004436 \tValidation Loss: 0.005708\n",
      "\t\tTest Accuracy:   85% (6460/7536)\n",
      "Epoch: 4 \tTraining Loss: 0.004364 \tValidation Loss: 0.005532\n",
      "\t\tTest Accuracy:   86% (8642/10048)\n",
      "Validation loss decreased (0.005695 --> 0.005532).  Saving model ...\n",
      "Epoch: 5 \tTraining Loss: 0.004294 \tValidation Loss: 0.005455\n",
      "\t\tTest Accuracy:   86% (10829/12560)\n",
      "Validation loss decreased (0.005532 --> 0.005455).  Saving model ...\n",
      "Epoch: 6 \tTraining Loss: 0.004231 \tValidation Loss: 0.005379\n",
      "\t\tTest Accuracy:   86% (13006/15072)\n",
      "Validation loss decreased (0.005455 --> 0.005379).  Saving model ...\n",
      "Epoch: 7 \tTraining Loss: 0.004154 \tValidation Loss: 0.005354\n",
      "\t\tTest Accuracy:   86% (15192/17584)\n",
      "Validation loss decreased (0.005379 --> 0.005354).  Saving model ...\n",
      "Epoch: 8 \tTraining Loss: 0.004093 \tValidation Loss: 0.005522\n",
      "\t\tTest Accuracy:   86% (17369/20096)\n",
      "Epoch: 9 \tTraining Loss: 0.004035 \tValidation Loss: 0.005226\n",
      "\t\tTest Accuracy:   86% (19561/22608)\n",
      "Validation loss decreased (0.005354 --> 0.005226).  Saving model ...\n",
      "Epoch: 10 \tTraining Loss: 0.004009 \tValidation Loss: 0.005132\n",
      "\t\tTest Accuracy:   86% (21754/25120)\n",
      "Validation loss decreased (0.005226 --> 0.005132).  Saving model ...\n",
      "Epoch: 11 \tTraining Loss: 0.003927 \tValidation Loss: 0.005127\n",
      "\t\tTest Accuracy:   86% (23948/27632)\n",
      "Validation loss decreased (0.005132 --> 0.005127).  Saving model ...\n",
      "Epoch: 12 \tTraining Loss: 0.003894 \tValidation Loss: 0.005445\n",
      "\t\tTest Accuracy:   86% (26134/30144)\n",
      "Epoch: 13 \tTraining Loss: 0.003861 \tValidation Loss: 0.005282\n",
      "\t\tTest Accuracy:   86% (28326/32656)\n",
      "Epoch: 14 \tTraining Loss: 0.003802 \tValidation Loss: 0.005028\n",
      "\t\tTest Accuracy:   86% (30516/35168)\n",
      "Validation loss decreased (0.005127 --> 0.005028).  Saving model ...\n",
      "Epoch: 15 \tTraining Loss: 0.003748 \tValidation Loss: 0.005040\n",
      "\t\tTest Accuracy:   86% (32721/37680)\n"
     ]
    }
   ],
   "source": [
    "n_epochs = 15\n",
    "\n",
    "# compare overfited\n",
    "train_loss_data,valid_loss_data = [],[]\n",
    "\n",
    "# initialize tracker for minimum validation loss\n",
    "valid_loss_min = np.Inf # set initial \"min\" to infinity\n",
    "\n",
    "class_correct = list(0. for i in range(10))\n",
    "class_total = list(0. for i in range(10))\n",
    "\n",
    "for epoch in range(n_epochs):\n",
    "    # monitor training loss\n",
    "    train_loss = 0.0\n",
    "    valid_loss = 0.0\n",
    "    \n",
    "    ###################\n",
    "    # train the model #\n",
    "    ###################\n",
    "    model.train() # prep model for training\n",
    "    for data, target in train_loader:\n",
    "        # Move input and label tensors to the default device\n",
    "        data, target = data.to(device), target.to(device)\n",
    "        # clear the gradients of all optimized variables\n",
    "        optimizer.zero_grad()\n",
    "        # forward pass: compute predicted outputs by passing inputs to the model\n",
    "        output = model(data)\n",
    "        # calculate the loss\n",
    "        loss = criterion(output, target)\n",
    "        # backward pass: compute gradient of the loss with respect to model parameters\n",
    "        loss.backward()\n",
    "        # perform a single optimization step (parameter update)\n",
    "        optimizer.step()\n",
    "        # update running training loss\n",
    "        train_loss += loss.item() #*data.size(0)\n",
    "        \n",
    "    ######################    \n",
    "    # validate the model #\n",
    "    ######################\n",
    "    model.eval() # prep model for evaluation\n",
    "    for data, target in test_loader:\n",
    "        # Move input and label tensors to the default device\n",
    "        data, target = data.to(device), target.to(device)\n",
    "        # forward pass: compute predicted outputs by passing inputs to the model\n",
    "        output = model(data)\n",
    "        # calculate the loss\n",
    "        loss = criterion(output, target)\n",
    "        # update running validation loss \n",
    "        valid_loss += loss.item() #*data.size(0)\n",
    "        # convert output probabilities to predicted class\n",
    "        _, pred = torch.max(output, 1)\n",
    "        # compare predictions to true label\n",
    "        correct = np.squeeze(pred.eq(target.data.view_as(pred)))\n",
    "        # calculate test accuracy for each object class\n",
    "        for i in range(16):\n",
    "          label = target.data[i]\n",
    "          class_correct[label] += correct[i].item()\n",
    "          class_total[label] += 1\n",
    "        \n",
    "        \n",
    "    # print training/validation statistics \n",
    "    # calculate average loss over an epoch\n",
    "    train_loss = train_loss/len(train_loader.dataset)\n",
    "    valid_loss = valid_loss/len(test_loader.dataset)\n",
    "    \n",
    "    #clculate train loss and running loss\n",
    "    train_loss_data.append(train_loss)\n",
    "    valid_loss_data.append(valid_loss)\n",
    "    \n",
    "    print('Epoch: {} \\tTraining Loss: {:.6f} \\tValidation Loss: {:.6f}'.format(\n",
    "        epoch+1, \n",
    "        train_loss,\n",
    "        valid_loss\n",
    "        ))\n",
    "    print('\\t\\tTest Accuracy: %4d%% (%2d/%2d)' % (\n",
    "    100. * np.sum(class_correct) / np.sum(class_total),\n",
    "    np.sum(class_correct), np.sum(class_total)))\n",
    "    \n",
    "    # save model if validation loss has decreased\n",
    "    if valid_loss <= valid_loss_min:\n",
    "        print('Validation loss decreased ({:.6f} --> {:.6f}).  Saving model ...'.format(\n",
    "        valid_loss_min,\n",
    "        valid_loss))\n",
    "        torch.save(model.state_dict(), 'model.pt')\n",
    "        valid_loss_min = valid_loss"
   ]
  },
  {
   "cell_type": "code",
   "execution_count": 63,
   "metadata": {
    "id": "UUuShkqWmSGa",
    "colab_type": "code",
    "colab": {
     "base_uri": "https://localhost:8080/",
     "height": 34.0
    },
    "outputId": "baf98e82-5831-425b-c4bf-5c9863fe2777"
   },
   "outputs": [
    {
     "data": {
      "text/plain": [
       "IncompatibleKeys(missing_keys=[], unexpected_keys=[])"
      ]
     },
     "execution_count": 63,
     "metadata": {
      "tags": []
     },
     "output_type": "execute_result"
    }
   ],
   "source": [
    "# load the saved model\n",
    "model.load_state_dict(torch.load('model.pt'))"
   ]
  },
  {
   "cell_type": "code",
   "execution_count": 64,
   "metadata": {
    "id": "UgmuzOg0mW_c",
    "colab_type": "code",
    "colab": {
     "base_uri": "https://localhost:8080/",
     "height": 286.0
    },
    "outputId": "8ad988c2-f829-456d-87d6-47618898373b"
   },
   "outputs": [
    {
     "data": {
      "text/plain": [
       "<matplotlib.legend.Legend at 0x7f50e164af98>"
      ]
     },
     "execution_count": 64,
     "metadata": {
      "tags": []
     },
     "output_type": "execute_result"
    },
    {
     "data": {
      "image/png": "[encoded data removed]",
      "text/plain": [
       "<Figure size 432x288 with 1 Axes>"
      ]
     },
     "metadata": {
      "tags": []
     },
     "output_type": "display_data"
    }
   ],
   "source": [
    "#My validation loss and training loss is not cross each other, so maybe I have to increase the epoch. Am I right?\n",
    "# check for overfitting\n",
    "plt.plot(train_loss_data, label = \"taining loss\")\n",
    "plt.plot(valid_loss_data, label = \"validation loss\")\n",
    "plt.legend(frameon = False)"
   ]
  },
  {
   "cell_type": "code",
   "execution_count": 65,
   "metadata": {
    "id": "gvxpQ_BqmaZF",
    "colab_type": "code",
    "colab": {
     "base_uri": "https://localhost:8080/",
     "height": 255.0
    },
    "outputId": "736c1186-fed0-4eff-8161-a39c6384b602"
   },
   "outputs": [
    {
     "name": "stdout",
     "output_type": "stream",
     "text": [
      "Test Loss: 0.321121\n",
      "\n",
      "Test Accuracy of     0: 76% (190/250)\n",
      "Test Accuracy of     1: 95% (250/262)\n",
      "Test Accuracy of     2: 82% (214/258)\n",
      "Test Accuracy of     3: 87% (233/266)\n",
      "Test Accuracy of     4: 78% (201/255)\n",
      "Test Accuracy of     5: 96% (236/245)\n",
      "Test Accuracy of     6: 69% (179/259)\n",
      "Test Accuracy of     7: 92% (227/245)\n",
      "Test Accuracy of     8: 98% (226/230)\n",
      "Test Accuracy of     9: 96% (234/242)\n",
      "\n",
      "Test Accuracy (Overall): 87% (2190/2512)\n"
     ]
    }
   ],
   "source": [
    "# initialize lists to monitor test loss and accuracy\n",
    "test_loss = 0.0\n",
    "class_correct = list(0. for i in range(10))\n",
    "class_total = list(0. for i in range(10))\n",
    "\n",
    "model.eval() # prep model for evaluation\n",
    "\n",
    "for data, target in test_loader:\n",
    "    # Move input and label tensors to the default device\n",
    "    data, target = data.to(device), target.to(device)\n",
    "    # forward pass: compute predicted outputs by passing inputs to the model\n",
    "    output = model(data)\n",
    "    # calculate the loss\n",
    "    loss = criterion(output, target)\n",
    "    # update test loss \n",
    "    test_loss += loss.item()*data.size(0)\n",
    "    # convert output probabilities to predicted class\n",
    "    _, pred = torch.max(output, 1)\n",
    "    # compare predictions to true label\n",
    "    correct = np.squeeze(pred.eq(target.data.view_as(pred)))\n",
    "    # calculate test accuracy for each object class\n",
    "    for i in range(16):\n",
    "        label = target.data[i]\n",
    "        class_correct[label] += correct[i].item()\n",
    "        class_total[label] += 1\n",
    "\n",
    "# calculate and print avg test loss\n",
    "test_loss = test_loss/len(test_loader.dataset)\n",
    "print('Test Loss: {:.6f}\\n'.format(test_loss))\n",
    "\n",
    "for i in range(10):\n",
    "    if class_total[i] > 0:\n",
    "        print('Test Accuracy of %5s: %2d%% (%2d/%2d)' % (\n",
    "            str(i), 100 * class_correct[i] / class_total[i],\n",
    "            np.sum(class_correct[i]), np.sum(class_total[i])))\n",
    "    else:\n",
    "        print('Test Accuracy of %5s: N/A (no training examples)' % (classes[i]))\n",
    "\n",
    "print('\\nTest Accuracy (Overall): %2d%% (%2d/%2d)' % (\n",
    "    100. * np.sum(class_correct) / np.sum(class_total),\n",
    "    np.sum(class_correct), np.sum(class_total)))\n"
   ]
  },
  {
   "cell_type": "code",
   "execution_count": 66,
   "metadata": {
    "id": "8ab119X6minM",
    "colab_type": "code",
    "colab": {
     "base_uri": "https://localhost:8080/",
     "height": 288.0
    },
    "outputId": "5d287364-f228-4e50-91b1-22a72fce3643"
   },
   "outputs": [
    {
     "data": {
      "image/png": "[encoded data removed]",
      "text/plain": [
       "<Figure size 1800x288 with 20 Axes>"
      ]
     },
     "metadata": {
      "tags": []
     },
     "output_type": "display_data"
    }
   ],
   "source": [
    "# obtain one batch of test images\n",
    "dataiter = iter(test_loader)\n",
    "images, labels = dataiter.next()\n",
    "\n",
    "# Move to cpu\n",
    "model.cpu()\n",
    "  \n",
    "# get sample outputs\n",
    "output = model(images)\n",
    "# convert output probabilities to predicted class\n",
    "_, preds = torch.max(output, 1)\n",
    "# prep images for display\n",
    "images = images.numpy()\n",
    "\n",
    "# plot the images in the batch, along with predicted and true labels\n",
    "fig = plt.figure(figsize=(25, 4))\n",
    "for idx in np.arange(20):\n",
    "    ax = fig.add_subplot(2, 20/2, idx+1, xticks=[], yticks=[])\n",
    "    ax.imshow(np.squeeze(images[idx]), cmap='gray')\n",
    "    ax.set_title(\"{} ({})\".format(str(preds[idx].item()), str(labels[idx].item())),\n",
    "                 color=(\"green\" if preds[idx]==labels[idx] else \"red\"))"
   ]
  }
 ],
 "metadata": {
  "colab": {
   "name": "Un.ipynb",
   "version": "0.3.2",
   "provenance": []
  },
  "kernelspec": {
   "name": "python3",
   "display_name": "Python 3"
  },
  "accelerator": "GPU"
 },
 "nbformat": 4,
 "nbformat_minor": 0
}
