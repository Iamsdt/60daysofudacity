{
 "cells": [
  {
   "cell_type": "code",
   "execution_count": 81,
   "metadata": {
    "_uuid": "8f2839f25d086af736a60e9eeb907d3b93b6e0e5",
    "_cell_guid": "b1076dfc-b9ad-4769-8c92-a6c4dae69d19",
    "trusted": true
   },
   "outputs": [
    {
     "name": "stdout",
     "output_type": "stream",
     "text": [
      "['imdb.csv']\n"
     ]
    }
   ],
   "source": [
    "# This Python 3 environment comes with many helpful analytics libraries installed\n",
    "# It is defined by the kaggle/python docker image: https://github.com/kaggle/docker-python\n",
    "# For example, here's several helpful packages to load in \n",
    "\n",
    "import numpy as np # linear algebra\n",
    "import pandas as pd # data processing, CSV file I/O (e.g. pd.read_csv)\n",
    "\n",
    "# Input data files are available in the \"../input/\" directory.\n",
    "# For example, running this (by clicking run or pressing Shift+Enter) will list the files in the input directory\n",
    "\n",
    "import os\n",
    "print(os.listdir(\"../input\"))\n",
    "\n",
    "# Any results you write to the current directory are saved as output.\n",
    "\n",
    "from torchtext import data,datasets\n",
    "\n",
    "import torch.nn as nn\n",
    "import torch.optim as optim\n",
    "import torch.nn.functional as F\n",
    "from torch.autograd import Variable\n",
    "import torch\n",
    "import sys"
   ]
  },
  {
   "cell_type": "markdown",
   "metadata": {},
   "source": [
    "# Explore Dataset"
   ]
  },
  {
   "cell_type": "code",
   "execution_count": 82,
   "metadata": {
    "_cell_guid": "79c7e3d0-c299-4dcb-8224-4455121ee9b0",
    "_uuid": "d629ff2d2480ee46fbb7e2d37f6b5fab8052498a",
    "trusted": true
   },
   "outputs": [
    {
     "name": "stderr",
     "output_type": "stream",
     "text": [
      "b'Skipping line 66: expected 44 fields, saw 46\\nSkipping line 111: expected 44 fields, saw 45\\nSkipping line 198: expected 44 fields, saw 45\\nSkipping line 222: expected 44 fields, saw 46\\nSkipping line 278: expected 44 fields, saw 45\\nSkipping line 396: expected 44 fields, saw 45\\nSkipping line 403: expected 44 fields, saw 45\\nSkipping line 421: expected 44 fields, saw 45\\nSkipping line 437: expected 44 fields, saw 45\\nSkipping line 462: expected 44 fields, saw 46\\nSkipping line 491: expected 44 fields, saw 45\\nSkipping line 515: expected 44 fields, saw 45\\nSkipping line 529: expected 44 fields, saw 45\\nSkipping line 530: expected 44 fields, saw 45\\nSkipping line 558: expected 44 fields, saw 45\\nSkipping line 623: expected 44 fields, saw 45\\nSkipping line 646: expected 44 fields, saw 45\\nSkipping line 663: expected 44 fields, saw 46\\nSkipping line 713: expected 44 fields, saw 45\\nSkipping line 730: expected 44 fields, saw 47\\nSkipping line 791: expected 44 fields, saw 45\\nSkipping line 813: expected 44 fields, saw 45\\nSkipping line 837: expected 44 fields, saw 45\\nSkipping line 861: expected 44 fields, saw 45\\nSkipping line 874: expected 44 fields, saw 45\\nSkipping line 899: expected 44 fields, saw 45\\nSkipping line 917: expected 44 fields, saw 45\\nSkipping line 944: expected 44 fields, saw 46\\nSkipping line 994: expected 44 fields, saw 45\\nSkipping line 1027: expected 44 fields, saw 45\\nSkipping line 1046: expected 44 fields, saw 45\\nSkipping line 1097: expected 44 fields, saw 45\\nSkipping line 1106: expected 44 fields, saw 45\\nSkipping line 1170: expected 44 fields, saw 45\\nSkipping line 1194: expected 44 fields, saw 45\\nSkipping line 1195: expected 44 fields, saw 45\\nSkipping line 1218: expected 44 fields, saw 45\\nSkipping line 1220: expected 44 fields, saw 45\\nSkipping line 1270: expected 44 fields, saw 45\\nSkipping line 1338: expected 44 fields, saw 47\\nSkipping line 1355: expected 44 fields, saw 45\\nSkipping line 1363: expected 44 fields, saw 45\\nSkipping line 1395: expected 44 fields, saw 45\\nSkipping line 1402: expected 44 fields, saw 46\\nSkipping line 1418: expected 44 fields, saw 45\\nSkipping line 1431: expected 44 fields, saw 45\\nSkipping line 1617: expected 44 fields, saw 45\\nSkipping line 1663: expected 44 fields, saw 45\\nSkipping line 1742: expected 44 fields, saw 46\\nSkipping line 1766: expected 44 fields, saw 45\\nSkipping line 1799: expected 44 fields, saw 45\\nSkipping line 1867: expected 44 fields, saw 45\\nSkipping line 1899: expected 44 fields, saw 45\\nSkipping line 1900: expected 44 fields, saw 45\\nSkipping line 1901: expected 44 fields, saw 45\\nSkipping line 1907: expected 44 fields, saw 45\\nSkipping line 1913: expected 44 fields, saw 45\\nSkipping line 1924: expected 44 fields, saw 45\\nSkipping line 1939: expected 44 fields, saw 45\\nSkipping line 1945: expected 44 fields, saw 45\\nSkipping line 1982: expected 44 fields, saw 45\\nSkipping line 2023: expected 44 fields, saw 45\\nSkipping line 2028: expected 44 fields, saw 45\\nSkipping line 2054: expected 44 fields, saw 45\\nSkipping line 2076: expected 44 fields, saw 45\\nSkipping line 2081: expected 44 fields, saw 45\\nSkipping line 2092: expected 44 fields, saw 45\\nSkipping line 2107: expected 44 fields, saw 45\\nSkipping line 2160: expected 44 fields, saw 45\\nSkipping line 2260: expected 44 fields, saw 45\\nSkipping line 2261: expected 44 fields, saw 45\\nSkipping line 2289: expected 44 fields, saw 46\\nSkipping line 2290: expected 44 fields, saw 45\\nSkipping line 2349: expected 44 fields, saw 45\\nSkipping line 2395: expected 44 fields, saw 45\\nSkipping line 2507: expected 44 fields, saw 45\\nSkipping line 2584: expected 44 fields, saw 45\\nSkipping line 2588: expected 44 fields, saw 46\\nSkipping line 2595: expected 44 fields, saw 45\\nSkipping line 2604: expected 44 fields, saw 45\\nSkipping line 2622: expected 44 fields, saw 45\\nSkipping line 2661: expected 44 fields, saw 45\\nSkipping line 2714: expected 44 fields, saw 45\\nSkipping line 2722: expected 44 fields, saw 45\\nSkipping line 2776: expected 44 fields, saw 45\\nSkipping line 2806: expected 44 fields, saw 45\\nSkipping line 2826: expected 44 fields, saw 45\\nSkipping line 2882: expected 44 fields, saw 45\\nSkipping line 2909: expected 44 fields, saw 45\\nSkipping line 3005: expected 44 fields, saw 45\\nSkipping line 3019: expected 44 fields, saw 45\\nSkipping line 3052: expected 44 fields, saw 45\\nSkipping line 3062: expected 44 fields, saw 45\\nSkipping line 3086: expected 44 fields, saw 45\\nSkipping line 3089: expected 44 fields, saw 45\\nSkipping line 3134: expected 44 fields, saw 46\\nSkipping line 3157: expected 44 fields, saw 45\\nSkipping line 3163: expected 44 fields, saw 45\\nSkipping line 3177: expected 44 fields, saw 45\\nSkipping line 3190: expected 44 fields, saw 45\\nSkipping line 3205: expected 44 fields, saw 45\\nSkipping line 3209: expected 44 fields, saw 45\\nSkipping line 3238: expected 44 fields, saw 45\\nSkipping line 3242: expected 44 fields, saw 45\\nSkipping line 3255: expected 44 fields, saw 45\\nSkipping line 3303: expected 44 fields, saw 45\\nSkipping line 3314: expected 44 fields, saw 45\\nSkipping line 3322: expected 44 fields, saw 45\\nSkipping line 3358: expected 44 fields, saw 45\\nSkipping line 3360: expected 44 fields, saw 46\\nSkipping line 3377: expected 44 fields, saw 45\\nSkipping line 3413: expected 44 fields, saw 45\\nSkipping line 3481: expected 44 fields, saw 45\\nSkipping line 3496: expected 44 fields, saw 45\\nSkipping line 3719: expected 44 fields, saw 45\\nSkipping line 3792: expected 44 fields, saw 45\\nSkipping line 3807: expected 44 fields, saw 46\\nSkipping line 3858: expected 44 fields, saw 45\\nSkipping line 3864: expected 44 fields, saw 45\\nSkipping line 3902: expected 44 fields, saw 45\\nSkipping line 3943: expected 44 fields, saw 45\\nSkipping line 3969: expected 44 fields, saw 45\\nSkipping line 4024: expected 44 fields, saw 47\\nSkipping line 4044: expected 44 fields, saw 45\\nSkipping line 4045: expected 44 fields, saw 45\\nSkipping line 4112: expected 44 fields, saw 45\\nSkipping line 4149: expected 44 fields, saw 45\\nSkipping line 4280: expected 44 fields, saw 45\\nSkipping line 4282: expected 44 fields, saw 45\\nSkipping line 4308: expected 44 fields, saw 45\\nSkipping line 4377: expected 44 fields, saw 45\\nSkipping line 4390: expected 44 fields, saw 45\\nSkipping line 4404: expected 44 fields, saw 45\\nSkipping line 4416: expected 44 fields, saw 45\\nSkipping line 4423: expected 44 fields, saw 46\\nSkipping line 4540: expected 44 fields, saw 45\\nSkipping line 4554: expected 44 fields, saw 45\\nSkipping line 4556: expected 44 fields, saw 46\\nSkipping line 4572: expected 44 fields, saw 45\\nSkipping line 4593: expected 44 fields, saw 45\\nSkipping line 4614: expected 44 fields, saw 45\\nSkipping line 4688: expected 44 fields, saw 45\\nSkipping line 4750: expected 44 fields, saw 45\\nSkipping line 4764: expected 44 fields, saw 45\\nSkipping line 4765: expected 44 fields, saw 45\\nSkipping line 4849: expected 44 fields, saw 45\\nSkipping line 4865: expected 44 fields, saw 45\\nSkipping line 4892: expected 44 fields, saw 45\\nSkipping line 4893: expected 44 fields, saw 45\\nSkipping line 4897: expected 44 fields, saw 45\\nSkipping line 4923: expected 44 fields, saw 45\\nSkipping line 4956: expected 44 fields, saw 45\\nSkipping line 4957: expected 44 fields, saw 45\\nSkipping line 4962: expected 44 fields, saw 45\\nSkipping line 4967: expected 44 fields, saw 45\\nSkipping line 4971: expected 44 fields, saw 45\\nSkipping line 5057: expected 44 fields, saw 45\\nSkipping line 5061: expected 44 fields, saw 45\\nSkipping line 5097: expected 44 fields, saw 45\\nSkipping line 5125: expected 44 fields, saw 45\\nSkipping line 5180: expected 44 fields, saw 45\\nSkipping line 5207: expected 44 fields, saw 45\\nSkipping line 5339: expected 44 fields, saw 45\\nSkipping line 5426: expected 44 fields, saw 45\\nSkipping line 5474: expected 44 fields, saw 45\\nSkipping line 5511: expected 44 fields, saw 45\\nSkipping line 5561: expected 44 fields, saw 45\\nSkipping line 5563: expected 44 fields, saw 45\\nSkipping line 5689: expected 44 fields, saw 45\\nSkipping line 5725: expected 44 fields, saw 45\\nSkipping line 5759: expected 44 fields, saw 45\\nSkipping line 5796: expected 44 fields, saw 45\\nSkipping line 5829: expected 44 fields, saw 45\\nSkipping line 5854: expected 44 fields, saw 45\\nSkipping line 5886: expected 44 fields, saw 45\\nSkipping line 5899: expected 44 fields, saw 45\\nSkipping line 5901: expected 44 fields, saw 45\\nSkipping line 5970: expected 44 fields, saw 45\\nSkipping line 5996: expected 44 fields, saw 45\\nSkipping line 6085: expected 44 fields, saw 45\\nSkipping line 6087: expected 44 fields, saw 45\\nSkipping line 6095: expected 44 fields, saw 45\\nSkipping line 6096: expected 44 fields, saw 45\\nSkipping line 6098: expected 44 fields, saw 45\\nSkipping line 6115: expected 44 fields, saw 46\\nSkipping line 6158: expected 44 fields, saw 46\\nSkipping line 6174: expected 44 fields, saw 45\\nSkipping line 6187: expected 44 fields, saw 45\\nSkipping line 6218: expected 44 fields, saw 45\\nSkipping line 6266: expected 44 fields, saw 45\\nSkipping line 6275: expected 44 fields, saw 45\\nSkipping line 6279: expected 44 fields, saw 45\\nSkipping line 6296: expected 44 fields, saw 45\\nSkipping line 6471: expected 44 fields, saw 46\\nSkipping line 6494: expected 44 fields, saw 45\\nSkipping line 6497: expected 44 fields, saw 45\\nSkipping line 6614: expected 44 fields, saw 46\\nSkipping line 6714: expected 44 fields, saw 45\\nSkipping line 6727: expected 44 fields, saw 45\\nSkipping line 6752: expected 44 fields, saw 45\\nSkipping line 6763: expected 44 fields, saw 45\\nSkipping line 6817: expected 44 fields, saw 45\\nSkipping line 6853: expected 44 fields, saw 45\\nSkipping line 6904: expected 44 fields, saw 45\\nSkipping line 6914: expected 44 fields, saw 45\\nSkipping line 6948: expected 44 fields, saw 45\\nSkipping line 6969: expected 44 fields, saw 45\\nSkipping line 6979: expected 44 fields, saw 45\\nSkipping line 7010: expected 44 fields, saw 47\\nSkipping line 7024: expected 44 fields, saw 45\\nSkipping line 7036: expected 44 fields, saw 45\\nSkipping line 7069: expected 44 fields, saw 45\\nSkipping line 7146: expected 44 fields, saw 45\\nSkipping line 7168: expected 44 fields, saw 45\\nSkipping line 7170: expected 44 fields, saw 45\\nSkipping line 7317: expected 44 fields, saw 45\\nSkipping line 7399: expected 44 fields, saw 45\\nSkipping line 7402: expected 44 fields, saw 45\\nSkipping line 7496: expected 44 fields, saw 45\\nSkipping line 7584: expected 44 fields, saw 45\\nSkipping line 7666: expected 44 fields, saw 45\\nSkipping line 7690: expected 44 fields, saw 45\\nSkipping line 7704: expected 44 fields, saw 47\\nSkipping line 7738: expected 44 fields, saw 45\\nSkipping line 7773: expected 44 fields, saw 45\\nSkipping line 7803: expected 44 fields, saw 45\\nSkipping line 7839: expected 44 fields, saw 45\\nSkipping line 7850: expected 44 fields, saw 45\\nSkipping line 7910: expected 44 fields, saw 45\\nSkipping line 7942: expected 44 fields, saw 45\\nSkipping line 7959: expected 44 fields, saw 45\\nSkipping line 8024: expected 44 fields, saw 45\\nSkipping line 8026: expected 44 fields, saw 45\\nSkipping line 8028: expected 44 fields, saw 45\\nSkipping line 8033: expected 44 fields, saw 45\\nSkipping line 8052: expected 44 fields, saw 45\\nSkipping line 8129: expected 44 fields, saw 45\\nSkipping line 8138: expected 44 fields, saw 45\\nSkipping line 8160: expected 44 fields, saw 46\\nSkipping line 8244: expected 44 fields, saw 45\\nSkipping line 8255: expected 44 fields, saw 45\\nSkipping line 8390: expected 44 fields, saw 45\\nSkipping line 8400: expected 44 fields, saw 45\\nSkipping line 8429: expected 44 fields, saw 45\\nSkipping line 8446: expected 44 fields, saw 46\\nSkipping line 8565: expected 44 fields, saw 46\\nSkipping line 8622: expected 44 fields, saw 46\\nSkipping line 8658: expected 44 fields, saw 45\\nSkipping line 8742: expected 44 fields, saw 45\\nSkipping line 8748: expected 44 fields, saw 45\\nSkipping line 8802: expected 44 fields, saw 45\\nSkipping line 8844: expected 44 fields, saw 45\\nSkipping line 8874: expected 44 fields, saw 45\\nSkipping line 8882: expected 44 fields, saw 45\\nSkipping line 8885: expected 44 fields, saw 48\\nSkipping line 8910: expected 44 fields, saw 45\\nSkipping line 8923: expected 44 fields, saw 45\\nSkipping line 8947: expected 44 fields, saw 45\\nSkipping line 8958: expected 44 fields, saw 45\\nSkipping line 9039: expected 44 fields, saw 46\\nSkipping line 9090: expected 44 fields, saw 45\\nSkipping line 9112: expected 44 fields, saw 45\\nSkipping line 9137: expected 44 fields, saw 45\\nSkipping line 9201: expected 44 fields, saw 45\\nSkipping line 9257: expected 44 fields, saw 45\\nSkipping line 9272: expected 44 fields, saw 45\\nSkipping line 9390: expected 44 fields, saw 45\\nSkipping line 9487: expected 44 fields, saw 45\\nSkipping line 9518: expected 44 fields, saw 45\\nSkipping line 9554: expected 44 fields, saw 45\\nSkipping line 9576: expected 44 fields, saw 45\\nSkipping line 9671: expected 44 fields, saw 45\\nSkipping line 9690: expected 44 fields, saw 45\\nSkipping line 9758: expected 44 fields, saw 45\\nSkipping line 9759: expected 44 fields, saw 45\\nSkipping line 9767: expected 44 fields, saw 45\\nSkipping line 9776: expected 44 fields, saw 45\\nSkipping line 9805: expected 44 fields, saw 45\\nSkipping line 9834: expected 44 fields, saw 45\\nSkipping line 9837: expected 44 fields, saw 45\\nSkipping line 9854: expected 44 fields, saw 45\\nSkipping line 9890: expected 44 fields, saw 45\\nSkipping line 9897: expected 44 fields, saw 45\\nSkipping line 9957: expected 44 fields, saw 45\\nSkipping line 9979: expected 44 fields, saw 45\\nSkipping line 9980: expected 44 fields, saw 45\\nSkipping line 10001: expected 44 fields, saw 45\\nSkipping line 10002: expected 44 fields, saw 45\\nSkipping line 10023: expected 44 fields, saw 45\\nSkipping line 10032: expected 44 fields, saw 45\\nSkipping line 10051: expected 44 fields, saw 45\\nSkipping line 10059: expected 44 fields, saw 46\\nSkipping line 10086: expected 44 fields, saw 45\\nSkipping line 10102: expected 44 fields, saw 45\\nSkipping line 10118: expected 44 fields, saw 45\\nSkipping line 10184: expected 44 fields, saw 45\\nSkipping line 10199: expected 44 fields, saw 45\\nSkipping line 10204: expected 44 fields, saw 45\\nSkipping line 10218: expected 44 fields, saw 45\\nSkipping line 10224: expected 44 fields, saw 45\\nSkipping line 10294: expected 44 fields, saw 45\\nSkipping line 10296: expected 44 fields, saw 45\\nSkipping line 10331: expected 44 fields, saw 45\\nSkipping line 10342: expected 44 fields, saw 45\\nSkipping line 10351: expected 44 fields, saw 45\\nSkipping line 10414: expected 44 fields, saw 45\\nSkipping line 10430: expected 44 fields, saw 45\\nSkipping line 10463: expected 44 fields, saw 45\\nSkipping line 10478: expected 44 fields, saw 46\\nSkipping line 10533: expected 44 fields, saw 45\\nSkipping line 10536: expected 44 fields, saw 45\\nSkipping line 10539: expected 44 fields, saw 45\\nSkipping line 10549: expected 44 fields, saw 45\\nSkipping line 10582: expected 44 fields, saw 45\\nSkipping line 10588: expected 44 fields, saw 45\\nSkipping line 10598: expected 44 fields, saw 45\\nSkipping line 10660: expected 44 fields, saw 45\\nSkipping line 10733: expected 44 fields, saw 45\\nSkipping line 10806: expected 44 fields, saw 45\\nSkipping line 10862: expected 44 fields, saw 45\\nSkipping line 10905: expected 44 fields, saw 45\\nSkipping line 10993: expected 44 fields, saw 45\\nSkipping line 11070: expected 44 fields, saw 45\\nSkipping line 11084: expected 44 fields, saw 45\\nSkipping line 11110: expected 44 fields, saw 45\\nSkipping line 11123: expected 44 fields, saw 45\\nSkipping line 11128: expected 44 fields, saw 45\\nSkipping line 11129: expected 44 fields, saw 45\\nSkipping line 11196: expected 44 fields, saw 45\\nSkipping line 11210: expected 44 fields, saw 45\\nSkipping line 11254: expected 44 fields, saw 45\\nSkipping line 11290: expected 44 fields, saw 45\\nSkipping line 11365: expected 44 fields, saw 45\\nSkipping line 11433: expected 44 fields, saw 45\\nSkipping line 11434: expected 44 fields, saw 45\\nSkipping line 11469: expected 44 fields, saw 45\\nSkipping line 11475: expected 44 fields, saw 45\\nSkipping line 11480: expected 44 fields, saw 45\\nSkipping line 11513: expected 44 fields, saw 45\\nSkipping line 11522: expected 44 fields, saw 45\\nSkipping line 11553: expected 44 fields, saw 45\\nSkipping line 11610: expected 44 fields, saw 45\\nSkipping line 11641: expected 44 fields, saw 45\\nSkipping line 11655: expected 44 fields, saw 46\\nSkipping line 11689: expected 44 fields, saw 45\\nSkipping line 11753: expected 44 fields, saw 45\\nSkipping line 11776: expected 44 fields, saw 45\\nSkipping line 11797: expected 44 fields, saw 45\\nSkipping line 11809: expected 44 fields, saw 45\\nSkipping line 11882: expected 44 fields, saw 45\\nSkipping line 11915: expected 44 fields, saw 45\\nSkipping line 11917: expected 44 fields, saw 46\\nSkipping line 11929: expected 44 fields, saw 45\\nSkipping line 11956: expected 44 fields, saw 45\\nSkipping line 12031: expected 44 fields, saw 45\\nSkipping line 12047: expected 44 fields, saw 46\\nSkipping line 12160: expected 44 fields, saw 45\\nSkipping line 12180: expected 44 fields, saw 45\\nSkipping line 12184: expected 44 fields, saw 45\\nSkipping line 12224: expected 44 fields, saw 45\\nSkipping line 12227: expected 44 fields, saw 45\\nSkipping line 12233: expected 44 fields, saw 45\\nSkipping line 12251: expected 44 fields, saw 45\\nSkipping line 12256: expected 44 fields, saw 45\\nSkipping line 12257: expected 44 fields, saw 45\\nSkipping line 12259: expected 44 fields, saw 45\\nSkipping line 12355: expected 44 fields, saw 45\\nSkipping line 12378: expected 44 fields, saw 45\\nSkipping line 12398: expected 44 fields, saw 45\\nSkipping line 12486: expected 44 fields, saw 45\\nSkipping line 12516: expected 44 fields, saw 45\\nSkipping line 12588: expected 44 fields, saw 45\\nSkipping line 12595: expected 44 fields, saw 45\\nSkipping line 12614: expected 44 fields, saw 45\\nSkipping line 12642: expected 44 fields, saw 45\\nSkipping line 12701: expected 44 fields, saw 45\\nSkipping line 12741: expected 44 fields, saw 46\\nSkipping line 12771: expected 44 fields, saw 45\\nSkipping line 12777: expected 44 fields, saw 45\\nSkipping line 12802: expected 44 fields, saw 45\\nSkipping line 12892: expected 44 fields, saw 45\\nSkipping line 12910: expected 44 fields, saw 47\\nSkipping line 12982: expected 44 fields, saw 46\\nSkipping line 13024: expected 44 fields, saw 45\\nSkipping line 13052: expected 44 fields, saw 45\\nSkipping line 13056: expected 44 fields, saw 45\\nSkipping line 13158: expected 44 fields, saw 45\\nSkipping line 13170: expected 44 fields, saw 45\\nSkipping line 13171: expected 44 fields, saw 45\\nSkipping line 13186: expected 44 fields, saw 45\\nSkipping line 13240: expected 44 fields, saw 45\\nSkipping line 13262: expected 44 fields, saw 45\\nSkipping line 13374: expected 44 fields, saw 45\\nSkipping line 13407: expected 44 fields, saw 45\\nSkipping line 13477: expected 44 fields, saw 45\\nSkipping line 13540: expected 44 fields, saw 46\\nSkipping line 13569: expected 44 fields, saw 45\\nSkipping line 13617: expected 44 fields, saw 46\\nSkipping line 13651: expected 44 fields, saw 45\\nSkipping line 13663: expected 44 fields, saw 45\\nSkipping line 13754: expected 44 fields, saw 46\\nSkipping line 13775: expected 44 fields, saw 45\\nSkipping line 13804: expected 44 fields, saw 45\\nSkipping line 13828: expected 44 fields, saw 45\\nSkipping line 13865: expected 44 fields, saw 46\\nSkipping line 13883: expected 44 fields, saw 45\\nSkipping line 13929: expected 44 fields, saw 45\\nSkipping line 13948: expected 44 fields, saw 45\\nSkipping line 14022: expected 44 fields, saw 45\\nSkipping line 14127: expected 44 fields, saw 45\\nSkipping line 14148: expected 44 fields, saw 45\\nSkipping line 14173: expected 44 fields, saw 45\\nSkipping line 14243: expected 44 fields, saw 45\\nSkipping line 14254: expected 44 fields, saw 45\\nSkipping line 14318: expected 44 fields, saw 45\\nSkipping line 14320: expected 44 fields, saw 45\\nSkipping line 14354: expected 44 fields, saw 45\\nSkipping line 14434: expected 44 fields, saw 45\\nSkipping line 14456: expected 44 fields, saw 45\\nSkipping line 14479: expected 44 fields, saw 45\\nSkipping line 14565: expected 44 fields, saw 45\\nSkipping line 14572: expected 44 fields, saw 45\\nSkipping line 14616: expected 44 fields, saw 45\\nSkipping line 14636: expected 44 fields, saw 45\\nSkipping line 14642: expected 44 fields, saw 47\\nSkipping line 14644: expected 44 fields, saw 45\\nSkipping line 14649: expected 44 fields, saw 45\\nSkipping line 14670: expected 44 fields, saw 45\\nSkipping line 14688: expected 44 fields, saw 45\\n'\n"
     ]
    },
    {
     "data": {
      "text/plain": [
       "630608"
      ]
     },
     "execution_count": 82,
     "metadata": {},
     "output_type": "execute_result"
    }
   ],
   "source": [
    "table = pd.read_csv(\"../input/imdb.csv\", error_bad_lines=False)\n",
    "table.size"
   ]
  },
  {
   "cell_type": "markdown",
   "metadata": {},
   "source": [
    "## Show columns"
   ]
  },
  {
   "cell_type": "code",
   "execution_count": 83,
   "metadata": {
    "trusted": true
   },
   "outputs": [
    {
     "data": {
      "text/plain": [
       "Index(['fn', 'tid', 'title', 'wordsInTitle', 'url', 'imdbRating',\n       'ratingCount', 'duration', 'year', 'type', 'nrOfWins',\n       'nrOfNominations', 'nrOfPhotos', 'nrOfNewsArticles', 'nrOfUserReviews',\n       'nrOfGenre', 'Action', 'Adult', 'Adventure', 'Animation', 'Biography',\n       'Comedy', 'Crime', 'Documentary', 'Drama', 'Family', 'Fantasy',\n       'FilmNoir', 'GameShow', 'History', 'Horror', 'Music', 'Musical',\n       'Mystery', 'News', 'RealityTV', 'Romance', 'SciFi', 'Short', 'Sport',\n       'TalkShow', 'Thriller', 'War', 'Western'],\n      dtype='object')"
      ]
     },
     "execution_count": 83,
     "metadata": {},
     "output_type": "execute_result"
    }
   ],
   "source": [
    "table.columns"
   ]
  },
  {
   "cell_type": "markdown",
   "metadata": {},
   "source": [
    "# Print two entry"
   ]
  },
  {
   "cell_type": "code",
   "execution_count": 84,
   "metadata": {
    "trusted": true
   },
   "outputs": [
    {
     "data": {
      "text/html": [
       "<div>\n<style scoped>\n    .dataframe tbody tr th:only-of-type {\n        vertical-align: middle;\n    }\n\n    .dataframe tbody tr th {\n        vertical-align: top;\n    }\n\n    .dataframe thead th {\n        text-align: right;\n    }\n</style>\n<table border=\"1\" class=\"dataframe\">\n  <thead>\n    <tr style=\"text-align: right;\">\n      <th></th>\n      <th>fn</th>\n      <th>tid</th>\n      <th>title</th>\n      <th>wordsInTitle</th>\n      <th>url</th>\n      <th>imdbRating</th>\n      <th>ratingCount</th>\n      <th>duration</th>\n      <th>year</th>\n      <th>type</th>\n      <th>...</th>\n      <th>News</th>\n      <th>RealityTV</th>\n      <th>Romance</th>\n      <th>SciFi</th>\n      <th>Short</th>\n      <th>Sport</th>\n      <th>TalkShow</th>\n      <th>Thriller</th>\n      <th>War</th>\n      <th>Western</th>\n    </tr>\n  </thead>\n  <tbody>\n    <tr>\n      <th>0</th>\n      <td>titles01/tt0012349</td>\n      <td>tt0012349</td>\n      <td>Der Vagabund und das Kind (1921)</td>\n      <td>der vagabund und das kind</td>\n      <td>http://www.imdb.com/title/tt0012349/</td>\n      <td>8.4</td>\n      <td>40550.0</td>\n      <td>3240.0</td>\n      <td>1921.0</td>\n      <td>video.movie</td>\n      <td>...</td>\n      <td>0</td>\n      <td>0</td>\n      <td>0</td>\n      <td>0</td>\n      <td>0</td>\n      <td>0</td>\n      <td>0</td>\n      <td>0</td>\n      <td>0</td>\n      <td>0</td>\n    </tr>\n    <tr>\n      <th>1</th>\n      <td>titles01/tt0015864</td>\n      <td>tt0015864</td>\n      <td>Goldrausch (1925)</td>\n      <td>goldrausch</td>\n      <td>http://www.imdb.com/title/tt0015864/</td>\n      <td>8.3</td>\n      <td>45319.0</td>\n      <td>5700.0</td>\n      <td>1925.0</td>\n      <td>video.movie</td>\n      <td>...</td>\n      <td>0</td>\n      <td>0</td>\n      <td>0</td>\n      <td>0</td>\n      <td>0</td>\n      <td>0</td>\n      <td>0</td>\n      <td>0</td>\n      <td>0</td>\n      <td>0</td>\n    </tr>\n  </tbody>\n</table>\n<p>2 rows × 44 columns</p>\n</div>"
      ],
      "text/plain": [
       "                   fn        tid                             title  \\\n0  titles01/tt0012349  tt0012349  Der Vagabund und das Kind (1921)   \n1  titles01/tt0015864  tt0015864                 Goldrausch (1925)   \n\n                wordsInTitle                                   url  \\\n0  der vagabund und das kind  http://www.imdb.com/title/tt0012349/   \n1                 goldrausch  http://www.imdb.com/title/tt0015864/   \n\n   imdbRating  ratingCount  duration    year         type   ...     News  \\\n0         8.4      40550.0    3240.0  1921.0  video.movie   ...        0   \n1         8.3      45319.0    5700.0  1925.0  video.movie   ...        0   \n\n   RealityTV  Romance  SciFi  Short  Sport  TalkShow  Thriller  War  Western  \n0          0        0      0      0      0         0         0    0        0  \n1          0        0      0      0      0         0         0    0        0  \n\n[2 rows x 44 columns]"
      ]
     },
     "execution_count": 84,
     "metadata": {},
     "output_type": "execute_result"
    }
   ],
   "source": [
    "table.iloc[0:2]"
   ]
  },
  {
   "cell_type": "markdown",
   "metadata": {},
   "source": [
    "## First 10 * 10 "
   ]
  },
  {
   "cell_type": "code",
   "execution_count": 85,
   "metadata": {
    "trusted": true
   },
   "outputs": [
    {
     "data": {
      "text/html": [
       "<div>\n<style scoped>\n    .dataframe tbody tr th:only-of-type {\n        vertical-align: middle;\n    }\n\n    .dataframe tbody tr th {\n        vertical-align: top;\n    }\n\n    .dataframe thead th {\n        text-align: right;\n    }\n</style>\n<table border=\"1\" class=\"dataframe\">\n  <thead>\n    <tr style=\"text-align: right;\">\n      <th></th>\n      <th>tid</th>\n      <th>title</th>\n      <th>wordsInTitle</th>\n      <th>url</th>\n      <th>imdbRating</th>\n      <th>ratingCount</th>\n      <th>duration</th>\n      <th>year</th>\n      <th>type</th>\n    </tr>\n  </thead>\n  <tbody>\n    <tr>\n      <th>0</th>\n      <td>tt0012349</td>\n      <td>Der Vagabund und das Kind (1921)</td>\n      <td>der vagabund und das kind</td>\n      <td>http://www.imdb.com/title/tt0012349/</td>\n      <td>8.4</td>\n      <td>40550.0</td>\n      <td>3240.0</td>\n      <td>1921.0</td>\n      <td>video.movie</td>\n    </tr>\n    <tr>\n      <th>1</th>\n      <td>tt0015864</td>\n      <td>Goldrausch (1925)</td>\n      <td>goldrausch</td>\n      <td>http://www.imdb.com/title/tt0015864/</td>\n      <td>8.3</td>\n      <td>45319.0</td>\n      <td>5700.0</td>\n      <td>1925.0</td>\n      <td>video.movie</td>\n    </tr>\n    <tr>\n      <th>2</th>\n      <td>tt0017136</td>\n      <td>Metropolis (1927)</td>\n      <td>metropolis</td>\n      <td>http://www.imdb.com/title/tt0017136/</td>\n      <td>8.4</td>\n      <td>81007.0</td>\n      <td>9180.0</td>\n      <td>1927.0</td>\n      <td>video.movie</td>\n    </tr>\n    <tr>\n      <th>3</th>\n      <td>tt0017925</td>\n      <td>Der General (1926)</td>\n      <td>der general</td>\n      <td>http://www.imdb.com/title/tt0017925/</td>\n      <td>8.3</td>\n      <td>37521.0</td>\n      <td>6420.0</td>\n      <td>1926.0</td>\n      <td>video.movie</td>\n    </tr>\n    <tr>\n      <th>4</th>\n      <td>tt0021749</td>\n      <td>Lichter der Großstadt (1931)</td>\n      <td>lichter der gro stadt</td>\n      <td>http://www.imdb.com/title/tt0021749/</td>\n      <td>8.7</td>\n      <td>70057.0</td>\n      <td>5220.0</td>\n      <td>1931.0</td>\n      <td>video.movie</td>\n    </tr>\n    <tr>\n      <th>5</th>\n      <td>tt0022100</td>\n      <td>M (1931)</td>\n      <td>m</td>\n      <td>http://www.imdb.com/title/tt0022100/</td>\n      <td>8.5</td>\n      <td>73726.0</td>\n      <td>7020.0</td>\n      <td>1931.0</td>\n      <td>video.movie</td>\n    </tr>\n    <tr>\n      <th>6</th>\n      <td>tt0025316</td>\n      <td>Es geschah in einer Nacht (1934)</td>\n      <td>es geschah in einer nacht</td>\n      <td>http://www.imdb.com/title/tt0025316/</td>\n      <td>8.3</td>\n      <td>46503.0</td>\n      <td>6300.0</td>\n      <td>1934.0</td>\n      <td>video.movie</td>\n    </tr>\n    <tr>\n      <th>7</th>\n      <td>tt0027977</td>\n      <td>Moderne Zeiten (1936)</td>\n      <td>moderne zeiten</td>\n      <td>http://www.imdb.com/title/tt0027977/</td>\n      <td>8.6</td>\n      <td>90847.0</td>\n      <td>5220.0</td>\n      <td>1936.0</td>\n      <td>video.movie</td>\n    </tr>\n    <tr>\n      <th>8</th>\n      <td>tt0031381</td>\n      <td>Vom Winde verweht (1939)</td>\n      <td>vom winde verweht</td>\n      <td>http://www.imdb.com/title/tt0031381/</td>\n      <td>8.2</td>\n      <td>160414.0</td>\n      <td>14280.0</td>\n      <td>1939.0</td>\n      <td>video.movie</td>\n    </tr>\n    <tr>\n      <th>9</th>\n      <td>tt0031679</td>\n      <td>Mr. Smith geht nach Washington (1939)</td>\n      <td>mr smith geht nach washington</td>\n      <td>http://www.imdb.com/title/tt0031679/</td>\n      <td>8.4</td>\n      <td>58169.0</td>\n      <td>7740.0</td>\n      <td>1939.0</td>\n      <td>video.movie</td>\n    </tr>\n  </tbody>\n</table>\n</div>"
      ],
      "text/plain": [
       "         tid                                  title  \\\n0  tt0012349       Der Vagabund und das Kind (1921)   \n1  tt0015864                      Goldrausch (1925)   \n2  tt0017136                      Metropolis (1927)   \n3  tt0017925                     Der General (1926)   \n4  tt0021749           Lichter der Großstadt (1931)   \n5  tt0022100                               M (1931)   \n6  tt0025316       Es geschah in einer Nacht (1934)   \n7  tt0027977                  Moderne Zeiten (1936)   \n8  tt0031381               Vom Winde verweht (1939)   \n9  tt0031679  Mr. Smith geht nach Washington (1939)   \n\n                    wordsInTitle                                   url  \\\n0      der vagabund und das kind  http://www.imdb.com/title/tt0012349/   \n1                     goldrausch  http://www.imdb.com/title/tt0015864/   \n2                     metropolis  http://www.imdb.com/title/tt0017136/   \n3                    der general  http://www.imdb.com/title/tt0017925/   \n4          lichter der gro stadt  http://www.imdb.com/title/tt0021749/   \n5                              m  http://www.imdb.com/title/tt0022100/   \n6      es geschah in einer nacht  http://www.imdb.com/title/tt0025316/   \n7                 moderne zeiten  http://www.imdb.com/title/tt0027977/   \n8              vom winde verweht  http://www.imdb.com/title/tt0031381/   \n9  mr smith geht nach washington  http://www.imdb.com/title/tt0031679/   \n\n   imdbRating  ratingCount  duration    year         type  \n0         8.4      40550.0    3240.0  1921.0  video.movie  \n1         8.3      45319.0    5700.0  1925.0  video.movie  \n2         8.4      81007.0    9180.0  1927.0  video.movie  \n3         8.3      37521.0    6420.0  1926.0  video.movie  \n4         8.7      70057.0    5220.0  1931.0  video.movie  \n5         8.5      73726.0    7020.0  1931.0  video.movie  \n6         8.3      46503.0    6300.0  1934.0  video.movie  \n7         8.6      90847.0    5220.0  1936.0  video.movie  \n8         8.2     160414.0   14280.0  1939.0  video.movie  \n9         8.4      58169.0    7740.0  1939.0  video.movie  "
      ]
     },
     "execution_count": 85,
     "metadata": {},
     "output_type": "execute_result"
    }
   ],
   "source": [
    "table.iloc[0:10, 1:10]"
   ]
  },
  {
   "cell_type": "markdown",
   "metadata": {},
   "source": [
    "# Prepare Dataset"
   ]
  },
  {
   "cell_type": "code",
   "execution_count": 86,
   "metadata": {
    "trusted": true
   },
   "outputs": [],
   "source": [
    "from torchtext import data\n",
    "\n",
    "Text = data.Field(lower=True, batch_first=True, fix_length=20)\n",
    "Label = data.Field(sequential=False)"
   ]
  },
  {
   "cell_type": "code",
   "execution_count": 87,
   "metadata": {
    "trusted": true
   },
   "outputs": [],
   "source": [
    "from torchtext import datasets\n",
    "train, test = datasets.IMDB.splits(Text, Label)"
   ]
  },
  {
   "cell_type": "code",
   "execution_count": 88,
   "metadata": {
    "trusted": true
   },
   "outputs": [
    {
     "name": "stdout",
     "output_type": "stream",
     "text": [
      "25000\n"
     ]
    },
    {
     "data": {
      "text/plain": [
       "{'text': <torchtext.data.field.Field at 0x7f34bee5cfd0>,\n 'label': <torchtext.data.field.Field at 0x7f34c0a80f98>}"
      ]
     },
     "execution_count": 88,
     "metadata": {},
     "output_type": "execute_result"
    }
   ],
   "source": [
    "print(len(train))\n",
    "train.fields"
   ]
  },
  {
   "cell_type": "code",
   "execution_count": 89,
   "metadata": {
    "trusted": true
   },
   "outputs": [
    {
     "data": {
      "text/plain": [
       "{'text': ['i',\n  'second',\n  'the',\n  'motion',\n  'to',\n  'make',\n  'this',\n  'into',\n  'a',\n  'movie,',\n  'it',\n  'would',\n  'be',\n  'great!!',\n  'i',\n  'was',\n  'also',\n  'amazed',\n  'at',\n  'the',\n  'storyline',\n  'and',\n  'character',\n  'build',\n  'in',\n  'this',\n  'game.',\n  'i',\n  'have',\n  'played',\n  'it',\n  'again',\n  'and',\n  'again',\n  '(over',\n  '20',\n  'times)',\n  'just',\n  'to',\n  'try',\n  'something',\n  'different',\n  'and',\n  'it',\n  'gets',\n  'more',\n  'interesting',\n  'every',\n  'time.',\n  'final',\n  'fantasy',\n  'eat',\n  'your',\n  'heart',\n  'out!!',\n  'this',\n  'should',\n  'be',\n  'made',\n  'into',\n  'a',\n  'movie!!!!!',\n  'if',\n  'anyone',\n  'out',\n  'there',\n  'wants',\n  'some',\n  'help',\n  'to',\n  'start',\n  'a',\n  'petition',\n  'to',\n  'have',\n  'this',\n  'made',\n  'into',\n  'a',\n  'movie,',\n  'please',\n  'contact',\n  'me.',\n  'i',\n  'would',\n  'love',\n  'to',\n  'help',\n  'with',\n  'that',\n  'project',\n  'any',\n  'day.',\n  'the',\n  'graphics',\n  'are',\n  'great',\n  'for',\n  'ps1',\n  'and',\n  'even',\n  'make',\n  'you',\n  'forget',\n  'it',\n  'is',\n  'ps1',\n  'most',\n  'of',\n  'the',\n  'time.',\n  'the',\n  'multitude',\n  'of',\n  'side',\n  'quests',\n  'makes',\n  'it',\n  'different',\n  'every',\n  'time',\n  'you',\n  'play.'],\n 'label': 'pos'}"
      ]
     },
     "execution_count": 89,
     "metadata": {},
     "output_type": "execute_result"
    }
   ],
   "source": [
    "vars(train[0])"
   ]
  },
  {
   "cell_type": "markdown",
   "metadata": {},
   "source": [
    "# Build vocabulary"
   ]
  },
  {
   "cell_type": "code",
   "execution_count": 90,
   "metadata": {
    "trusted": true
   },
   "outputs": [],
   "source": [
    "from torchtext.vocab import GloVe,FastText,CharNGram\n",
    "Text.build_vocab(train, vectors=GloVe(name='6B', dim=300),max_size=10000,min_freq=10)\n",
    "Label.build_vocab(train,)"
   ]
  },
  {
   "cell_type": "markdown",
   "metadata": {},
   "source": [
    "# Frequency"
   ]
  },
  {
   "cell_type": "code",
   "execution_count": 91,
   "metadata": {
    "trusted": true
   },
   "outputs": [
    {
     "data": {
      "text/plain": [
       "Counter({'i': 70480,\n         'second': 1625,\n         'the': 322198,\n         'motion': 301,\n         'to': 133967,\n         'make': 7590,\n         'this': 69714,\n         'into': 8990,\n         'a': 159953,\n         'movie,': 3979,\n         'it': 65505,\n         'would': 12027,\n         'be': 25691,\n         'great!!': 4,\n         'was': 47024,\n         'also': 8007,\n         'amazed': 167,\n         'at': 22731,\n         'storyline': 525,\n         'and': 158572,\n         'character': 5260,\n         'build': 283,\n         'in': 90527,\n         'game.': 151,\n         'have': 27344,\n         'played': 2238,\n         'again': 1781,\n         '(over': 8,\n         '20': 529,\n         'times)': 25,\n         'just': 17309,\n         'try': 1656,\n         'something': 4387,\n         'different': 2064,\n         'gets': 3117,\n         'more': 13170,\n         'interesting': 2364,\n         'every': 3885,\n         'time.': 1931,\n         'final': 1233,\n         'fantasy': 451,\n         'eat': 239,\n         'your': 5600,\n         'heart': 807,\n         'out!!': 8,\n         'should': 4842,\n         'made': 7041,\n         'movie!!!!!': 5,\n         'if': 15189,\n         'anyone': 2220,\n         'out': 14510,\n         'there': 13094,\n         'wants': 1227,\n         'some': 15280,\n         'help': 1664,\n         'start': 1420,\n         'petition': 13,\n         'please': 676,\n         'contact': 119,\n         'me.': 1125,\n         'love': 5326,\n         'with': 42729,\n         'that': 66292,\n         'project': 309,\n         'any': 7507,\n         'day.': 353,\n         'graphics': 117,\n         'are': 28743,\n         'great': 7714,\n         'for': 42843,\n         'ps1': 6,\n         'even': 12010,\n         'you': 27564,\n         'forget': 606,\n         'is': 104171,\n         'most': 8477,\n         'of': 144462,\n         'multitude': 21,\n         'side': 889,\n         'quests': 4,\n         'makes': 4150,\n         'time': 7945,\n         'play.': 135,\n         'by': 21976,\n         'submitting': 8,\n         'comment': 522,\n         'agreeing': 22,\n         'terms': 354,\n         'laid': 114,\n         'our': 2428,\n         'copyright': 21,\n         'statement.': 24,\n         'submission': 13,\n         'must': 2970,\n         'own': 2926,\n         'original': 2672,\n         'work.': 585,\n         'comments': 606,\n         'will': 8926,\n         'normally': 253,\n         'posted': 60,\n         'on': 31619,\n         'site': 146,\n         'within': 761,\n         '2-3': 11,\n         'business': 400,\n         'days.': 199,\n         'do': 7904,\n         'not': 28597,\n         'meet': 586,\n         'guidelines': 14,\n         'posted.': 5,\n         'write': 602,\n         'english': 749,\n         'only.': 67,\n         'html': 4,\n         'or': 16769,\n         'boards': 27,\n         'mark-up': 3,\n         'supported': 77,\n         'though': 3141,\n         'paragraph': 25,\n         'breaks': 236,\n         'inserted': 40,\n         'leave': 975,\n         'blank': 84,\n         'line': 1240,\n         'between': 3260,\n         'paragraph.we': 1,\n         'sent': 389,\n         'an': 21240,\n         'e-mail': 14,\n         'when': 13609,\n         'registered.': 1,\n         'click': 31,\n         'link': 90,\n         'complete': 955,\n         'registration': 9,\n         'enjoy': 1546,\n         'full': 1561,\n         'benefits': 43,\n         'being': 6390,\n         'registered': 27,\n         'imdb.com.': 3,\n         'whilst': 263,\n         'wait': 526,\n         'e-mail,': 3,\n         'can': 10797,\n         'still': 5053,\n         'update': 34,\n         'details': 282,\n         'using': 767,\n         'links': 26,\n         'below.': 12,\n         \"don't\": 7879,\n         'keep': 1572,\n         'checking': 136,\n         'though!': 7,\n         'valentine': 35,\n         'now': 3006,\n         'one': 22480,\n         'my': 11766,\n         'favorite': 1119,\n         'slasher': 419,\n         'films.': 735,\n         'death': 1205,\n         'scenes': 3874,\n         'elaborate': 100,\n         'acting': 4747,\n         'good.': 1065,\n         'marley': 16,\n         'shelton': 9,\n         'did': 5514,\n         'as': 45102,\n         'female': 844,\n         'lead': 1120,\n         '(much': 25,\n         'better': 4495,\n         'than': 9807,\n         'jennifer': 200,\n         'hewitt': 17,\n         '\"i': 439,\n         'know...\"': 3,\n         'films).': 16,\n         'david': 825,\n         'boreanaz,': 5,\n         'whom': 583,\n         'main': 2224,\n         'reason': 1776,\n         'saw': 3031,\n         'had': 11042,\n         'pretty': 3520,\n         'small': 1469,\n         'role,': 335,\n         'but': 39764,\n         'he': 26177,\n         'well.': 1062,\n         'exception': 264,\n         'list': 375,\n         'good': 11926,\n         'actors': 3300,\n         'denise': 40,\n         'richards.': 5,\n         'she': 12234,\n         'horrible': 795,\n         'this.': 1149,\n         'only': 11566,\n         'scene': 4060,\n         'glad': 437,\n         'see': 10410,\n         'her': 16540,\n         '*spoiler*': 9,\n         'scene.': 387,\n         'all': 19740,\n         'all,': 1473,\n         \"it's\": 15970,\n         'movie': 30887,\n         'watch.': 579,\n         'definitely': 1517,\n         'watch': 5709,\n         'before': 3430,\n         '\"scream\"': 15,\n         'again.': 799,\n         'never': 6319,\n         'child': 819,\n         'then': 6945,\n         'one.': 1171,\n         'it.': 5558,\n         'watched': 2115,\n         'sunday': 139,\n         'they': 20624,\n         'family': 2257,\n         'film': 27777,\n         'festival.': 86,\n         'enjoyable': 603,\n         'suitable': 91,\n         'whole': 2896,\n         'songs': 674,\n         'wonderful.': 135,\n         'admit': 517,\n         'right': 2366,\n         'off': 4519,\n         'top,': 71,\n         \"i'm\": 4174,\n         'big': 3083,\n         'fan': 1432,\n         '\"family\"': 18,\n         'films': 4828,\n         'these': 5233,\n         'them,': 629,\n         'imho,': 10,\n         'sentimental': 106,\n         'crap.': 206,\n         'one,': 819,\n         'like': 18779,\n         'toy': 127,\n         'story,': 1194,\n         'previous': 617,\n         'from': 19934,\n         'pixar,': 6,\n         'lot': 3611,\n         'fun.': 335,\n         'two': 6210,\n         'characters': 5263,\n         'were': 10528,\n         'perhaps': 1407,\n         'bit': 2760,\n         'too': 6142,\n         'bland(especially': 1,\n         'compared': 509,\n         'leads': 614,\n         'antz,': 5,\n         'otherwise': 439,\n         'better),': 6,\n         'rest': 1655,\n         'up': 10776,\n         'animation': 593,\n         'looked': 986,\n         'great,': 447,\n         'humor,': 203,\n         'broad,': 7,\n         'consistently': 97,\n         'good(i': 1,\n         'especially': 2166,\n         'liked': 1446,\n         \"hopper's\": 7,\n         '\"if': 85,\n         \"hadn't\": 268,\n         'promised': 81,\n         'mother': 971,\n         'deathbed': 9,\n         \"wouldn't\": 1020,\n         'kill': 1059,\n         'you,': 449,\n         'you!\"),': 1,\n         'doing': 1428,\n         'voices,': 22,\n         'except': 933,\n         'leads,': 61,\n         'terrific(denis': 1,\n         'leary': 16,\n         'animated': 458,\n         'movie;': 85,\n         'what': 14055,\n         'concept).': 1,\n         'everyone': 1795,\n         'else,': 173,\n         'loved': 1346,\n         'outtakes!': 1,\n         'hope': 1292,\n         'video': 1238,\n         'has': 16570,\n         'new': 3994,\n         'ones.': 138,\n         'believe': 2310,\n         'sarafina': 8,\n         'tremendous': 116,\n         'effort': 565,\n         'whoopi': 71,\n         'goldberg.': 10,\n         'besides': 263,\n         'her,': 557,\n         'no': 11273,\n         'other': 8229,\n         'stars': 1100,\n         'role': 2180,\n         'smaller': 97,\n         'title': 1066,\n         'character,': 634,\n         'sarafina.': 2,\n         'since': 2651,\n         'work': 2917,\n         'high': 1707,\n         'school': 1140,\n         'urban': 163,\n         'children,': 176,\n         'think': 6773,\n         'important': 779,\n         'show': 4623,\n         'south': 388,\n         'african': 168,\n         'history': 817,\n         'apartheid.': 7,\n         'about': 16486,\n         'education': 59,\n         \"teacher's\": 7,\n         'relationship': 797,\n         'student,': 33,\n         'bought': 442,\n         'practically': 230,\n         'nothing': 3762,\n         'videostore.': 3,\n         'fast': 563,\n         'forwarded': 11,\n         'through': 4455,\n         'musical': 819,\n         'numbers.': 43,\n         'strongly': 210,\n         'recommend': 1603,\n         'educators': 1,\n         'their': 11317,\n         'students': 264,\n         'understand.': 79,\n         'while': 4686,\n         'know': 5336,\n         'actresses': 258,\n         'film,': 4042,\n         'assume': 209,\n         'very': 13633,\n         'popular': 474,\n         'africa': 105,\n         'am': 2667,\n         'filmed': 618,\n         'cast': 2883,\n         'crew': 436,\n         'goldberg': 74,\n         'people': 7676,\n         'reaches': 100,\n         'worldwide': 25,\n         'appeal.': 47,\n         'absolute': 333,\n         'greatest': 717,\n         'entry': 119,\n         'hammer': 68,\n         'house': 1306,\n         'horror': 2880,\n         'series,': 431,\n         'surely': 374,\n         'wins': 125,\n         'award': 307,\n         'inventively': 4,\n         'titled': 97,\n         'episode!': 8,\n         '\"the': 2714,\n         'bled': 9,\n         'death\"': 28,\n         'could': 7594,\n         'yell': 34,\n         'day': 1536,\n         'without': 3145,\n         'ever': 5077,\n         'getting': 1582,\n         'tired': 328,\n         'it!': 500,\n         'wondrous': 29,\n         'title,': 132,\n         'short': 1358,\n         'benefices': 4,\n         'solidly': 21,\n         'written': 1165,\n         'screenplay': 479,\n         'handful': 121,\n         'genuinely': 249,\n         'suspenseful': 132,\n         'moments.': 191,\n         'might': 2851,\n         'require': 74,\n         'extra': 267,\n         'viewing': 528,\n         'fully': 405,\n         'understand': 1475,\n         'peculiar': 51,\n         'end-twist,': 1,\n         'idea': 1674,\n         'short.': 108,\n         'story': 8743,\n         'opens': 238,\n         'images': 358,\n         'elderly': 110,\n         'couple': 1540,\n         'drinking': 134,\n         'tea': 65,\n         'middle-class': 37,\n         'house.': 216,\n         'husband': 644,\n         'sadistically': 8,\n         'kills': 489,\n         'his': 29059,\n         'wife': 1431,\n         'several': 1393,\n         'years': 3335,\n         'later': 1455,\n         '\"cursed\"': 3,\n         'sale.': 11,\n         'young': 3293,\n         'cherubic': 1,\n         'daughter': 684,\n         'move': 623,\n         'restore': 29,\n         'it,': 3006,\n         'mysterious': 340,\n         'events': 710,\n         'occur': 85,\n         'affect': 89,\n         'sophie.': 1,\n         'beloved': 163,\n         'cat': 338,\n         'killed': 854,\n         'birthday': 87,\n         'party': 354,\n         'ruined': 204,\n         \"house's\": 11,\n         'pipes': 15,\n         'suddenly': 466,\n         'sprays': 7,\n         'blood': 729,\n         'over': 5027,\n         'guests': 50,\n         '(a': 551,\n         'particularly': 985,\n         'chilling': 118,\n         'sequence,': 113,\n         'one!).': 2,\n         'old': 3589,\n         'really': 11065,\n         'haunted?': 2,\n         'maybe': 1990,\n         'seemly': 4,\n         'helpful': 51,\n         'neighbors': 54,\n         'cause': 394,\n         'horror?': 7,\n         'answers': 129,\n         'questions': 367,\n         'provided': 190,\n         'fairly': 577,\n         'unpredictable': 61,\n         'climax': 270,\n         \"there's\": 2814,\n         'room': 614,\n         'real': 4026,\n         'shock': 269,\n         'end.': 771,\n         'tension': 378,\n         'masterfully': 53,\n         'built': 206,\n         'titular': 44,\n         'filled': 482,\n         'eerie': 111,\n         'scenery,': 73,\n         'pair': 213,\n         'rusty': 25,\n         'machetes': 2,\n         'used': 1745,\n         'slay': 9,\n         'wife.': 155,\n         'little': 6122,\n         'warning': 167,\n         'though,': 610,\n         'sequence': 656,\n         'hard': 2208,\n         \"you're\": 1858,\n         'animal': 257,\n         'lover.': 35,\n         'conclusion,': 106,\n         'another': 3686,\n         'winner': 126,\n         \"hammer's\": 9,\n         'short-running': 2,\n         'tv': 2058,\n         'series!': 14,\n         'seen': 5333,\n         'holes': 231,\n         'say': 4392,\n         'best': 5426,\n         'year': 1406,\n         'long.': 213,\n         'brings': 622,\n         'everyone.': 123,\n         'mean': 1136,\n         'who': 19407,\n         'come': 2927,\n         'having': 2433,\n         'troublesome': 14,\n         'boys': 432,\n         'dig': 110,\n         'punishment?': 3,\n         'louis': 173,\n         'sachar': 5,\n         'thats': 327,\n         'who.': 18,\n         'although': 2043,\n         'book': 1457,\n         'example': 776,\n         'caveman/stanley': 1,\n         'supposed': 1505,\n         'biggest': 505,\n         'there.': 573,\n         'weight': 97,\n         'wise': 183,\n         'height': 59,\n         'zigzag/ricky': 1,\n         'taller': 12,\n         'armpit/theodore': 1,\n         'bigger.': 11,\n         'x-ray/rex': 1,\n         'smallest': 30,\n         \"wasn't.\": 61,\n         'thing': 3514,\n         \"didn't\": 4147,\n         'flashbacks': 157,\n         'rather': 2619,\n         'persuasive': 6,\n         'present': 462,\n         'past': 900,\n         'opinion.': 128,\n         'though.': 307,\n         'squid/alan': 1,\n         'jake': 104,\n         'm.smith': 2,\n         'moody': 77,\n         'tough': 366,\n         'kid.': 95,\n         'performed': 154,\n         'job': 1632,\n         'almost': 3019,\n         'holes.': 34,\n         'so': 18099,\n         'havent': 9,\n         'yet': 2157,\n         'definatly': 4,\n         'comes': 2434,\n         \"you'll\": 1236,\n         'missing': 471,\n         'lotta': 6,\n         'fantastic.': 85,\n         'finally': 1193,\n         'well-written': 50,\n         'bad.': 877,\n         'pierce': 67,\n         'brosnan': 85,\n         'flat-out': 15,\n         'hysterical': 76,\n         'self-effacing': 2,\n         'role.': 435,\n         'its': 7963,\n         \"he's\": 2790,\n         'done.': 288,\n         'done': 2347,\n         'roles': 635,\n         'exhibited': 17,\n         'shades': 49,\n         'capable': 218,\n         'kind': 2545,\n         'fully-fledged': 1,\n         'work,': 478,\n         'gave': 1208,\n         'him': 6385,\n         'run': 940,\n         'died': 365,\n         'walked': 191,\n         'across': 918,\n         'hotel': 282,\n         'lobby': 14,\n         'underwear': 34,\n         'boots.': 6,\n         'greg': 66,\n         'kinnear': 29,\n         'davis': 213,\n         'aspire': 18,\n         'too,': 454,\n         'well': 5855,\n         'too.': 662,\n         'goofy': 124,\n         'likable': 262,\n         'turn': 1182,\n         'end': 3547,\n         'truly': 1689,\n         'gratifying.': 2,\n         'give': 3300,\n         'play': 1793,\n         'us': 3199,\n         'back.': 286,\n         'initially,': 23,\n         'thought': 3052,\n         'secret': 478,\n         'sunshine': 62,\n         'critical': 156,\n         'religion': 130,\n         '(and': 1568,\n         'here': 3055,\n         'christianity),': 1,\n         'wondered': 120,\n         'rant': 27,\n         'against': 1435,\n         'ills': 7,\n         'blind': 207,\n         'faith,': 40,\n         'manipulative': 62,\n         'power': 651,\n         'those': 4545,\n         'supposedly': 326,\n         'holier': 2,\n         'thou.': 1,\n         'surprisingly,': 61,\n         'none': 866,\n         'sort': 1378,\n         'largely': 219,\n         'non-judgemental,': 1,\n         'putting': 346,\n         'place': 1680,\n         'matter': 801,\n         'fact,': 832,\n         'allowing': 126,\n         'audience': 1499,\n         'draw': 184,\n         'judgement': 18,\n         'conclusion.<br': 29,\n         '/><br': 50935,\n         '/>and': 723,\n         \"can't\": 3442,\n         'chuckle': 44,\n         'song': 722,\n         'kang-ho,': 2,\n         'man': 3872,\n         \"who's\": 657,\n         'taken': 946,\n         'liking': 83,\n         'widower': 33,\n         'shin-ae': 19,\n         '(jeong': 1,\n         'do-yeon),': 1,\n         'starts': 1169,\n         'going': 3828,\n         'church': 267,\n         'does.': 192,\n         'reasons': 370,\n         'many': 6388,\n         'suppose,': 22,\n         'either': 1182,\n         'find': 4013,\n         'inner': 185,\n         'peace,': 21,\n         'seek': 163,\n         'help,': 54,\n         'afraid': 287,\n         'eternal': 64,\n         'damnation': 4,\n         'fires': 34,\n         'hell,': 115,\n         'reaffirm': 4,\n         'things': 3123,\n         'wanting': 287,\n         'get': 8959,\n         'married': 468,\n         'church,': 60,\n         'skirt': 12,\n         'chase': 344,\n         '(i': 729,\n         'kid': 785,\n         'not).': 11,\n         'each': 2525,\n         'turning': 329,\n         'participating': 25,\n         'prayer': 16,\n         'groups': 80,\n         'fellowship,': 1,\n         'indeed': 399,\n         'dangerous,': 19,\n         'underlying': 82,\n         'ulterior': 12,\n         'motives,': 16,\n         'satisfied,': 7,\n         \"that's\": 3193,\n         'frustration': 69,\n         'sets': 665,\n         'in.': 443,\n         'discover': 255,\n         'how': 8456,\n         'hypocritical': 11,\n         'be,': 277,\n         'portraying': 215,\n         'face': 1134,\n         'inside': 496,\n         'god,': 150,\n         'displaying': 46,\n         'outside.<br': 5,\n         '/>shin-ae': 2,\n         'son': 838,\n         'jun': 3,\n         'moves': 469,\n         'town': 848,\n         'miryang,': 3,\n         'which': 10898,\n         'birthplace': 9,\n         'deceased': 72,\n         'husband.': 73,\n         'life': 3866,\n         'anew,': 2,\n         'piano': 82,\n         'shop': 172,\n         'lessons,': 15,\n         'discovering': 73,\n         'found': 2494,\n         'freedom': 155,\n         \"moment's\": 4,\n         'lack': 1029,\n         'judgement,': 6,\n         'tragedy': 214,\n         'befall': 5,\n         'her.': 739,\n         'takes': 2131,\n         'hour': 876,\n         'to.': 315,\n         'took': 1091,\n         'point,': 329,\n         'where': 6056,\n         'begin': 583,\n         'slightly': 518,\n         'taking': 886,\n         'embracing': 14,\n         'deal': 612,\n         'accept': 283,\n         'current': 247,\n         'state,': 51,\n         'reveling': 2,\n         'comfort': 69,\n         'religion,': 41,\n         'fellow': 338,\n         'believers,': 3,\n         'offer.<br': 14,\n         '/>what': 490,\n         'began': 273,\n         'crying': 155,\n         'sympathy': 161,\n         'turns': 1177,\n         'acceptance': 50,\n         'belief': 109,\n         'offers': 331,\n         'silver': 115,\n         'bullet': 77,\n         'solve': 130,\n         'mankind,': 13,\n         'sometimes': 1033,\n         'wonder': 929,\n         'because': 8736,\n         'personal': 593,\n         'myopic': 4,\n         'view': 663,\n         'almighty': 23,\n         'adopt': 31,\n         'somewhat': 922,\n         'selfish': 76,\n         'opinion': 447,\n         \"everything's\": 10,\n         'way,': 840,\n         \"shin-ae's\": 10,\n         'case,': 284,\n         'magnanimous': 3,\n         'attitude': 170,\n         'forgive': 119,\n         'others': 1047,\n         'trespassed': 1,\n         'forgetting': 47,\n         'fundamental': 45,\n         'feeling': 1006,\n         'cut': 782,\n         'both': 3133,\n         'ways': 490,\n         'too.<br': 116,\n         '/>the': 7409,\n         'last': 2699,\n         'act': 878,\n         'probably': 2724,\n         'fun': 1835,\n         'says': 911,\n         'plenty,': 4,\n         'identify': 122,\n         '-': 9355,\n         'why': 4370,\n         'me,': 1060,\n         'someone': 2083,\n         'we': 9417,\n         'rage': 73,\n         'faith': 200,\n         'questioning,': 3,\n         'unfortunately,': 561,\n         'available.': 36,\n         'fall': 727,\n         'wayside,': 1,\n         'continue': 286,\n         'destructive': 30,\n         'deeds': 29,\n         'rebelliously.': 1,\n         'somehow': 634,\n         'plug': 40,\n         'carefully': 107,\n         'pulled': 264,\n         'offend,': 6,\n         'been': 9074,\n         'ugly': 231,\n         'mouthpiece,': 1,\n         'got': 3503,\n         'muted.<br': 1,\n         '/>if': 932,\n         'bite': 96,\n         'hype': 83,\n         'generating,': 1,\n         'realize': 639,\n         'jeong': 1,\n         'do-': 6,\n         \"yeon's\": 1,\n         'excellent': 1611,\n         'portrayal': 458,\n         'worth': 2154,\n         'mentioning,': 7,\n         'totally': 1285,\n         'owns': 56,\n         'widow': 69,\n         'unluckiest': 3,\n         'person': 1188,\n         'earth': 503,\n         'tragedies': 15,\n         'period': 480,\n         'time,': 1381,\n         'look': 3691,\n         'carefully,': 9,\n         'doing.': 61,\n         'watching': 4117,\n         'transformation,': 8,\n         'ticket': 89,\n         'price,': 22,\n         'despite': 1195,\n         'favourite': 304,\n         'korean': 115,\n         'actor': 1570,\n         'kang-ho': 4,\n         'breezed': 2,\n         'through.': 234,\n         'actually,': 166,\n         'metal': 144,\n         'satanic': 38,\n         'stuff,': 109,\n         'idea.': 127,\n         'certainly': 1400,\n         'take': 3336,\n         'seriously': 475,\n         'rate': 432,\n         'high,': 53,\n         'does': 5495,\n         'serve': 160,\n         'purpose': 286,\n         'entertains': 26,\n         'playing.': 33,\n         'band': 389,\n         'burned': 100,\n         'hotel,': 35,\n         'fans': 1003,\n         'dream': 442,\n         'effect': 413,\n         'said': 1556,\n         'go': 4552,\n         'spree': 30,\n         'beyond': 786,\n         'grave.': 33,\n         'yes,': 795,\n         '\"nightmare': 14,\n         'elm': 79,\n         'street\"': 45,\n         'plot': 4776,\n         'here.': 838,\n         'granted': 81,\n         'freddy': 181,\n         'molested': 12,\n         'girl': 1954,\n         'car': 901,\n         'before.': 301,\n         'featuring': 260,\n         'heavy': 341,\n         'kids': 1343,\n         'them': 5442,\n         'crazy.': 51,\n         'simply': 1874,\n         'helping': 165,\n         'killer': 989,\n         'spirit': 372,\n         'first': 7985,\n         'trying': 2406,\n         'stop': 880,\n         'him.': 1124,\n         'gruesome': 135,\n         'remember': 1469,\n         'gory': 176,\n         'kills.': 11,\n         'quite': 3662,\n         'frankly,': 104,\n         'wearing': 291,\n         'headphones': 9,\n         'creature': 228,\n         'incarnation': 22,\n         'band.': 34,\n         'nice': 1719,\n         'filler.': 15,\n         'incredible': 442,\n         'documentary': 663,\n         'captured': 224,\n         'frenzied': 13,\n         'chaos': 72,\n         'misery': 51,\n         'loomed': 3,\n         'nyc': 58,\n         'fateful': 26,\n         'morning': 188,\n         'september': 72,\n         '11th.': 5,\n         'intense,': 28,\n         'personal,': 16,\n         'completely': 1800,\n         'riveting,': 15,\n         '9/11': 49,\n         'accident,': 43,\n         'gives': 1562,\n         'greater': 170,\n         'until': 1724,\n         'morning,': 35,\n         'filmmakers': 476,\n         'gideon': 8,\n         'jules': 51,\n         'naudet': 13,\n         'following': 479,\n         'around': 3057,\n         'york': 550,\n         'firefighter': 9,\n         'team,': 72,\n         'concentrating': 21,\n         'specifically': 80,\n         'recruit': 21,\n         'piece': 1330,\n         'shooting': 388,\n         'dealing': 254,\n         'rigorous': 6,\n         'training': 166,\n         'become': 1488,\n         'fireman.': 1,\n         'team': 579,\n         'filming': 305,\n         'simple': 770,\n         'routine': 134,\n         'cleanup,': 1,\n         'lifts': 38,\n         ...})"
      ]
     },
     "execution_count": 91,
     "metadata": {},
     "output_type": "execute_result"
    }
   ],
   "source": [
    "Text.vocab.freqs"
   ]
  },
  {
   "cell_type": "markdown",
   "metadata": {},
   "source": [
    "# vectors"
   ]
  },
  {
   "cell_type": "code",
   "execution_count": 92,
   "metadata": {
    "trusted": true
   },
   "outputs": [
    {
     "data": {
      "text/plain": [
       "tensor([[ 0.0000,  0.0000,  0.0000,  ...,  0.0000,  0.0000,  0.0000],\n        [ 0.0000,  0.0000,  0.0000,  ...,  0.0000,  0.0000,  0.0000],\n        [ 0.0466,  0.2132, -0.0074,  ...,  0.0091, -0.2099,  0.0539],\n        ...,\n        [ 0.0000,  0.0000,  0.0000,  ...,  0.0000,  0.0000,  0.0000],\n        [ 0.7724, -0.1800,  0.2072,  ...,  0.6736,  0.2263, -0.2919],\n        [ 0.0000,  0.0000,  0.0000,  ...,  0.0000,  0.0000,  0.0000]])"
      ]
     },
     "execution_count": 92,
     "metadata": {},
     "output_type": "execute_result"
    }
   ],
   "source": [
    "Text.vocab.vectors"
   ]
  },
  {
   "cell_type": "code",
   "execution_count": 93,
   "metadata": {
    "trusted": true
   },
   "outputs": [
    {
     "data": {
      "text/plain": [
       "defaultdict(<function torchtext.vocab._default_unk_index()>,\n            {'<unk>': 0,\n             '<pad>': 1,\n             'the': 2,\n             'a': 3,\n             'and': 4,\n             'of': 5,\n             'to': 6,\n             'is': 7,\n             'in': 8,\n             'i': 9,\n             'this': 10,\n             'that': 11,\n             'it': 12,\n             '/><br': 13,\n             'was': 14,\n             'as': 15,\n             'for': 16,\n             'with': 17,\n             'but': 18,\n             'on': 19,\n             'movie': 20,\n             'his': 21,\n             'are': 22,\n             'not': 23,\n             'film': 24,\n             'you': 25,\n             'have': 26,\n             'he': 27,\n             'be': 28,\n             'at': 29,\n             'one': 30,\n             'by': 31,\n             'an': 32,\n             'they': 33,\n             'from': 34,\n             'all': 35,\n             'who': 36,\n             'like': 37,\n             'so': 38,\n             'just': 39,\n             'or': 40,\n             'has': 41,\n             'her': 42,\n             'about': 43,\n             \"it's\": 44,\n             'some': 45,\n             'if': 46,\n             'out': 47,\n             'what': 48,\n             'very': 49,\n             'when': 50,\n             'more': 51,\n             'there': 52,\n             'she': 53,\n             'would': 54,\n             'even': 55,\n             'good': 56,\n             'my': 57,\n             'only': 58,\n             'their': 59,\n             'no': 60,\n             'really': 61,\n             'had': 62,\n             'which': 63,\n             'can': 64,\n             'up': 65,\n             'were': 66,\n             'see': 67,\n             'than': 68,\n             'we': 69,\n             '-': 70,\n             'been': 71,\n             'into': 72,\n             'get': 73,\n             'will': 74,\n             'story': 75,\n             'much': 76,\n             'because': 77,\n             'most': 78,\n             'how': 79,\n             'other': 80,\n             'also': 81,\n             'first': 82,\n             'its': 83,\n             'time': 84,\n             'do': 85,\n             \"don't\": 86,\n             'me': 87,\n             'great': 88,\n             'people': 89,\n             'could': 90,\n             'make': 91,\n             'any': 92,\n             '/>the': 93,\n             'after': 94,\n             'made': 95,\n             'then': 96,\n             'bad': 97,\n             'think': 98,\n             'being': 99,\n             'many': 100,\n             'him': 101,\n             'never': 102,\n             'two': 103,\n             'too': 104,\n             'little': 105,\n             'where': 106,\n             'well': 107,\n             '<br': 108,\n             'way': 109,\n             'watch': 110,\n             'your': 111,\n             'it.': 112,\n             'did': 113,\n             'does': 114,\n             'them': 115,\n             'best': 116,\n             'movie.': 117,\n             'know': 118,\n             'seen': 119,\n             'love': 120,\n             'characters': 121,\n             'character': 122,\n             'movies': 123,\n             'these': 124,\n             'ever': 125,\n             'still': 126,\n             'over': 127,\n             'should': 128,\n             'films': 129,\n             'such': 130,\n             'plot': 131,\n             'acting': 132,\n             'while': 133,\n             'show': 134,\n             'go': 135,\n             'those': 136,\n             'off': 137,\n             'better': 138,\n             'film.': 139,\n             'through': 140,\n             \"doesn't\": 141,\n             'say': 142,\n             'something': 143,\n             'why': 144,\n             \"i'm\": 145,\n             'makes': 146,\n             \"didn't\": 147,\n             'watching': 148,\n             'back': 149,\n             'scene': 150,\n             'film,': 151,\n             'real': 152,\n             'find': 153,\n             'new': 154,\n             'movie,': 155,\n             'few': 156,\n             'actually': 157,\n             'every': 158,\n             'scenes': 159,\n             'man': 160,\n             'life': 161,\n             'going': 162,\n             'same': 163,\n             'nothing': 164,\n             '/>i': 165,\n             'look': 166,\n             'another': 167,\n             'quite': 168,\n             'lot': 169,\n             'old': 170,\n             'want': 171,\n             'end': 172,\n             'pretty': 173,\n             'thing': 174,\n             'seems': 175,\n             'got': 176,\n             '&': 177,\n             \"can't\": 178,\n             'before': 179,\n             'take': 180,\n             'years': 181,\n             'part': 182,\n             'actors': 183,\n             'give': 184,\n             'young': 185,\n             'may': 186,\n             'between': 187,\n             'us': 188,\n             \"that's\": 189,\n             \"i've\": 190,\n             'without': 191,\n             'though': 192,\n             'both': 193,\n             'things': 194,\n             'gets': 195,\n             'big': 196,\n             'around': 197,\n             'here': 198,\n             'thought': 199,\n             'saw': 200,\n             'director': 201,\n             'almost': 202,\n             'it,': 203,\n             'now': 204,\n             \"isn't\": 205,\n             'always': 206,\n             'must': 207,\n             'come': 208,\n             'own': 209,\n             'work': 210,\n             'whole': 211,\n             'cast': 212,\n             'horror': 213,\n             'down': 214,\n             'might': 215,\n             \"there's\": 216,\n             \"he's\": 217,\n             'bit': 218,\n             'least': 219,\n             'probably': 220,\n             'enough': 221,\n             '\"the': 222,\n             'feel': 223,\n             'last': 224,\n             'original': 225,\n             'am': 226,\n             'since': 227,\n             'rather': 228,\n             'long': 229,\n             'far': 230,\n             'fact': 231,\n             'kind': 232,\n             'each': 233,\n             'world': 234,\n             'funny': 235,\n             'found': 236,\n             'anything': 237,\n             'worst': 238,\n             'comes': 239,\n             'having': 240,\n             'our': 241,\n             'making': 242,\n             'trying': 243,\n             'action': 244,\n             'right': 245,\n             'interesting': 246,\n             'done': 247,\n             'however,': 248,\n             'point': 249,\n             'believe': 250,\n             'looks': 251,\n             'guy': 252,\n             'put': 253,\n             'goes': 254,\n             '/>this': 255,\n             'family': 256,\n             'played': 257,\n             'main': 258,\n             'anyone': 259,\n             'series': 260,\n             'hard': 261,\n             \"wasn't\": 262,\n             'role': 263,\n             'especially': 264,\n             'music': 265,\n             'yet': 266,\n             'worth': 267,\n             'seem': 268,\n             'performance': 269,\n             'plays': 270,\n             'takes': 271,\n             'script': 272,\n             'watched': 273,\n             'sure': 274,\n             'looking': 275,\n             'during': 276,\n             'someone': 277,\n             'minutes': 278,\n             'different': 279,\n             'tv': 280,\n             'although': 281,\n             'woman': 282,\n             'set': 283,\n             'three': 284,\n             'away': 285,\n             'times': 286,\n             'shows': 287,\n             'maybe': 288,\n             'comedy': 289,\n             'girl': 290,\n             'left': 291,\n             'everything': 292,\n             'time.': 293,\n             'john': 294,\n             'once': 295,\n             'seeing': 296,\n             'simply': 297,\n             \"you're\": 298,\n             'american': 299,\n             'fun': 300,\n             'special': 301,\n             'completely': 302,\n             'everyone': 303,\n             'play': 304,\n             'true': 305,\n             'again': 306,\n             'reason': 307,\n             'read': 308,\n             'used': 309,\n             'well,': 310,\n             'need': 311,\n             'given': 312,\n             'until': 313,\n             'nice': 314,\n             'beautiful': 315,\n             'use': 316,\n             'high': 317,\n             'sense': 318,\n             'truly': 319,\n             'place': 320,\n             'idea': 321,\n             '--': 322,\n             'help': 323,\n             'version': 324,\n             'try': 325,\n             'less': 326,\n             'rest': 327,\n             'black': 328,\n             'money': 329,\n             'came': 330,\n             'job': 331,\n             'second': 332,\n             'dvd': 333,\n             'excellent': 334,\n             'recommend': 335,\n             'ending': 336,\n             'tell': 337,\n             'getting': 338,\n             'shot': 339,\n             'keep': 340,\n             'instead': 341,\n             'actor': 342,\n             '(and': 343,\n             'gives': 344,\n             'full': 345,\n             'said': 346,\n             'let': 347,\n             'half': 348,\n             'enjoy': 349,\n             'poor': 350,\n             'couple': 351,\n             'day': 352,\n             'himself': 353,\n             'playing': 354,\n             'definitely': 355,\n             'supposed': 356,\n             'audience': 357,\n             'early': 358,\n             'become': 359,\n             'along': 360,\n             'felt': 361,\n             'effects': 362,\n             'understand': 363,\n             'all,': 364,\n             'remember': 365,\n             'small': 366,\n             \"couldn't\": 367,\n             'book': 368,\n             'entire': 369,\n             'later': 370,\n             'absolutely': 371,\n             'liked': 372,\n             'together': 373,\n             'star': 374,\n             'against': 375,\n             'fan': 376,\n             'went': 377,\n             'wife': 378,\n             'next': 379,\n             'doing': 380,\n             'start': 381,\n             'perhaps': 382,\n             'year': 383,\n             'often': 384,\n             'hollywood': 385,\n             'certainly': 386,\n             'screen': 387,\n             'several': 388,\n             '(the': 389,\n             'time,': 390,\n             '2': 391,\n             \"she's\": 392,\n             'sort': 393,\n             'night': 394,\n             'waste': 395,\n             'human': 396,\n             'is,': 397,\n             'becomes': 398,\n             'short': 399,\n             'wonderful': 400,\n             '10': 401,\n             'seemed': 402,\n             'loved': 403,\n             'men': 404,\n             'kids': 405,\n             '\\x96': 406,\n             'piece': 407,\n             'war': 408,\n             'classic': 409,\n             'father': 410,\n             '.': 411,\n             'production': 412,\n             'house': 413,\n             'home': 414,\n             'camera': 415,\n             'else': 416,\n             'wanted': 417,\n             'hope': 418,\n             'women': 419,\n             'that,': 420,\n             'totally': 421,\n             'live': 422,\n             'course': 423,\n             'performances': 424,\n             'lost': 425,\n             'top': 426,\n             'based': 427,\n             \"i'd\": 428,\n             'them.': 429,\n             'tries': 430,\n             'line': 431,\n             'mind': 432,\n             'video': 433,\n             \"you'll\": 434,\n             'final': 435,\n             'able': 436,\n             'called': 437,\n             'wants': 438,\n             'perfect': 439,\n             'friends': 440,\n             'gave': 441,\n             \"they're\": 442,\n             'under': 443,\n             'death': 444,\n             'already': 445,\n             'despite': 446,\n             'enjoyed': 447,\n             'story,': 448,\n             'finally': 449,\n             'person': 450,\n             'name': 451,\n             'either': 452,\n             'turn': 453,\n             'sex': 454,\n             'turns': 455,\n             'care': 456,\n             'one.': 457,\n             'starts': 458,\n             'written': 459,\n             'dead': 460,\n             'problem': 461,\n             'episode': 462,\n             \"won't\": 463,\n             'this.': 464,\n             'low': 465,\n             'school': 466,\n             'stupid': 467,\n             'mean': 468,\n             'face': 469,\n             'behind': 470,\n             'this,': 471,\n             'me.': 472,\n             'him.': 473,\n             'moments': 474,\n             'lead': 475,\n             'favorite': 476,\n             'and,': 477,\n             'lines': 478,\n             'sound': 479,\n             'white': 480,\n             'head': 481,\n             'michael': 482,\n             'stars': 483,\n             'guess': 484,\n             'took': 485,\n             'cannot': 486,\n             'story.': 487,\n             'fine': 488,\n             'budget': 489,\n             'title': 490,\n             'good.': 491,\n             'well.': 492,\n             'me,': 493,\n             'kill': 494,\n             'terrible': 495,\n             'highly': 496,\n             'extremely': 497,\n             'others': 498,\n             'all.': 499,\n             'dialogue': 500,\n             'sometimes': 501,\n             \"film's\": 502,\n             'evil': 503,\n             'beginning': 504,\n             'lack': 505,\n             'life.': 506,\n             'style': 507,\n             'throughout': 508,\n             \"wouldn't\": 509,\n             'heard': 510,\n             'obviously': 511,\n             'boring': 512,\n             'dark': 513,\n             'feeling': 514,\n             'itself': 515,\n             'fans': 516,\n             'lives': 517,\n             'decent': 518,\n             'works': 519,\n             'expect': 520,\n             'soon': 521,\n             'killer': 522,\n             'boy': 523,\n             'good,': 524,\n             'looked': 525,\n             'mr.': 526,\n             'attempt': 527,\n             'late': 528,\n             'particularly': 529,\n             'case': 530,\n             'amazing': 531,\n             'course,': 532,\n             'directed': 533,\n             'friend': 534,\n             'fight': 535,\n             'leave': 536,\n             '/>in': 537,\n             'wrong': 538,\n             'quality': 539,\n             '/>it': 540,\n             'mother': 541,\n             'picture': 542,\n             'entertaining': 543,\n             'save': 544,\n             'complete': 545,\n             'thinking': 546,\n             'close': 547,\n             'viewer': 548,\n             'exactly': 549,\n             'guys': 550,\n             'taken': 551,\n             'awful': 552,\n             'writing': 553,\n             'finds': 554,\n             'run': 555,\n             'whose': 556,\n             'except': 557,\n             '/>if': 558,\n             'wonder': 559,\n             'movies.': 560,\n             'somewhat': 561,\n             'living': 562,\n             'across': 563,\n             'number': 564,\n             'police': 565,\n             'strong': 566,\n             'told': 567,\n             'says': 568,\n             'james': 569,\n             'movies,': 570,\n             'opening': 571,\n             'worse': 572,\n             'obvious': 573,\n             'shown': 574,\n             'parts': 575,\n             'laugh': 576,\n             'coming': 577,\n             'running': 578,\n             '3': 579,\n             'car': 580,\n             'films,': 581,\n             'past': 582,\n             'direction': 583,\n             'usually': 584,\n             'type': 585,\n             'wish': 586,\n             'group': 587,\n             'huge': 588,\n             'side': 589,\n             'acting,': 590,\n             'major': 591,\n             'taking': 592,\n             'children': 593,\n             'supporting': 594,\n             'girls': 595,\n             'stop': 596,\n             'act': 597,\n             'bad.': 598,\n             'hour': 599,\n             'turned': 600,\n             'tells': 601,\n             'known': 602,\n             'none': 603,\n             'started': 604,\n             'local': 605,\n             'knew': 606,\n             'that.': 607,\n             'myself': 608,\n             'killed': 609,\n             'due': 610,\n             'here,': 611,\n             'stories': 612,\n             \"aren't\": 613,\n             'town': 614,\n             'single': 615,\n             'game': 616,\n             'happens': 617,\n             ',': 618,\n             'female': 619,\n             'it.<br': 620,\n             'again,': 621,\n             'bring': 622,\n             'call': 623,\n             'including': 624,\n             \"i'll\": 625,\n             'way,': 626,\n             'brilliant': 627,\n             'cinema': 628,\n             'here.': 629,\n             'son': 630,\n             'clearly': 631,\n             'british': 632,\n             'actress': 633,\n             'fact,': 634,\n             '/>there': 635,\n             'mostly': 636,\n             'humor': 637,\n             'art': 638,\n             'david': 639,\n             'hit': 640,\n             'talking': 641,\n             'voice': 642,\n             'robert': 643,\n             'involved': 644,\n             'whether': 645,\n             'characters,': 646,\n             'giving': 647,\n             'child': 648,\n             'musical': 649,\n             'one,': 650,\n             'history': 651,\n             'order': 652,\n             'out.': 653,\n             'ends': 654,\n             'falls': 655,\n             'end,': 656,\n             'heart': 657,\n             'saying': 658,\n             'drama': 659,\n             'easily': 660,\n             '!': 661,\n             'matter': 662,\n             'serious': 663,\n             'again.': 664,\n             'bad,': 665,\n             'eyes': 666,\n             'relationship': 667,\n             'horrible': 668,\n             'yes,': 669,\n             'nearly': 670,\n             'however': 671,\n             'modern': 672,\n             'chance': 673,\n             'feels': 674,\n             'beyond': 675,\n             'kid': 676,\n             'needs': 677,\n             'actual': 678,\n             'cut': 679,\n             \"haven't\": 680,\n             'appears': 681,\n             'important': 682,\n             'similar': 683,\n             'themselves': 684,\n             'five': 685,\n             'example': 686,\n             'moment': 687,\n             '/>but': 688,\n             'change': 689,\n             'comic': 690,\n             'upon': 691,\n             'end.': 692,\n             'simple': 693,\n             'strange': 694,\n             'using': 695,\n             'four': 696,\n             'knows': 697,\n             'happened': 698,\n             'is.': 699,\n             'named': 700,\n             'within': 701,\n             'released': 702,\n             'usual': 703,\n             'way.': 704,\n             'seen.': 705,\n             'english': 706,\n             'among': 707,\n             'movie.<br': 708,\n             'but,': 709,\n             'lots': 710,\n             '/>': 711,\n             'basically': 712,\n             'mention': 713,\n             'slow': 714,\n             'romantic': 715,\n             'stuff': 716,\n             'bunch': 717,\n             'her.': 718,\n             'kept': 719,\n             'typical': 720,\n             'certain': 721,\n             'interest': 722,\n             'films.': 723,\n             'near': 724,\n             'city': 725,\n             'hours': 726,\n             'overall': 727,\n             'showing': 728,\n             '(i': 729,\n             'blood': 730,\n             'plot,': 731,\n             'brought': 732,\n             'fall': 733,\n             'murder': 734,\n             'days': 735,\n             'body': 736,\n             '/>and': 737,\n             'tried': 738,\n             'song': 739,\n             'apparently': 740,\n             'miss': 741,\n             '/>a': 742,\n             'him,': 743,\n             'middle': 744,\n             'greatest': 745,\n             'jack': 746,\n             'life,': 747,\n             'george': 748,\n             'film.<br': 749,\n             'score': 750,\n             'events': 751,\n             'happy': 752,\n             'sad': 753,\n             '/>as': 754,\n             'yourself': 755,\n             'working': 756,\n             'shots': 757,\n             'stay': 758,\n             'talk': 759,\n             'add': 760,\n             'cheap': 761,\n             '(as': 762,\n             'begins': 763,\n             'decided': 764,\n             'age': 765,\n             'buy': 766,\n             'so,': 767,\n             'surprised': 768,\n             'hear': 769,\n             'french': 770,\n             'brother': 771,\n             'famous': 772,\n             'alone': 773,\n             'on.': 774,\n             'paul': 775,\n             'became': 776,\n             \"what's\": 777,\n             'daughter': 778,\n             'hate': 779,\n             'annoying': 780,\n             'learn': 781,\n             'richard': 782,\n             'happen': 783,\n             '(which': 784,\n             'please': 785,\n             'sit': 786,\n             'songs': 787,\n             \"you've\": 788,\n             'de': 789,\n             'jokes': 790,\n             'easy': 791,\n             \"/>it's\": 792,\n             'nor': 793,\n             'ten': 794,\n             'peter': 795,\n             'sets': 796,\n             'documentary': 797,\n             'view': 798,\n             'experience': 799,\n             'light': 800,\n             'too.': 801,\n             'above': 802,\n             'funny.': 803,\n             'cinematography': 804,\n             'funny,': 805,\n             'hell': 806,\n             'possibly': 807,\n             \"who's\": 808,\n             'sequence': 809,\n             'sexual': 810,\n             'attention': 811,\n             'king': 812,\n             'straight': 813,\n             '1': 814,\n             'stand': 815,\n             'hand': 816,\n             'meets': 817,\n             'power': 818,\n             'oh': 819,\n             'gore': 820,\n             'episodes': 821,\n             'word': 822,\n             'difficult': 823,\n             'clear': 824,\n             'elements': 825,\n             'husband': 826,\n             'also,': 827,\n             'red': 828,\n             'god': 829,\n             'violence': 830,\n             'characters.': 831,\n             'keeps': 832,\n             'leaves': 833,\n             'poorly': 834,\n             'realize': 835,\n             'means': 836,\n             'ones': 837,\n             'japanese': 838,\n             'television': 839,\n             'genre': 840,\n             'roles': 841,\n             'character,': 842,\n             'somehow': 843,\n             'flick': 844,\n             '5': 845,\n             'cool': 846,\n             'out,': 847,\n             'figure': 848,\n             'reality': 849,\n             'possible': 850,\n             'silly': 851,\n             'them,': 852,\n             'eventually': 853,\n             'towards': 854,\n             'reading': 855,\n             'move': 856,\n             'rent': 857,\n             'brings': 858,\n             'doubt': 859,\n             'scary': 860,\n             'theme': 861,\n             'killing': 862,\n             'lady': 863,\n             'unfortunately': 864,\n             'filmed': 865,\n             'imagine': 866,\n             'moving': 867,\n             'previous': 868,\n             'emotional': 869,\n             'on,': 870,\n             'leads': 871,\n             'rock': 872,\n             'room': 873,\n             '(or': 874,\n             'problems': 875,\n             'third': 876,\n             'tom': 877,\n             'deal': 878,\n             'say,': 879,\n             'oscar': 880,\n             'though,': 881,\n             'review': 882,\n             'talent': 883,\n             'novel': 884,\n             'comments': 885,\n             'forget': 886,\n             'hero': 887,\n             'leading': 888,\n             'message': 889,\n             'enjoyable': 890,\n             'incredibly': 891,\n             'level': 892,\n             'write': 893,\n             'career': 894,\n             'ridiculous': 895,\n             'check': 896,\n             'better.': 897,\n             'various': 898,\n             'plenty': 899,\n             'animation': 900,\n             'meant': 901,\n             'needed': 902,\n             'personal': 903,\n             'feature': 904,\n             'show.': 905,\n             'writer': 906,\n             'future': 907,\n             'herself': 908,\n             'avoid': 909,\n             'gone': 910,\n             'meet': 911,\n             'create': 912,\n             'work.': 913,\n             'hardly': 914,\n             'begin': 915,\n             'whom': 916,\n             'total': 917,\n             'country': 918,\n             'manages': 919,\n             'team': 920,\n             'theater': 921,\n             'watch.': 922,\n             '4': 923,\n             'forced': 924,\n             'fairly': 925,\n             'form': 926,\n             'up.': 927,\n             'particular': 928,\n             'there.': 929,\n             'hilarious': 930,\n             'appear': 931,\n             'points': 932,\n             'you.': 933,\n             'now,': 934,\n             'viewers': 935,\n             'fantastic': 936,\n             'effort': 937,\n             'interested': 938,\n             'follow': 939,\n             'unless': 940,\n             'weak': 941,\n             'words': 942,\n             'fast': 943,\n             'dramatic': 944,\n             'expecting': 945,\n             'tale': 946,\n             'unfortunately,': 947,\n             'joe': 948,\n             'zombie': 949,\n             'male': 950,\n             'older': 951,\n             'average': 952,\n             'her,': 953,\n             'general': 954,\n             'political': 955,\n             'attempts': 956,\n             'reviews': 957,\n             'mystery': 958,\n             'scenes,': 959,\n             'features': 960,\n             'sounds': 961,\n             'subject': 962,\n             '(a': 963,\n             'class': 964,\n             'whatever': 965,\n             'york': 966,\n             'pay': 967,\n             'crap': 968,\n             'lee': 969,\n             'up,': 970,\n             'scene,': 971,\n             'worked': 972,\n             'dance': 973,\n             'decides': 974,\n             'disney': 975,\n             'premise': 976,\n             'then,': 977,\n             'plain': 978,\n             'man,': 979,\n             \"let's\": 980,\n             'minute': 981,\n             'badly': 982,\n             'ask': 983,\n             'dialog': 984,\n             '20': 985,\n             'expected': 986,\n             'viewing': 987,\n             'forward': 988,\n             'open': 989,\n             'uses': 990,\n             'wait': 991,\n             '(who': 992,\n             'deep': 993,\n             'social': 994,\n             'storyline': 995,\n             'front': 996,\n             'crime': 997,\n             'directors': 998,\n             'writers': 999,\n             ...})"
      ]
     },
     "execution_count": 93,
     "metadata": {},
     "output_type": "execute_result"
    }
   ],
   "source": [
    "Text.vocab.stoi"
   ]
  },
  {
   "cell_type": "markdown",
   "metadata": {},
   "source": [
    "# Generate batches of vector"
   ]
  },
  {
   "cell_type": "code",
   "execution_count": 94,
   "metadata": {
    "trusted": true
   },
   "outputs": [],
   "source": [
    "train_iter, test_iter = data.BucketIterator.splits((train, test), batch_size=128, device='cuda', shuffle=True)"
   ]
  },
  {
   "cell_type": "code",
   "execution_count": 95,
   "metadata": {
    "trusted": true
   },
   "outputs": [],
   "source": [
    "batch = next(iter(train_iter))"
   ]
  },
  {
   "cell_type": "code",
   "execution_count": 96,
   "metadata": {
    "trusted": true
   },
   "outputs": [
    {
     "data": {
      "text/plain": [
       "tensor([[  10,    7,    3,  ...,  715,    8,   44],\n        [  10,    7,    3,  ...,   83, 1095, 2645],\n        [   2,   88, 2448,  ...,  161,    4,    0],\n        ...,\n        [2072,    3,   75,  ...,    4,    2, 1558],\n        [  10,   24,  397,  ...,   11, 1661,  856],\n        [  10,   20,    7,  ...,   12,  102, 5684]], device='cuda:0')"
      ]
     },
     "execution_count": 96,
     "metadata": {},
     "output_type": "execute_result"
    }
   ],
   "source": [
    "batch.text"
   ]
  },
  {
   "cell_type": "code",
   "execution_count": 97,
   "metadata": {
    "trusted": true
   },
   "outputs": [
    {
     "data": {
      "text/plain": [
       "tensor([2, 1, 2, 1, 1, 1, 1, 2, 1, 2, 2, 2, 1, 1, 2, 2, 2, 2, 1, 2, 2, 1, 1, 2,\n        1, 1, 2, 2, 1, 2, 1, 2, 2, 1, 1, 1, 2, 2, 1, 2, 1, 2, 1, 2, 2, 2, 1, 1,\n        1, 2, 2, 1, 1, 1, 1, 2, 2, 1, 2, 1, 2, 1, 1, 2, 2, 2, 2, 1, 2, 2, 1, 2,\n        2, 2, 2, 1, 1, 1, 2, 1, 1, 2, 2, 2, 2, 2, 2, 1, 1, 1, 2, 1, 2, 1, 1, 1,\n        1, 2, 2, 2, 1, 1, 1, 1, 2, 2, 1, 1, 1, 1, 1, 1, 2, 1, 2, 2, 1, 1, 1, 1,\n        2, 1, 2, 1, 2, 1, 2, 1], device='cuda:0')"
      ]
     },
     "execution_count": 97,
     "metadata": {},
     "output_type": "execute_result"
    }
   ],
   "source": [
    "batch.label"
   ]
  },
  {
   "cell_type": "markdown",
   "metadata": {},
   "source": [
    "# Create model"
   ]
  },
  {
   "cell_type": "code",
   "execution_count": 98,
   "metadata": {
    "trusted": true
   },
   "outputs": [],
   "source": [
    "class EmbNet(nn.Module):\n",
    "    def __init__(self,emb_size,hidden_size1,hidden_size2=200):\n",
    "        super().__init__()\n",
    "        self.embedding = nn.Embedding(emb_size,hidden_size1)\n",
    "        self.fc = nn.Linear(hidden_size2,3)\n",
    "        \n",
    "    def forward(self,x):\n",
    "        embeds = self.embedding(x).view(x.size(0),-1)\n",
    "        out = self.fc(embeds)\n",
    "        return F.log_softmax(out,dim=-1)"
   ]
  },
  {
   "cell_type": "code",
   "execution_count": 99,
   "metadata": {
    "trusted": true
   },
   "outputs": [],
   "source": [
    "model = EmbNet(len(Text.vocab.stoi),10)\n",
    "model = model.cuda()"
   ]
  },
  {
   "cell_type": "markdown",
   "metadata": {},
   "source": [
    "# Training"
   ]
  },
  {
   "cell_type": "code",
   "execution_count": 100,
   "metadata": {
    "trusted": true
   },
   "outputs": [],
   "source": [
    "optimizer = optim.Adam(model.parameters(),lr=0.001)"
   ]
  },
  {
   "cell_type": "code",
   "execution_count": 101,
   "metadata": {
    "trusted": true
   },
   "outputs": [],
   "source": [
    "def fit(epoch,model,data_loader,phase='training',volatile=False):\n",
    "    if phase == 'training':\n",
    "        model.train()\n",
    "    if phase == 'validation':\n",
    "        model.eval()\n",
    "        volatile=True\n",
    "    running_loss = 0.0\n",
    "    running_correct = 0\n",
    "    for batch_idx , batch in enumerate(data_loader):\n",
    "        text , target = batch.text , batch.label\n",
    "        text,target = text.cuda(),target.cuda()\n",
    "        \n",
    "        if phase == 'training':\n",
    "            optimizer.zero_grad()\n",
    "        output = model(text)\n",
    "        loss = F.nll_loss(output,target)\n",
    "        \n",
    "        running_loss += F.nll_loss(output,target,size_average=False).item()\n",
    "        preds = output.data.max(dim=1,keepdim=True)[1]\n",
    "        running_correct += preds.eq(target.data.view_as(preds)).cpu().sum()\n",
    "        if phase == 'training':\n",
    "            loss.backward()\n",
    "            optimizer.step()\n",
    "    \n",
    "    loss = running_loss/len(data_loader.dataset)\n",
    "    accuracy = 100. * running_correct/len(data_loader.dataset)\n",
    "    \n",
    "    #print('{phase} loss is {loss:{5}.{2}} and {phase} accuracy is {running_correct}/{len(data_loader.dataset)}{accuracy:{10}.{4}}')\n",
    "    print(\"Phase: {}\".format(phase),\n",
    "         \"\\tLoss is: {}\".format(loss),\n",
    "         \"\\tAccuray: {}\".format(accuracy))\n",
    "    \n",
    "    return loss,accuracy"
   ]
  },
  {
   "cell_type": "code",
   "execution_count": 102,
   "metadata": {
    "trusted": true
   },
   "outputs": [
    {
     "name": "stdout",
     "output_type": "stream",
     "text": [
      "Phase: training \tLoss is: 0.8509522882080078 \tAccuray: 49\nPhase: validation \tLoss is: 0.7289032999420166 \tAccuray: 52\nPhase: training \tLoss is: 0.7081740489196777 \tAccuray: 54\nPhase: validation \tLoss is: 0.7004621440124512 \tAccuray: 54\nPhase: training \tLoss is: 0.6890964532470704 \tAccuray: 56\nPhase: validation \tLoss is: 0.6915320790863038 \tAccuray: 55\nPhase: training \tLoss is: 0.6767106209564209 \tAccuray: 57\nPhase: validation \tLoss is: 0.6836703589630126 \tAccuray: 56\nPhase: training \tLoss is: 0.6633904511260986 \tAccuray: 60\nPhase: validation \tLoss is: 0.6755468628692627 \tAccuray: 58\nPhase: training \tLoss is: 0.6486277323913574 \tAccuray: 62\nPhase: validation \tLoss is: 0.6698261340332031 \tAccuray: 59\nPhase: training \tLoss is: 0.6313288395690918 \tAccuray: 64\nPhase: validation \tLoss is: 0.6583011404418946 \tAccuray: 61\nPhase: training \tLoss is: 0.6123784197235107 \tAccuray: 66\nPhase: validation \tLoss is: 0.6486508506774903 \tAccuray: 62\nPhase: training \tLoss is: 0.5923671392822266 \tAccuray: 68\nPhase: validation \tLoss is: 0.640663857421875 \tAccuray: 63\n"
     ]
    }
   ],
   "source": [
    "train_losses , train_accuracy = [],[]\n",
    "val_losses , val_accuracy = [],[]\n",
    "\n",
    "for epoch in range(1,10):\n",
    "\n",
    "    epoch_loss, epoch_accuracy = fit(epoch,model,train_iter,phase='training')\n",
    "    val_epoch_loss , val_epoch_accuracy = fit(epoch,model,test_iter,phase='validation')\n",
    "    train_losses.append(epoch_loss)\n",
    "    train_accuracy.append(epoch_accuracy)\n",
    "    val_losses.append(val_epoch_loss)\n",
    "    val_accuracy.append(val_epoch_accuracy)"
   ]
  }
 ],
 "metadata": {
  "kernelspec": {
   "display_name": "Python 3",
   "language": "python",
   "name": "python3"
  },
  "language_info": {
   "name": "python",
   "version": "3.6.4",
   "mimetype": "text/x-python",
   "codemirror_mode": {
    "name": "ipython",
    "version": 3
   },
   "pygments_lexer": "ipython3",
   "nbconvert_exporter": "python",
   "file_extension": ".py"
  }
 },
 "nbformat": 4,
 "nbformat_minor": 1
}
