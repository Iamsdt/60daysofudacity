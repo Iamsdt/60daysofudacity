{
 "cells": [
  {
   "cell_type": "code",
   "execution_count": 2,
   "metadata": {},
   "outputs": [],
   "source": [
    "text = 'An apple a day keeps the doctor away'"
   ]
  },
  {
   "cell_type": "markdown",
   "metadata": {},
   "source": [
    "## Convert text into characters"
   ]
  },
  {
   "cell_type": "code",
   "execution_count": 3,
   "metadata": {},
   "outputs": [
    {
     "name": "stdout",
     "output_type": "stream",
     "text": [
      "['A', 'n', ' ', 'a', 'p', 'p', 'l', 'e', ' ', 'a', ' ', 'd', 'a', 'y', ' ', 'k', 'e', 'e', 'p', 's', ' ', 't', 'h', 'e', ' ', 'd', 'o', 'c', 't', 'o', 'r', ' ', 'a', 'w', 'a', 'y']\n"
     ]
    }
   ],
   "source": [
    "print(list(text))"
   ]
  },
  {
   "cell_type": "markdown",
   "metadata": {},
   "source": [
    "# Convert text into words"
   ]
  },
  {
   "cell_type": "code",
   "execution_count": 4,
   "metadata": {},
   "outputs": [
    {
     "name": "stdout",
     "output_type": "stream",
     "text": [
      "['An', 'apple', 'a', 'day', 'keeps', 'the', 'doctor', 'away']\n"
     ]
    }
   ],
   "source": [
    "print(text.split())"
   ]
  },
  {
   "cell_type": "markdown",
   "metadata": {},
   "source": [
    "# N-gram representation"
   ]
  },
  {
   "cell_type": "code",
   "execution_count": 8,
   "metadata": {},
   "outputs": [
    {
     "name": "stdout",
     "output_type": "stream",
     "text": [
      "[('An', 'apple'), ('apple', 'a'), ('a', 'day'), ('day', 'keeps'), ('keeps', 'the'), ('the', 'doctor'), ('doctor', 'away')]\n"
     ]
    }
   ],
   "source": [
    "from nltk import ngrams\n",
    "\n",
    "print(list(ngrams(text.split(), 2)))"
   ]
  },
  {
   "cell_type": "code",
   "execution_count": 10,
   "metadata": {},
   "outputs": [
    {
     "name": "stdout",
     "output_type": "stream",
     "text": [
      "[('An', 'apple', 'a'), ('apple', 'a', 'day'), ('a', 'day', 'keeps'), ('day', 'keeps', 'the'), ('keeps', 'the', 'doctor'), ('the', 'doctor', 'away')]\n"
     ]
    }
   ],
   "source": [
    "print(list(ngrams(text.split(), 3)))"
   ]
  },
  {
   "cell_type": "markdown",
   "metadata": {},
   "source": [
    "# Vectorization"
   ]
  },
  {
   "cell_type": "markdown",
   "metadata": {},
   "source": [
    "## One hot encoding"
   ]
  },
  {
   "cell_type": "code",
   "execution_count": 20,
   "metadata": {},
   "outputs": [],
   "source": [
    "import numpy as np\n",
    "class Dictionary(object):\n",
    "    \n",
    "    def __init__(self):\n",
    "        self.word2idx = {}\n",
    "        self.idx2word = []\n",
    "        self.length = 0\n",
    "    \n",
    "    def add_word(self, word):\n",
    "        if word not in self.idx2word:\n",
    "            self.idx2word.append(word)\n",
    "            self.word2idx[word] = self.length + 1\n",
    "            self.length += 1\n",
    "    \n",
    "    def __len__(self):\n",
    "        return len(self.idx2word)\n",
    "    \n",
    "    def onehot_encoded(self, word):\n",
    "        vcc = np.zeros(self.length)\n",
    "        vcc[self.word2idx[word]-1] = 1\n",
    "        return vcc"
   ]
  },
  {
   "cell_type": "code",
   "execution_count": 21,
   "metadata": {},
   "outputs": [
    {
     "data": {
      "text/plain": [
       "8"
      ]
     },
     "execution_count": 21,
     "metadata": {},
     "output_type": "execute_result"
    }
   ],
   "source": [
    "dic = Dictionary()\n",
    "\n",
    "for tk in text.split():\n",
    "    dic.add_word(tk)\n",
    "\n",
    "\n",
    "dic.__len__()"
   ]
  },
  {
   "cell_type": "code",
   "execution_count": 23,
   "metadata": {},
   "outputs": [
    {
     "name": "stdout",
     "output_type": "stream",
     "text": [
      "An \t [1. 0. 0. 0. 0. 0. 0. 0.]\n",
      "apple \t [0. 1. 0. 0. 0. 0. 0. 0.]\n",
      "a \t [0. 0. 1. 0. 0. 0. 0. 0.]\n",
      "day \t [0. 0. 0. 1. 0. 0. 0. 0.]\n",
      "keeps \t [0. 0. 0. 0. 1. 0. 0. 0.]\n",
      "the \t [0. 0. 0. 0. 0. 1. 0. 0.]\n",
      "doctor \t [0. 0. 0. 0. 0. 0. 1. 0.]\n",
      "away \t [0. 0. 0. 0. 0. 0. 0. 1.]\n"
     ]
    }
   ],
   "source": [
    "for tk in text.split():\n",
    "    en = dic.onehot_encoded(tk)\n",
    "    print(tk, \"\\t\", en)"
   ]
  }
 ],
 "metadata": {
  "kernelspec": {
   "display_name": "Python 3",
   "language": "python",
   "name": "python3"
  },
  "language_info": {
   "codemirror_mode": {
    "name": "ipython",
    "version": 3
   },
   "file_extension": ".py",
   "mimetype": "text/x-python",
   "name": "python",
   "nbconvert_exporter": "python",
   "pygments_lexer": "ipython3",
   "version": "3.7.1"
  }
 },
 "nbformat": 4,
 "nbformat_minor": 2
}
