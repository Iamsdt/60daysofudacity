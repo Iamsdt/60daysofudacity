{
 "cells": [
  {
   "cell_type": "code",
   "execution_count": 0,
   "metadata": {
    "id": "Tn-4gLtvUgFs",
    "colab_type": "code",
    "colab": {}
   },
   "outputs": [],
   "source": [
    "from torchtext import data,datasets\n",
    "from torchtext.vocab import GloVe,FastText,CharNGram\n",
    "import torch.nn as nn\n",
    "import torch.optim as optim\n",
    "import torch.nn.functional as F\n",
    "from torch.autograd import Variable\n",
    "import torch\n",
    "import sys"
   ]
  },
  {
   "cell_type": "markdown",
   "metadata": {
    "id": "ATFN9GcMXb3X",
    "colab_type": "text"
   },
   "source": [
    "# Prepare Dataset"
   ]
  },
  {
   "cell_type": "code",
   "execution_count": 0,
   "metadata": {
    "id": "2niH38_lWq0u",
    "colab_type": "code",
    "colab": {}
   },
   "outputs": [],
   "source": [
    "from torchtext import data\n",
    "\n",
    "Text = data.Field(lower=True, batch_first=True, fix_length=20)\n",
    "Label = data.Field(sequential=False)"
   ]
  },
  {
   "cell_type": "code",
   "execution_count": 5,
   "metadata": {
    "id": "zr_V6s39XLRL",
    "colab_type": "code",
    "colab": {
     "base_uri": "https://localhost:8080/",
     "height": 52.0
    },
    "outputId": "60918a6b-a0a0-479f-ab8d-6744aa7add8b"
   },
   "outputs": [
    {
     "name": "stdout",
     "output_type": "stream",
     "text": [
      "downloading aclImdb_v1.tar.gz\n"
     ]
    },
    {
     "name": "stderr",
     "output_type": "stream",
     "text": [
      "aclImdb_v1.tar.gz: 100%|██████████| 84.1M/84.1M [00:06<00:00, 13.9MB/s]\n"
     ]
    }
   ],
   "source": [
    "from torchtext import datasets\n",
    "train, test = datasets.IMDB.splits(Text, Label)"
   ]
  },
  {
   "cell_type": "code",
   "execution_count": 6,
   "metadata": {
    "id": "JVGEvl8rXN6d",
    "colab_type": "code",
    "colab": {
     "base_uri": "https://localhost:8080/",
     "height": 70.0
    },
    "outputId": "c0b1d165-2f09-4dc8-ad35-a56258a1aff7"
   },
   "outputs": [
    {
     "name": "stdout",
     "output_type": "stream",
     "text": [
      "25000\n"
     ]
    },
    {
     "data": {
      "text/plain": [
       "{'label': <torchtext.data.field.Field at 0x7f0f5b9242e8>,\n",
       " 'text': <torchtext.data.field.Field at 0x7f0f5b924278>}"
      ]
     },
     "execution_count": 6,
     "metadata": {
      "tags": []
     },
     "output_type": "execute_result"
    }
   ],
   "source": [
    "print(len(train))\n",
    "train.fields"
   ]
  },
  {
   "cell_type": "markdown",
   "metadata": {
    "id": "HUwIWhywXgcb",
    "colab_type": "text"
   },
   "source": [
    "# Build vocabulary"
   ]
  },
  {
   "cell_type": "code",
   "execution_count": 7,
   "metadata": {
    "id": "ztnq2wXXXYn0",
    "colab_type": "code",
    "colab": {
     "base_uri": "https://localhost:8080/",
     "height": 52.0
    },
    "outputId": "4c2c1d7c-53d7-4359-ca90-cc24a36f22ac"
   },
   "outputs": [
    {
     "name": "stderr",
     "output_type": "stream",
     "text": [
      ".vector_cache/glove.6B.zip: 862MB [00:39, 21.6MB/s]                           \n",
      "100%|█████████▉| 399821/400000 [00:38<00:00, 10582.13it/s]"
     ]
    }
   ],
   "source": [
    "from torchtext.vocab import GloVe,FastText,CharNGram\n",
    "Text.build_vocab(train, vectors=GloVe(name='6B', dim=300),max_size=10000,min_freq=10)\n",
    "Label.build_vocab(train,)"
   ]
  },
  {
   "cell_type": "markdown",
   "metadata": {
    "id": "ia_7fmJUXtv7",
    "colab_type": "text"
   },
   "source": [
    "# vectors"
   ]
  },
  {
   "cell_type": "code",
   "execution_count": 8,
   "metadata": {
    "id": "M1xF8zvHXrWz",
    "colab_type": "code",
    "colab": {
     "base_uri": "https://localhost:8080/",
     "height": 141.0
    },
    "outputId": "9ba6ef3d-db2a-4237-89a1-4d2872f404a8"
   },
   "outputs": [
    {
     "data": {
      "text/plain": [
       "tensor([[ 0.0000,  0.0000,  0.0000,  ...,  0.0000,  0.0000,  0.0000],\n",
       "        [ 0.0000,  0.0000,  0.0000,  ...,  0.0000,  0.0000,  0.0000],\n",
       "        [ 0.0466,  0.2132, -0.0074,  ...,  0.0091, -0.2099,  0.0539],\n",
       "        ...,\n",
       "        [ 0.0000,  0.0000,  0.0000,  ...,  0.0000,  0.0000,  0.0000],\n",
       "        [ 0.7724, -0.1800,  0.2072,  ...,  0.6736,  0.2263, -0.2919],\n",
       "        [ 0.0000,  0.0000,  0.0000,  ...,  0.0000,  0.0000,  0.0000]])"
      ]
     },
     "execution_count": 8,
     "metadata": {
      "tags": []
     },
     "output_type": "execute_result"
    }
   ],
   "source": [
    "Text.vocab.vectors"
   ]
  },
  {
   "cell_type": "markdown",
   "metadata": {
    "id": "SUOpH2kBYPwq",
    "colab_type": "text"
   },
   "source": [
    "# Build model"
   ]
  },
  {
   "cell_type": "code",
   "execution_count": 0,
   "metadata": {
    "id": "Oy13XiY0XxTM",
    "colab_type": "code",
    "colab": {}
   },
   "outputs": [],
   "source": [
    "class EmbNet(nn.Module):\n",
    "    def __init__(self,emb_size,hidden_size1,hidden_size2=400):\n",
    "        super().__init__()\n",
    "        self.embedding = nn.Embedding(emb_size,hidden_size1)\n",
    "        self.fc1 = nn.Linear(hidden_size2,3)\n",
    "\n",
    "        \n",
    "    def forward(self,x):\n",
    "        embeds = self.embedding(x).view(x.size(0),-1)\n",
    "        out = self.fc1(embeds)\n",
    "        return F.log_softmax(out,dim=-1)"
   ]
  },
  {
   "cell_type": "code",
   "execution_count": 0,
   "metadata": {
    "id": "3AQUoajiYUxx",
    "colab_type": "code",
    "colab": {}
   },
   "outputs": [],
   "source": [
    "model = EmbNet(len(Text.vocab.stoi),300,6000)\n",
    "model = model.cuda()"
   ]
  },
  {
   "cell_type": "markdown",
   "metadata": {
    "id": "0JKolBlrYde8",
    "colab_type": "text"
   },
   "source": [
    "# Loading pretrained Model"
   ]
  },
  {
   "cell_type": "code",
   "execution_count": 0,
   "metadata": {
    "id": "jLwKcolNYciB",
    "colab_type": "code",
    "colab": {}
   },
   "outputs": [],
   "source": [
    "model.embedding.weight.data = Text.vocab.vectors.cuda()"
   ]
  },
  {
   "cell_type": "markdown",
   "metadata": {
    "id": "dGX0mYx6YoJP",
    "colab_type": "text"
   },
   "source": [
    "# Freeze Model"
   ]
  },
  {
   "cell_type": "code",
   "execution_count": 0,
   "metadata": {
    "id": "DB9TtQl4YmMJ",
    "colab_type": "code",
    "colab": {}
   },
   "outputs": [],
   "source": [
    "model.embedding.weight.requires_grad = False"
   ]
  },
  {
   "cell_type": "code",
   "execution_count": 0,
   "metadata": {
    "id": "TPCOvRSOYt76",
    "colab_type": "code",
    "colab": {}
   },
   "outputs": [],
   "source": [
    "#optimizer = optim.SGD(model.parameters(),lr=0.001)\n",
    "optimizer = optim.Adam([ param for param in model.parameters() if param.requires_grad == True],lr=0.001)"
   ]
  },
  {
   "cell_type": "code",
   "execution_count": 0,
   "metadata": {
    "id": "hVICdslEY0cc",
    "colab_type": "code",
    "colab": {}
   },
   "outputs": [],
   "source": [
    "train_iter, test_iter = data.BucketIterator.splits((train, test), batch_size=64, device=None,shuffle=True)\n",
    "train_iter.repeat = False\n",
    "test_iter.repeat = False"
   ]
  },
  {
   "cell_type": "code",
   "execution_count": 0,
   "metadata": {
    "id": "FGn0r-yzY-ii",
    "colab_type": "code",
    "colab": {}
   },
   "outputs": [],
   "source": [
    "def fit(epoch,model,data_loader,phase='training',volatile=False):\n",
    "    if phase == 'training':\n",
    "        model.train()\n",
    "    if phase == 'validation':\n",
    "        model.eval()\n",
    "        volatile=True\n",
    "    running_loss = 0.0\n",
    "    running_correct = 0\n",
    "    for batch_idx , batch in enumerate(data_loader):\n",
    "        text , target = batch.text , batch.label\n",
    "        text,target = text.cuda(),target.cuda()\n",
    "        \n",
    "        if phase == 'training':\n",
    "            optimizer.zero_grad()\n",
    "        output = model(text)\n",
    "        loss = F.nll_loss(output,target)\n",
    "        \n",
    "        running_loss += F.nll_loss(output,target,size_average=False).item()\n",
    "        preds = output.data.max(dim=1,keepdim=True)[1]\n",
    "        running_correct += preds.eq(target.data.view_as(preds)).cpu().sum()\n",
    "        if phase == 'training':\n",
    "            loss.backward()\n",
    "            optimizer.step()\n",
    "    \n",
    "    loss = running_loss/len(data_loader.dataset)\n",
    "    accuracy = 100. * running_correct/len(data_loader.dataset)\n",
    "    \n",
    "    print(\"Phase: {}\".format(phase),\n",
    "         \"\\tLoss is: {}\".format(loss),\n",
    "         \"\\tAccuray: {}\".format(accuracy))\n",
    "    return loss,accuracy"
   ]
  },
  {
   "cell_type": "code",
   "execution_count": 35,
   "metadata": {
    "id": "bWS_LSz4ZCna",
    "colab_type": "code",
    "colab": {
     "base_uri": "https://localhost:8080/",
     "height": 372.0
    },
    "outputId": "c7594109-e385-40c4-d484-cd0ebc9e73b1"
   },
   "outputs": [
    {
     "name": "stderr",
     "output_type": "stream",
     "text": [
      "/usr/local/lib/python3.6/dist-packages/torch/nn/_reduction.py:46: UserWarning: size_average and reduce args will be deprecated, please use reduction='sum' instead.\n",
      "  warnings.warn(warning.format(ret))\n"
     ]
    },
    {
     "name": "stdout",
     "output_type": "stream",
     "text": [
      "Phase: training \tLoss is: 0.6042271133422852 \tAccuray: 67\n",
      "Phase: validation \tLoss is: 0.6506933036804199 \tAccuray: 63\n",
      "Phase: training \tLoss is: 0.5851746073150634 \tAccuray: 68\n",
      "Phase: validation \tLoss is: 0.6586312265014649 \tAccuray: 63\n",
      "Phase: training \tLoss is: 0.5771122974395752 \tAccuray: 69\n",
      "Phase: validation \tLoss is: 0.6656799038696289 \tAccuray: 63\n",
      "Phase: training \tLoss is: 0.5660841520690918 \tAccuray: 70\n",
      "Phase: validation \tLoss is: 0.6762712435913086 \tAccuray: 63\n",
      "Phase: training \tLoss is: 0.5589513088226319 \tAccuray: 70\n",
      "Phase: validation \tLoss is: 0.6832228195953369 \tAccuray: 63\n",
      "Phase: training \tLoss is: 0.555998614730835 \tAccuray: 70\n",
      "Phase: validation \tLoss is: 0.6870256956481934 \tAccuray: 62\n",
      "Phase: training \tLoss is: 0.5501565885925292 \tAccuray: 71\n",
      "Phase: validation \tLoss is: 0.7041317966461181 \tAccuray: 62\n",
      "Phase: training \tLoss is: 0.5504335124206543 \tAccuray: 71\n",
      "Phase: validation \tLoss is: 0.6990523676300049 \tAccuray: 62\n",
      "Phase: training \tLoss is: 0.549692834854126 \tAccuray: 71\n",
      "Phase: validation \tLoss is: 0.7082483306121826 \tAccuray: 62\n"
     ]
    }
   ],
   "source": [
    "train_losses , train_accuracy = [],[]\n",
    "val_losses , val_accuracy = [],[]\n",
    "\n",
    "for epoch in range(1,10):\n",
    "\n",
    "    epoch_loss, epoch_accuracy = fit(epoch,model,train_iter,phase='training')\n",
    "    val_epoch_loss , val_epoch_accuracy = fit(epoch,model,test_iter,phase='validation')\n",
    "    train_losses.append(epoch_loss)\n",
    "    train_accuracy.append(epoch_accuracy)\n",
    "    val_losses.append(val_epoch_loss)\n",
    "    val_accuracy.append(val_epoch_accuracy)"
   ]
  },
  {
   "cell_type": "code",
   "execution_count": 38,
   "metadata": {
    "id": "hsSqnsI-aJ74",
    "colab_type": "code",
    "colab": {
     "base_uri": "https://localhost:8080/",
     "height": 34.0
    },
    "outputId": "dbcd378c-82d2-4751-e5c1-9572ede9a87b"
   },
   "outputs": [
    {
     "data": {
      "text/plain": [
       "(9, 9)"
      ]
     },
     "execution_count": 38,
     "metadata": {
      "tags": []
     },
     "output_type": "execute_result"
    }
   ],
   "source": [
    "len(train_losses), len(val_losses)"
   ]
  },
  {
   "cell_type": "code",
   "execution_count": 41,
   "metadata": {
    "id": "1uXPh-tbZx3m",
    "colab_type": "code",
    "colab": {
     "base_uri": "https://localhost:8080/",
     "height": 286.0
    },
    "outputId": "6d274ff4-5611-48e9-b71e-157ead740ac8"
   },
   "outputs": [
    {
     "data": {
      "text/plain": [
       "[<matplotlib.lines.Line2D at 0x7f0f2efdb588>]"
      ]
     },
     "execution_count": 41,
     "metadata": {
      "tags": []
     },
     "output_type": "execute_result"
    },
    {
     "data": {
      "image/png": "[encoded data removed]",
      "text/plain": [
       "<Figure size 432x288 with 1 Axes>"
      ]
     },
     "metadata": {
      "tags": []
     },
     "output_type": "display_data"
    }
   ],
   "source": [
    "from matplotlib import pyplot as plt\n",
    "plt.plot(train_losses, label=\"Training loss\")\n",
    "plt.plot(val_losses, label=\"Training loss\")"
   ]
  },
  {
   "cell_type": "code",
   "execution_count": 42,
   "metadata": {
    "id": "PbJQJehqbAM3",
    "colab_type": "code",
    "colab": {
     "base_uri": "https://localhost:8080/",
     "height": 286.0
    },
    "outputId": "4d88ce38-a625-417e-8e4e-a2c6725844ca"
   },
   "outputs": [
    {
     "data": {
      "text/plain": [
       "[<matplotlib.lines.Line2D at 0x7f0f2ec9a908>]"
      ]
     },
     "execution_count": 42,
     "metadata": {
      "tags": []
     },
     "output_type": "execute_result"
    },
    {
     "data": {
      "image/png": "[encoded data removed]",
      "text/plain": [
       "<Figure size 432x288 with 1 Axes>"
      ]
     },
     "metadata": {
      "tags": []
     },
     "output_type": "display_data"
    }
   ],
   "source": [
    "plt.plot(train_accuracy, label=\"Training loss\")\n",
    "plt.plot(val_accuracy, label=\"Training loss\")"
   ]
  },
  {
   "cell_type": "code",
   "execution_count": 43,
   "metadata": {
    "id": "0rSp9uuiZX1g",
    "colab_type": "code",
    "colab": {
     "base_uri": "https://localhost:8080/",
     "height": 372.0
    },
    "outputId": "4d1c6d46-a2fe-47ea-a7a1-05858bf1ba37"
   },
   "outputs": [
    {
     "name": "stderr",
     "output_type": "stream",
     "text": [
      "/usr/local/lib/python3.6/dist-packages/torch/nn/_reduction.py:46: UserWarning: size_average and reduce args will be deprecated, please use reduction='sum' instead.\n",
      "  warnings.warn(warning.format(ret))\n"
     ]
    },
    {
     "name": "stdout",
     "output_type": "stream",
     "text": [
      "Phase: training \tLoss is: 0.5499911724090576 \tAccuray: 71\n",
      "Phase: validation \tLoss is: 0.715951830215454 \tAccuray: 62\n",
      "Phase: training \tLoss is: 0.5430210622406005 \tAccuray: 72\n",
      "Phase: validation \tLoss is: 0.7226534217834473 \tAccuray: 62\n",
      "Phase: training \tLoss is: 0.5442351079559327 \tAccuray: 72\n",
      "Phase: validation \tLoss is: 0.7180998049163818 \tAccuray: 62\n",
      "Phase: training \tLoss is: 0.5408957821655274 \tAccuray: 72\n",
      "Phase: validation \tLoss is: 0.7328949489593506 \tAccuray: 62\n",
      "Phase: training \tLoss is: 0.5379229023361206 \tAccuray: 72\n",
      "Phase: validation \tLoss is: 0.733945712890625 \tAccuray: 61\n",
      "Phase: training \tLoss is: 0.536673169631958 \tAccuray: 72\n",
      "Phase: validation \tLoss is: 0.73663930519104 \tAccuray: 62\n",
      "Phase: training \tLoss is: 0.5372424775695801 \tAccuray: 72\n",
      "Phase: validation \tLoss is: 0.7348388248443604 \tAccuray: 62\n",
      "Phase: training \tLoss is: 0.5364278735351562 \tAccuray: 73\n",
      "Phase: validation \tLoss is: 0.7449630688476563 \tAccuray: 61\n",
      "Phase: training \tLoss is: 0.5365013414764405 \tAccuray: 72\n",
      "Phase: validation \tLoss is: 0.7399680548858643 \tAccuray: 62\n"
     ]
    }
   ],
   "source": [
    "for epoch in range(1,10):\n",
    "\n",
    "    epoch_loss, epoch_accuracy = fit(epoch,model,train_iter,phase='training')\n",
    "    val_epoch_loss , val_epoch_accuracy = fit(epoch,model,test_iter,phase='validation')\n",
    "    train_losses.append(epoch_loss)\n",
    "    train_accuracy.append(epoch_accuracy)\n",
    "    val_losses.append(val_epoch_loss)\n",
    "    val_accuracy.append(val_epoch_accuracy)"
   ]
  },
  {
   "cell_type": "code",
   "execution_count": 44,
   "metadata": {
    "id": "RxaLagkhbPcu",
    "colab_type": "code",
    "colab": {
     "base_uri": "https://localhost:8080/",
     "height": 286.0
    },
    "outputId": "b13520fe-03fe-45e0-f10c-7d965895638d"
   },
   "outputs": [
    {
     "data": {
      "text/plain": [
       "[<matplotlib.lines.Line2D at 0x7f0f2f2ea4e0>]"
      ]
     },
     "execution_count": 44,
     "metadata": {
      "tags": []
     },
     "output_type": "execute_result"
    },
    {
     "data": {
      "image/png": "[encoded data removed]",
      "text/plain": [
       "<Figure size 432x288 with 1 Axes>"
      ]
     },
     "metadata": {
      "tags": []
     },
     "output_type": "display_data"
    }
   ],
   "source": [
    "plt.plot(train_losses, label=\"Training loss\")\n",
    "plt.plot(val_losses, label=\"Training loss\")"
   ]
  },
  {
   "cell_type": "code",
   "execution_count": 45,
   "metadata": {
    "id": "aptlbq6kbSuj",
    "colab_type": "code",
    "colab": {
     "base_uri": "https://localhost:8080/",
     "height": 286.0
    },
    "outputId": "a10519dd-9071-4859-ef91-9e71cefe42a7"
   },
   "outputs": [
    {
     "data": {
      "text/plain": [
       "[<matplotlib.lines.Line2D at 0x7f0f2eec2e10>]"
      ]
     },
     "execution_count": 45,
     "metadata": {
      "tags": []
     },
     "output_type": "execute_result"
    },
    {
     "data": {
      "image/png": "[encoded data removed]",
      "text/plain": [
       "<Figure size 432x288 with 1 Axes>"
      ]
     },
     "metadata": {
      "tags": []
     },
     "output_type": "display_data"
    }
   ],
   "source": [
    "plt.plot(train_accuracy, label=\"Training loss\")\n",
    "plt.plot(val_accuracy, label=\"Training loss\")"
   ]
  }
 ],
 "metadata": {
  "colab": {
   "name": "Lesson 6 Word embeding.ipynb",
   "version": "0.3.2",
   "provenance": []
  },
  "kernelspec": {
   "name": "python3",
   "display_name": "Python 3"
  },
  "accelerator": "GPU"
 },
 "nbformat": 4,
 "nbformat_minor": 0
}
